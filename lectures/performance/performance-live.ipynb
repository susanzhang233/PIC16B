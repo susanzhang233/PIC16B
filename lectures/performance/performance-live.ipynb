{
 "cells": [
  {
   "cell_type": "markdown",
   "id": "ea46a4a2",
   "metadata": {},
   "source": [
    "# Some Notes on Performance for Python Code\n",
    "\n",
    "<figure class=\"image\" style=\"width:30%\">\n",
    "  <img src=\"https://raw.githubusercontent.com/PhilChodrow/PIC16B/master/_images/faster.jpeg\" alt=\"Picard, with caption 'Make it faster, Number One.\">\n",
    "    <figcaption><i>What we're doing today.</i></figcaption>\n",
    "</figure>\n",
    "\n",
    "In this one-off lecture, we'll consider a question that often pops up when writing Python code: \n",
    "\n",
    "> How can I make my code *faster*? \n",
    "\n",
    "There are a large number of things to keep in mind when considering how to make our code performant. Today, we'll briefly survey just a few of the possibilities. Here's a [nice list](https://stackify.com/20-simple-python-performance-tuning-tips/) of useful tips. \n",
    "\n",
    "## Numpy and Pandas\n",
    "\n",
    "As you know, code that is primarily related to numerical computations or manipulation of rectangular data should almost always be performed in Numpy or Pandas. Both of these tools bring considerable performance improvements over base Python code in the situations to which they are suited, and should generally be used when possible. I won't be talking more about these topics today, but please remember that using these tools for appropriate problems is one of the easiest and biggest wins for performance. \n",
    "\n",
    "## 0. Should I Write This Code? \n",
    "\n",
    "So, you've got a task that you'd like to perform in Python, and you can see the outlines of a good code solution. *Should you write code for your solution?* Maybe! Before you do, take a moment to look around and see what else might be available. Public and well-established functions will almost always be more reliable and performant than what you hack together. Use them whenever possible! \n",
    "\n",
    "Suppose we'd like to iterate through all possible pairs of elements from a list. Here's one way: "
   ]
  },
  {
   "cell_type": "code",
   "execution_count": null,
   "id": "65750f71",
   "metadata": {},
   "outputs": [],
   "source": [
    "captains = [\"Picard\", \"Sisko\", \"Janeway\", \"Archer\", \"Georgiou\"]\n",
    "\n"
   ]
  },
  {
   "cell_type": "code",
   "execution_count": null,
   "id": "9957755d",
   "metadata": {},
   "outputs": [],
   "source": []
  },
  {
   "cell_type": "code",
   "execution_count": null,
   "id": "02b29deb",
   "metadata": {},
   "outputs": [],
   "source": []
  },
  {
   "cell_type": "markdown",
   "id": "28da6395",
   "metadata": {},
   "source": [
    "This code looks pretty fast, but a quick Google search for \"iterate through all pairs python\" turns up this [StackOverflow](https://stackoverflow.com/questions/942543/operation-on-every-pair-of-element-in-a-list/37907649) post, indicating that I should use `itertools.product()`. "
   ]
  },
  {
   "cell_type": "code",
   "execution_count": null,
   "id": "0e25a54b",
   "metadata": {},
   "outputs": [],
   "source": []
  },
  {
   "cell_type": "code",
   "execution_count": null,
   "id": "fde4122b",
   "metadata": {},
   "outputs": [],
   "source": []
  },
  {
   "cell_type": "markdown",
   "id": "a1fe0819",
   "metadata": {},
   "source": [
    "Use of `itertools.product()` saved me from writing some code, and is also noticeably faster. Both kinds of savings will tend to become more pronounced the more complex the task that you need to accomplish. "
   ]
  },
  {
   "cell_type": "markdown",
   "id": "4cbb4d00",
   "metadata": {},
   "source": [
    "## 1. *Should* I Optimize This Code? \n",
    "\n",
    "Let's now suppose that you've done your research and determined that you do need to write up your own solution. Indeed, you've already done it. Great job! But now we face the next question: should you spend time making your code faster? \n",
    "\n",
    "<figure class=\"image\" style=\"width:30%\">\n",
    "  <img src=\"https://media.makeameme.org/created/one-does-not-d06ab06f16.jpg\" alt=\"Boromir, with caption 'One does not simply make some code run fast.\">\n",
    "    <figcaption><i></i></figcaption>\n",
    "</figure>\n",
    "\n",
    "When creating any kind of code product, we face various decisions about how to best allocate our time and energy. Making code faster can be a very helpful or even necessary thing to do. Before choosing to spend effort optimizing your code, ask yourself the following questions: \n",
    "\n",
    "1. Does my code run in practical (non-annoying) time on realistic cases? \n",
    "2. How many times will my code be run? By how many people? \n",
    "3. Is the code that I am considering optimizing a major part of my overall project? \n",
    "\n",
    "This third question is especially important. Maybe you have a function that takes 1 ms to run. This might be considered relatively slow! Maybe you can improve it to 0.1 ms with effort, a 10x speed up. But if that function will only be called once or twice in a given interaction, your user is unlikely to notice the difference. A function that takes 1 µs but which is called 1M times is much more important to optimize, and even a 2x speedup will have a much larger benefit for your user. \n",
    "\n",
    "## 2. *Which* Code Should I Optimize? \n",
    "\n",
    "Suppose you have a function or even an entire program. Which parts of it need your attention? A *profiler* can be used to analyze your code and provide important information, like: \n",
    "\n",
    "1. How many times are various functions within your code called? \n",
    "2. How much time does each function take per call? \n",
    "\n",
    "There are a number of different profilers available for Python. `cProfile` comes bundled with all modern Python distributions and is a traditional choice. We'll illustrate cProfile here. Another option I found is [Yappi](https://pypi.org/project/yappi/) (Yet Another Python ProfIler), which has several advanced features. It can be installed via the Anaconda Environments Pane. \n",
    "\n",
    "Let's write a simple function to count distinct elements in a list. "
   ]
  },
  {
   "cell_type": "code",
   "execution_count": null,
   "id": "96c75955",
   "metadata": {},
   "outputs": [],
   "source": []
  },
  {
   "cell_type": "markdown",
   "id": "281e4a6f",
   "metadata": {},
   "source": [
    "Here's some data on which we'll call our function. "
   ]
  },
  {
   "cell_type": "code",
   "execution_count": null,
   "id": "82d98a1f",
   "metadata": {},
   "outputs": [],
   "source": [
    "s = \"\"\"\n",
    "Space, the final frontier\n",
    "These are the voyages of the Starship Enterprise\n",
    "Its five year mission\n",
    "To explore strange new worlds\n",
    "To seek out new life\n",
    "And new civilizations\n",
    "To boldly go where no one has gone before\"\"\"\n",
    "\n",
    "L = (s*100).lower().split()\n",
    "len(L), len(set(L))"
   ]
  },
  {
   "cell_type": "code",
   "execution_count": null,
   "id": "b77e18d2",
   "metadata": {},
   "outputs": [],
   "source": []
  },
  {
   "cell_type": "code",
   "execution_count": null,
   "id": "cbcf2538",
   "metadata": {},
   "outputs": [],
   "source": []
  },
  {
   "cell_type": "markdown",
   "id": "d2a519da",
   "metadata": {},
   "source": [
    "Hmmm, that's pretty slow. Was it the way that we're updating our dictionary, maybe? Should we seek a faster method than `count()` for actually counting objects? For these kinds of questions, profiling is exactly what we need: "
   ]
  },
  {
   "cell_type": "code",
   "execution_count": null,
   "id": "2c45a011",
   "metadata": {},
   "outputs": [],
   "source": []
  },
  {
   "cell_type": "markdown",
   "id": "213d253c",
   "metadata": {},
   "source": [
    "The cProfile output contains lines for each of the function calls that the profiler was able to detect (note: it doesn't always detect all functions used). Note that dictionary update takes essentially no time at all, while the `.count()` method occupies the bulk of the time spent executing this function. To reduce this, we essentially have three options: \n",
    "\n",
    "1. We can reduce the time spent executing each `count()` call, by using a faster method. \n",
    "2. We can reduce the number of times `count()` is executed. \n",
    "3. We can completely refactor our code. \n",
    "\n",
    "I don't know of a faster version of `count()`, but it's not hard to dramatically reduce the number of times we execute it: "
   ]
  },
  {
   "cell_type": "code",
   "execution_count": null,
   "id": "2923d505",
   "metadata": {},
   "outputs": [],
   "source": []
  },
  {
   "cell_type": "code",
   "execution_count": null,
   "id": "cb5265a8",
   "metadata": {},
   "outputs": [],
   "source": []
  },
  {
   "cell_type": "markdown",
   "id": "fba7327f",
   "metadata": {},
   "source": [
    "That's **much** faster! cProfile can tell us why: "
   ]
  },
  {
   "cell_type": "code",
   "execution_count": null,
   "id": "7375ecd3",
   "metadata": {},
   "outputs": [],
   "source": []
  },
  {
   "cell_type": "markdown",
   "id": "59f8cc77",
   "metadata": {},
   "source": [
    "We dramatically reduced the number of times that the `count()` function was called, resulting in a large speed-up. \n",
    "\n",
    "In fact, we can do even better than this by changing our entire strategy. Instead of `count`ing each distinct element, we'll instead simply initialize a count and add to it each time we encounter the appropriate item. This works well because dictionary operations are extremely fast: "
   ]
  },
  {
   "cell_type": "code",
   "execution_count": null,
   "id": "aee55757",
   "metadata": {},
   "outputs": [],
   "source": []
  },
  {
   "cell_type": "code",
   "execution_count": null,
   "id": "cb0aa639",
   "metadata": {},
   "outputs": [],
   "source": []
  },
  {
   "cell_type": "code",
   "execution_count": null,
   "id": "0fafb3de",
   "metadata": {},
   "outputs": [],
   "source": []
  },
  {
   "cell_type": "markdown",
   "id": "ad36d674",
   "metadata": {},
   "source": [
    "cProfile tells us that we have a large number of calls to `dict.get()`, but access of dictionary elements is exceptionally fast (that's what dictionaries are optimized for), so this doesn't pose a major problem. \n",
    "\n",
    "However, we could do even better still by going back to Question 0: *Should* I write this code?"
   ]
  },
  {
   "cell_type": "code",
   "execution_count": null,
   "id": "fb0648f8",
   "metadata": {},
   "outputs": [],
   "source": []
  },
  {
   "cell_type": "code",
   "execution_count": null,
   "id": "f3ec5165",
   "metadata": {},
   "outputs": [],
   "source": []
  },
  {
   "cell_type": "code",
   "execution_count": null,
   "id": "5d055009",
   "metadata": {},
   "outputs": [],
   "source": []
  },
  {
   "cell_type": "markdown",
   "id": "1891ab84",
   "metadata": {},
   "source": [
    "Relative to our initial version of the code, we've achieved a 1000x speedup by relying on built-in functions. Even our relatively efficient hand-written version is roughly 4x slower. "
   ]
  },
  {
   "cell_type": "markdown",
   "id": "0d67639c",
   "metadata": {},
   "source": [
    "# Various Tips\n",
    "\n",
    "## Reduce Function Calls\n",
    "\n",
    "The simple act of calling a function in Python can carry some performance overhead. For this reason, reducing the number of times that functions are called can lead to performance improvements, even when there's no otherwise-obvious redundancy. "
   ]
  },
  {
   "cell_type": "code",
   "execution_count": null,
   "id": "dc89a090",
   "metadata": {},
   "outputs": [],
   "source": []
  },
  {
   "cell_type": "code",
   "execution_count": null,
   "id": "c58bcddc",
   "metadata": {},
   "outputs": [],
   "source": []
  },
  {
   "cell_type": "markdown",
   "id": "51912d02",
   "metadata": {},
   "source": [
    "This function is logically coded, but it involves many calls to the `__add__` method of strings. Unfortunately, detecting this issue can be difficult for cProfile: "
   ]
  },
  {
   "cell_type": "code",
   "execution_count": null,
   "id": "2f970501",
   "metadata": {},
   "outputs": [],
   "source": []
  },
  {
   "cell_type": "code",
   "execution_count": null,
   "id": "e1bc8f92",
   "metadata": {},
   "outputs": [],
   "source": []
  },
  {
   "cell_type": "markdown",
   "id": "8f5f2182",
   "metadata": {},
   "source": [
    "The output doesn't make clear that there are any issues involving functions being called multiple times. But if we know to look out for this issue, then we might decide to use other tools, with the benefit of shortening our code. "
   ]
  },
  {
   "cell_type": "code",
   "execution_count": null,
   "id": "3e8aac4b",
   "metadata": {},
   "outputs": [],
   "source": []
  },
  {
   "cell_type": "code",
   "execution_count": null,
   "id": "7a29165b",
   "metadata": {},
   "outputs": [],
   "source": []
  },
  {
   "cell_type": "code",
   "execution_count": null,
   "id": "129064d8",
   "metadata": {},
   "outputs": [],
   "source": []
  },
  {
   "cell_type": "markdown",
   "id": "ac4968e0",
   "metadata": {},
   "source": [
    "## Multithreading\n",
    "\n",
    "A popular myth from a few years back asserted that most humans use only 10% of their brain most of the time. This is [not in fact true](https://en.wikipedia.org/wiki/Ten_percent_of_the_brain_myth). What **is** true is that your Python process uses only (about) 10% of the full computational resources of your computer at any given moment. \n",
    "\n",
    "More concretely, most modern personal (Intel-based) computers  possess somewhere between 2 and 6 *cores*, with 4 being perhaps the most common number. Each of these cores usually possesses 2 *threads*. Each thread is a separate process that can be used for executing tasks. When we run Python, we typically do so in a single-threaded environment, which means that our commands are executed by only one of our computer's threads. If your machine has 4 cores, and therefore 8 threads, this corresponds to only 12.5% of your overall CPU resources. \n",
    "\n",
    "*Multithreading* allows us to perform computations using more than one core. For large jobs, this can be beneficial. If your problem admits multithreading, if you use 4 threads, you may be able to finish your computation roughly 4 times as quickly. Nice! \n",
    "\n",
    "### Caution\n",
    "\n",
    "Multithreading sounds exciting, and indeed, it can be a useful thing to do. However, multithreading should usually be your **last** measure for improving performance. Here's why: \n",
    "\n",
    "1. The speedup offered by multithreading is limited by the number of threads available on your computer. In my case, for example, my laptop has 8 threads. This means that the largest possible benefit I could ever obtain from multithreading is an 8x speed up. That's not nothing, but one can often obtain better speedups by revising one's logic and coding constructs, as demonstrated above. \n",
    "2. Multithreading can also place undue burdens on your hardware. There's **a reason** that many processes default to single-threaded runtimes. Your laptop simply isn't built to have all of its computational power engaged all the time. Using many threads for extended periods will likely overheat your system, resulting in thermal throttling. Your CPU will automatically reduce the rate of computation on each thread in order to dissipate heat. Thus, you could actually end up with **slower** code this way. \n",
    "3. There's overhead associated with distributing jobs between threads and syncing them back up. This overhead is manifest both in the time you need to spend writing code in order to manage these processes, and in the actual computation time as well. \n",
    "4. Multithreading really only \"works\" for processes that can be decoupled into independent components or chunks of data. Complex processes in which the current results of computation depend on previous results are often not suitable for multithreading. \n",
    "\n",
    "For these reasons, multithreading should only be considered **after** you're pretty confident that you've exhausted your other means of speeding up your code. \n",
    "\n",
    "### Example\n",
    "\n",
    "Let's finish up with a simple example of multithreading in action. This is a toy example rather than a practical illustration. In a coming Discussion, we will work through some of the important and occasionally subtle associated with successfully deploying multithreading in practice. \n",
    "\n",
    "The simplest way to spawn multiple threads is through the `threading` module. One first defines a function which should be executed on each thread. This function presumably performs some time-intensive computation. One then spawns the desired number of `threading.Thread()` objects with `target` equal to the function which should be executed. Finally, one then `start`s each thread, and calls `join()` to ensure that no code is executed in the main process before each of the spawned threads finishes their work. \n",
    "\n",
    "This example is lightly modified from one presented [here](https://www.geeksforgeeks.org/multithreading-python-set-1/)."
   ]
  },
  {
   "cell_type": "code",
   "execution_count": null,
   "id": "3ddbe8f8",
   "metadata": {},
   "outputs": [],
   "source": [
    "import threading\n",
    "import os\n",
    "\n",
    "def task1():\n",
    "    print(\"Task 1 assigned to thread: {}\".format(threading.current_thread().name))\n",
    "    print(\"ID of process running task 1: {}\".format(os.getpid()))\n",
    "    print(\"To boldly go\")\n",
    "    print()\n",
    "    \n",
    "def task2():\n",
    "    print(\"Task 2 assigned to thread: {}\".format(threading.current_thread().name))\n",
    "    print(\"ID of process running task 2: {}\".format(os.getpid()))\n",
    "    print(\"Where no one has gone before\")\n",
    "    print()\n",
    "  "
   ]
  },
  {
   "cell_type": "code",
   "execution_count": null,
   "id": "cb34975f",
   "metadata": {},
   "outputs": [],
   "source": []
  }
 ],
 "metadata": {
  "kernelspec": {
   "display_name": "Python [conda env:PIC16B] *",
   "language": "python",
   "name": "conda-env-PIC16B-py"
  },
  "language_info": {
   "codemirror_mode": {
    "name": "ipython",
    "version": 3
   },
   "file_extension": ".py",
   "mimetype": "text/x-python",
   "name": "python",
   "nbconvert_exporter": "python",
   "pygments_lexer": "ipython3",
   "version": "3.7.1"
  }
 },
 "nbformat": 4,
 "nbformat_minor": 5
}
