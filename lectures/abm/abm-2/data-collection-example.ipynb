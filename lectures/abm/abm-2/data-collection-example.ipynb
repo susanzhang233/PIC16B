{
 "cells": [
  {
   "cell_type": "markdown",
   "id": "16c36347",
   "metadata": {},
   "source": [
    "## Collecting Data"
   ]
  },
  {
   "cell_type": "markdown",
   "id": "a158e52d",
   "metadata": {},
   "source": [
    "In this quick demo, we'll use the `datacollection` module in Mesa to extract information on the agent or model level. We'll use this to develop the Schelling Model code that we wrote last time. Ultimately, we'll take these capabilities and use them to create a fun little app for visualizing the Schelling model. \n",
    "\n",
    "Here's our base code: "
   ]
  },
  {
   "cell_type": "code",
   "execution_count": 9,
   "id": "e8f52c25",
   "metadata": {},
   "outputs": [],
   "source": [
    "from mesa.space import SingleGrid\n",
    "from mesa import Model, Agent\n",
    "from mesa.time import RandomActivation\n",
    "import numpy as np\n",
    "import pandas as pd\n",
    "\n",
    "class SchellingAgent(Agent):\n",
    "    \n",
    "    # adding a pos instance variable so that each agent can remember\n",
    "    # where they are. Note that the pos can take the place of the name. \n",
    "    def __init__(self, pos, agent_type, homophily, model):\n",
    "        super().__init__(pos, model)\n",
    "        self.pos = pos\n",
    "        self.type = agent_type\n",
    "        self.homophily = homophily\n",
    "    \n",
    "    def step(self):\n",
    "        \n",
    "        pct_similar_neighbors = np.mean([\n",
    "            self.type == other.type for other in self.model.grid.neighbor_iter(self.pos)\n",
    "        ])\n",
    "        \n",
    "        if pct_similar_neighbors < self.homophily:\n",
    "            self.model.grid.move_to_empty(self)\n",
    "            self.model.moved += 1   \n",
    "        \n",
    "class SchellingModel(Model):\n",
    "    \n",
    "    # need to specify width, height, and density of agents\n",
    "    # in the grid. \n",
    "    def __init__(self, width, height, density, homophily):\n",
    "        \n",
    "        self.schedule = RandomActivation(self)\n",
    "        \n",
    "        # create the grid\n",
    "        self.grid = SingleGrid(width, height, torus=True)\n",
    "        \n",
    "        # loop through the grid, and add agents so that the \n",
    "        # overall density is roughly equal to the passed \n",
    "        # density\n",
    "        for cell in self.grid.coord_iter():\n",
    "            x = cell[1]\n",
    "            y = cell[2]\n",
    "            if self.random.random() < density:\n",
    "                \n",
    "                agent_type = np.random.choice([\"triangle\", \"square\"])\n",
    "                \n",
    "                agent = SchellingAgent(pos = (x, y), \n",
    "                                 agent_type = agent_type, \n",
    "                                 homophily = homophily, \n",
    "                                 model = self)\n",
    "                \n",
    "                self.schedule.add(agent)    \n",
    "                self.grid.position_agent(agent, (x, y))\n",
    "            \n",
    "    # this doesn't change, except that we will add a counter for the number of happy agents\n",
    "    # who don't move in this timestep\n",
    "    def step(self):\n",
    "        self.moved = 0\n",
    "        self.schedule.step()\n",
    "        print(f\"{self.moved} agents moved in this timestep\")"
   ]
  },
  {
   "cell_type": "code",
   "execution_count": 10,
   "id": "1ade3fae",
   "metadata": {},
   "outputs": [
    {
     "name": "stdout",
     "output_type": "stream",
     "text": [
      "131 agents moved in this timestep\n"
     ]
    }
   ],
   "source": [
    "SM = SchellingModel(20, 20, 0.9, 0.5)\n",
    "SM.step()"
   ]
  },
  {
   "cell_type": "markdown",
   "id": "5dba60ad",
   "metadata": {},
   "source": [
    "## Adding Data Collection\n",
    "\n",
    "To add data collection to our model, we need to do two things. "
   ]
  },
  {
   "cell_type": "code",
   "execution_count": 17,
   "id": "406ff13b",
   "metadata": {},
   "outputs": [],
   "source": [
    "from mesa.datacollection import DataCollector\n",
    "\n",
    "class SchellingAgent(Agent):\n",
    "    \n",
    "    # adding a pos instance variable so that each agent can remember\n",
    "    # where they are. Note that the pos can take the place of the name. \n",
    "    def __init__(self, pos, agent_type, homophily, model):\n",
    "        super().__init__(pos, model)\n",
    "        self.pos = pos\n",
    "        self.type = agent_type\n",
    "        self.homophily = homophily\n",
    "    \n",
    "    def step(self):\n",
    "        \n",
    "        pct_similar_neighbors = np.mean([\n",
    "            self.type == other.type for other in self.model.grid.neighbor_iter(self.pos)\n",
    "        ])\n",
    "        \n",
    "        if pct_similar_neighbors < self.homophily:\n",
    "            self.model.grid.move_to_empty(self)\n",
    "            self.model.moved += 1   \n",
    "        \n",
    "class SchellingModel(Model):\n",
    "    \n",
    "    # need to specify width, height, and density of agents\n",
    "    # in the grid. \n",
    "    def __init__(self, width, height, density, homophily):\n",
    "        \n",
    "        self.schedule = RandomActivation(self)\n",
    "        \n",
    "        # create the grid\n",
    "        self.grid = SingleGrid(width, height, torus=True)\n",
    "        \n",
    "        # loop through the grid, and add agents so that the \n",
    "        # overall density is roughly equal to the passed \n",
    "        # density\n",
    "        for cell in self.grid.coord_iter():\n",
    "            x = cell[1]\n",
    "            y = cell[2]\n",
    "            if self.random.random() < density:\n",
    "                \n",
    "                agent_type = np.random.choice([\"triangle\", \"square\"])\n",
    "                \n",
    "                agent = SchellingAgent(pos = (x, y), \n",
    "                                 agent_type = agent_type, \n",
    "                                 homophily = homophily, \n",
    "                                 model = self)\n",
    "                \n",
    "                self.schedule.add(agent)    \n",
    "                self.grid.position_agent(agent, (x, y))\n",
    "        \n",
    "        # NEW: create data collector\n",
    "        self.collector = DataCollector(model_reporters={\"num_moved\": lambda m: m.moved},\n",
    "                                       agent_reporters = {\"x\"      : lambda a: a.pos[0],\n",
    "                                                          \"y\"      : lambda a: a.pos[1],\n",
    "                                                          \"type\"   : lambda a: a.type})\n",
    "        \n",
    "    # this doesn't change, except that we will add a counter for the number of happy agents\n",
    "    # who don't move in this timestep\n",
    "    def step(self):\n",
    "        self.moved = 0\n",
    "        self.schedule.step()\n",
    "        print(f\"{self.moved} agents moved in this timestep\")\n",
    "        \n",
    "        # NEW: call the data collector after each step\n",
    "        self.collector.collect(self)"
   ]
  },
  {
   "cell_type": "code",
   "execution_count": 18,
   "id": "7fe10cea",
   "metadata": {},
   "outputs": [
    {
     "name": "stdout",
     "output_type": "stream",
     "text": [
      "147 agents moved in this timestep\n",
      "71 agents moved in this timestep\n",
      "37 agents moved in this timestep\n",
      "23 agents moved in this timestep\n",
      "14 agents moved in this timestep\n",
      "11 agents moved in this timestep\n",
      "7 agents moved in this timestep\n",
      "4 agents moved in this timestep\n",
      "2 agents moved in this timestep\n",
      "1 agents moved in this timestep\n"
     ]
    }
   ],
   "source": [
    "SM = SchellingModel(20, 20, 0.9, 0.5)\n",
    "for i in range(10):\n",
    "    SM.step()"
   ]
  },
  {
   "cell_type": "code",
   "execution_count": 22,
   "id": "144dcd07",
   "metadata": {},
   "outputs": [
    {
     "data": {
      "text/plain": [
       "[<matplotlib.lines.Line2D at 0x7fe6396f1860>]"
      ]
     },
     "execution_count": 22,
     "metadata": {},
     "output_type": "execute_result"
    },
    {
     "data": {
      "image/png": "[encoded data removed]",
      "text/plain": [
       "<Figure size 432x288 with 1 Axes>"
      ]
     },
     "metadata": {
      "needs_background": "light"
     },
     "output_type": "display_data"
    }
   ],
   "source": [
    "from matplotlib import pyplot as plt\n",
    "model_vars = SM.collector.get_model_vars_dataframe()\n",
    "plt.plot(model_vars[\"num_moved\"])"
   ]
  },
  {
   "cell_type": "code",
   "execution_count": 20,
   "id": "47e4cb4d",
   "metadata": {},
   "outputs": [
    {
     "data": {
      "text/html": [
       "<div>\n",
       "<style scoped>\n",
       "    .dataframe tbody tr th:only-of-type {\n",
       "        vertical-align: middle;\n",
       "    }\n",
       "\n",
       "    .dataframe tbody tr th {\n",
       "        vertical-align: top;\n",
       "    }\n",
       "\n",
       "    .dataframe thead th {\n",
       "        text-align: right;\n",
       "    }\n",
       "</style>\n",
       "<table border=\"1\" class=\"dataframe\">\n",
       "  <thead>\n",
       "    <tr style=\"text-align: right;\">\n",
       "      <th></th>\n",
       "      <th></th>\n",
       "      <th>x</th>\n",
       "      <th>y</th>\n",
       "      <th>type</th>\n",
       "    </tr>\n",
       "    <tr>\n",
       "      <th>Step</th>\n",
       "      <th>AgentID</th>\n",
       "      <th></th>\n",
       "      <th></th>\n",
       "      <th></th>\n",
       "    </tr>\n",
       "  </thead>\n",
       "  <tbody>\n",
       "    <tr>\n",
       "      <th rowspan=\"5\" valign=\"top\">1</th>\n",
       "      <th>(0, 0)</th>\n",
       "      <td>10</td>\n",
       "      <td>11</td>\n",
       "      <td>square</td>\n",
       "    </tr>\n",
       "    <tr>\n",
       "      <th>(0, 1)</th>\n",
       "      <td>12</td>\n",
       "      <td>13</td>\n",
       "      <td>square</td>\n",
       "    </tr>\n",
       "    <tr>\n",
       "      <th>(0, 2)</th>\n",
       "      <td>6</td>\n",
       "      <td>8</td>\n",
       "      <td>square</td>\n",
       "    </tr>\n",
       "    <tr>\n",
       "      <th>(0, 3)</th>\n",
       "      <td>5</td>\n",
       "      <td>6</td>\n",
       "      <td>square</td>\n",
       "    </tr>\n",
       "    <tr>\n",
       "      <th>(0, 4)</th>\n",
       "      <td>18</td>\n",
       "      <td>1</td>\n",
       "      <td>square</td>\n",
       "    </tr>\n",
       "    <tr>\n",
       "      <th>...</th>\n",
       "      <th>...</th>\n",
       "      <td>...</td>\n",
       "      <td>...</td>\n",
       "      <td>...</td>\n",
       "    </tr>\n",
       "    <tr>\n",
       "      <th rowspan=\"5\" valign=\"top\">10</th>\n",
       "      <th>(19, 12)</th>\n",
       "      <td>12</td>\n",
       "      <td>4</td>\n",
       "      <td>triangle</td>\n",
       "    </tr>\n",
       "    <tr>\n",
       "      <th>(19, 16)</th>\n",
       "      <td>12</td>\n",
       "      <td>6</td>\n",
       "      <td>triangle</td>\n",
       "    </tr>\n",
       "    <tr>\n",
       "      <th>(19, 17)</th>\n",
       "      <td>17</td>\n",
       "      <td>18</td>\n",
       "      <td>square</td>\n",
       "    </tr>\n",
       "    <tr>\n",
       "      <th>(19, 18)</th>\n",
       "      <td>8</td>\n",
       "      <td>7</td>\n",
       "      <td>triangle</td>\n",
       "    </tr>\n",
       "    <tr>\n",
       "      <th>(19, 19)</th>\n",
       "      <td>8</td>\n",
       "      <td>10</td>\n",
       "      <td>triangle</td>\n",
       "    </tr>\n",
       "  </tbody>\n",
       "</table>\n",
       "<p>3570 rows × 3 columns</p>\n",
       "</div>"
      ],
      "text/plain": [
       "                x   y      type\n",
       "Step AgentID                   \n",
       "1    (0, 0)    10  11    square\n",
       "     (0, 1)    12  13    square\n",
       "     (0, 2)     6   8    square\n",
       "     (0, 3)     5   6    square\n",
       "     (0, 4)    18   1    square\n",
       "...            ..  ..       ...\n",
       "10   (19, 12)  12   4  triangle\n",
       "     (19, 16)  12   6  triangle\n",
       "     (19, 17)  17  18    square\n",
       "     (19, 18)   8   7  triangle\n",
       "     (19, 19)   8  10  triangle\n",
       "\n",
       "[3570 rows x 3 columns]"
      ]
     },
     "execution_count": 20,
     "metadata": {},
     "output_type": "execute_result"
    }
   ],
   "source": [
    "SM.collector.get_agent_vars_dataframe()"
   ]
  },
  {
   "cell_type": "code",
   "execution_count": null,
   "id": "57589a1b",
   "metadata": {},
   "outputs": [],
   "source": []
  }
 ],
 "metadata": {
  "kernelspec": {
   "display_name": "Python 3",
   "language": "python",
   "name": "python3"
  },
  "language_info": {
   "codemirror_mode": {
    "name": "ipython",
    "version": 3
   },
   "file_extension": ".py",
   "mimetype": "text/x-python",
   "name": "python",
   "nbconvert_exporter": "python",
   "pygments_lexer": "ipython3",
   "version": "3.7.1"
  }
 },
 "nbformat": 4,
 "nbformat_minor": 5
}
