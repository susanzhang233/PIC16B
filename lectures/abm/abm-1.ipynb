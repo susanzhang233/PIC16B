{
 "cells": [
  {
   "cell_type": "markdown",
   "id": "bc80ef55",
   "metadata": {},
   "source": [
    "# Agent-Based Modeling\n",
    "\n",
    "In this set of lectures, we'll study how to design agent-based models in Python. \n",
    "\n",
    "> An *agent-based model* (ABM) is a simulation model in which many individual entities (*agents*) interact with each other according to fixed rules. \n",
    "\n",
    "ABMs are often used for modeling a wide range of social and biological systems. In fact, you've already seen an example of an ABM: the SIR model of disease spred that we studied in the previous lecture is one. There, we relied on tools from NetworkX and various other familiar programming paradigms. We'll now explore the topic of agent-based modeling from a somewhat more systematic and flexible perspective. \n",
    "\n",
    "There exist a large number of dedicated software packages for agent-based modeling. In this course, we'll use a relatively recent package, called [Mesa](https://mesa.readthedocs.io/en/master/index.html), for agent-based modeling in Python. To install the software, run the following code in your terminal: \n",
    "\n",
    "```\n",
    "conda activate PIC16B\n",
    "conda install -c conda-forge mesa\n",
    "```\n",
    "\n",
    "# The Schelling Model of Racial Segregation\n",
    "\n",
    "In this set of lecture notes, we will implement the Schelling model of racial residential segregation. The Schelling model is a parable of how only *mild* individual biases can lead to highly segregated outcomes. \n",
    "\n",
    "\n",
    "In the Schelling Model, individuals of two types begin arranged randomly on a grid, which is often taken to represent a city. Not all grid squares are occupied. Here's an example starting configuration\n",
    "\n",
    "<figure class=\"image\" style=\"width:50%\">\n",
    "  <img src=\"https://raw.githubusercontent.com/PhilChodrow/PIC16B/master/_images/schelling-screencap.png\" alt=\"\">\n",
    "  <figcaption><i>An example starting configuration in the Schelling model. Image credit: <a href = \"https://ncase.me/polygons/\"> Vi Hart and Nicky Case</a>.</i></figcaption>\n",
    "</figure>\n",
    "\n",
    "Here's how the model works: \n",
    "\n",
    "1. At each timestep, agents look at their surroundings. An agent is **unhappy** if fewer than 1/3 of their neighbors have the same type, and is **happy** otherwise. \n",
    "2. All **unhappy** agents pick a random empty spot and move there. All **happy** agents stay where they are. \n",
    "\n",
    "We run the model until all agents are happy. The fundamental result of the model is that, even though agents have only mild biases -- they simply prefer not to be outnumbered --  acting on their preferences can still lead to highly segregated outcomes, like this: \n",
    "\n",
    "<figure class=\"image\" style=\"width:50%\">\n",
    "  <img src=\"https://raw.githubusercontent.com/PhilChodrow/PIC16B/master/_images/schelling-final.png\" alt=\"\">\n",
    "  <figcaption><i>An example final configuration in the Schelling model. Image credit: <a href = \"https://ncase.me/polygons/\"> Vi Hart and Nicky Case</a>.</i></figcaption>\n",
    "</figure>\n",
    "\n",
    "For an excellent interactive demonstration of the Schelling Model, check out [this blog post](https://ncase.me/polygons/) by Vi Hart and Nicky Case.  \n",
    "\n",
    "### A Note on History\n",
    "\n",
    "The Schelling model does not include any concepts of historical oppression, wealth, or power, all of which contribute to racial segregation. The message of the Schelling model is that these factors are not **needed** for segregation -- mildly racist individual preferences would be enough. It is important, however, not to confuse this mathematical parable with the actual historical circumstances of racial segregation in the US or elsewhere. \n",
    "\n",
    "### Sources\n",
    "\n",
    "These lecture notes are closely based on the [Schelling model example](https://github.com/projectmesa/mesa/tree/main/examples/schelling) in the [official Mesa repository](https://github.com/projectmesa/mesa). They also draw on the [Introductory Tutorial](https://mesa.readthedocs.io/en/master/tutorials/intro_tutorial.html) from the official Mesa documentation.  \n",
    "\n",
    "# Implementing the Schelling Model"
   ]
  },
  {
   "cell_type": "markdown",
   "id": "fd745d56",
   "metadata": {},
   "source": [
    "Let's start by implementing a bare-bones model. While there is some flexibility in how one does this, there are a few common features of most Mesa models: \n",
    "\n",
    "1. There must be an *agent* class, which should inherit from `mesa.Agent`. This class specifies the properties and behaviors of an individual agent in the simulation. \n",
    "    - This class must call  `mesa.Agent.__init__()` as part of its `__init__()` method. \n",
    "    - This class must have a `step()` method which describes the primary individual behavior. \n",
    "2. There must be a *model* class, which should inherit from `mesa.Model`. \n",
    "    - The `__init__()` method of this class is responsible for creating agents with their properties, as well as the space (often a grid) on which the simulation unfolds. \n",
    "    - This class must also have a `step()` method which provides a complete description of what happens in a single model time step. Often, this involves using a `Schedule` to call the `step()` method of each of the agents in some specified sequence. \n",
    "    \n",
    "Let's write a very simple model that demonstrates some of these requirements. Our model won't really do very much yet, but it will demonstrate the key techniques of defining the agent and model, adding agents to the model, and calling the `step()` methods. "
   ]
  },
  {
   "cell_type": "code",
   "execution_count": 1,
   "id": "23457d0f",
   "metadata": {},
   "outputs": [],
   "source": [
    "from mesa import Model, Agent\n",
    "from mesa.time import RandomActivation\n",
    "\n",
    "class ToyAgent(Agent):\n",
    "    \n",
    "    def __init__(self, name, model):\n",
    "        super().__init__(name, model)\n",
    "        self.name = name\n",
    "    \n",
    "    def step(self):\n",
    "        print(f\"Hi, I'm Agent 00{self.name}!\")\n",
    "\n",
    "class ToyModel(Model):\n",
    "    \n",
    "    def __init__(self, n_agents):\n",
    "        \n",
    "        self.schedule = RandomActivation(self)\n",
    "        \n",
    "        for i in range(n_agents):\n",
    "            agent = ToyAgent(i, self)\n",
    "            \n",
    "            # important and easy to forget! \n",
    "            # this line \"registers\" the agent\n",
    "            # with the scheduler so that the \n",
    "            # agent's step() method will be\n",
    "            # called when the scheduler's \n",
    "            # is. \n",
    "            self.schedule.add(agent)\n",
    "                \n",
    "    def step(self):\n",
    "        self.schedule.step()"
   ]
  },
  {
   "cell_type": "markdown",
   "id": "d0e704e6",
   "metadata": {},
   "source": [
    "Let's demonstrate the behavior of our toy model: "
   ]
  },
  {
   "cell_type": "code",
   "execution_count": 2,
   "id": "028c16cf",
   "metadata": {},
   "outputs": [],
   "source": [
    "TM = ToyModel(10)"
   ]
  },
  {
   "cell_type": "code",
   "execution_count": 3,
   "id": "b3a661cb",
   "metadata": {},
   "outputs": [
    {
     "name": "stdout",
     "output_type": "stream",
     "text": [
      "Hi, I'm Agent 000!\n",
      "Hi, I'm Agent 001!\n",
      "Hi, I'm Agent 006!\n",
      "Hi, I'm Agent 003!\n",
      "Hi, I'm Agent 005!\n",
      "Hi, I'm Agent 008!\n",
      "Hi, I'm Agent 009!\n",
      "Hi, I'm Agent 002!\n",
      "Hi, I'm Agent 004!\n",
      "Hi, I'm Agent 007!\n"
     ]
    }
   ],
   "source": [
    "TM.step()"
   ]
  },
  {
   "cell_type": "markdown",
   "id": "d91e95c8",
   "metadata": {},
   "source": [
    "Observe that, each time we call `TM.step()`, the model sweeps through the various agents and calls their individual `step()` methods. This is because we created a `RandomActivation` schedule, and added each of the agents to this schedule.\n",
    "\n",
    "With our architecture in place, our next step is learn how to implement more interesting behaviors. \n",
    "\n",
    "## Spatial Grids\n",
    "\n",
    "The Schelling model usually evolves on a grid. At the moment, we don't have a grid incorporated. Fortunately, this is easy to bring in. We simply need to add a `SingleGrid` object with specified width and height. The `torus` argument of the grid determines whether the edges \"wrap around.\" If it is selected, then walking off the left side of the grid will put you back on the right side. This is often visualized as allowing the grid to lie on the surface of a torus, or donut: \n",
    "\n",
    "<figure class=\"image\" style=\"width:30%\">\n",
    "  <img src=\"https://i.stack.imgur.com/ZZrv4.png\" alt=\"\">\n",
    "  <figcaption><i>A toroidal grid.</i></figcaption>\n",
    "</figure>\n",
    "\n",
    "The modifications we need to make to our previous code are relatively simple: \n",
    "\n",
    "1. We need to give each `ToyAgent` a `pos`ition. \n",
    "2. We need to give the model a `grid` instance variable. \n",
    "3. We need to modify our initialization of agents so that we call `self.grid.position_agent(agent, pos)` in order to place each agent on the grid. "
   ]
  },
  {
   "cell_type": "code",
   "execution_count": 37,
   "id": "af6d5764",
   "metadata": {},
   "outputs": [],
   "source": [
    "from mesa.space import SingleGrid\n",
    "\n",
    "class ToyAgent(Agent):\n",
    "    \n",
    "    # adding a pos instance variable so that each agent can remember\n",
    "    # where they are. Note that the pos can take the place of the name. \n",
    "    def __init__(self, pos, model):\n",
    "        super().__init__(pos, model)\n",
    "        self.pos = pos\n",
    "    \n",
    "    def step(self):\n",
    "        print(f\"Hi, I'm an agent at {self.pos}!\")\n",
    "\n",
    "class ToyModel(Model):\n",
    "    \n",
    "    # need to specify width, height, and density of agents\n",
    "    # in the grid. \n",
    "    def __init__(self, width, height, density):\n",
    "        \n",
    "        self.schedule = RandomActivation(self)\n",
    "        \n",
    "        # create the grid\n",
    "        self.grid = SingleGrid(width, height, torus=True)\n",
    "        \n",
    "        # loop through the grid, and add agents so that the \n",
    "        # overall density is roughly equal to the passed \n",
    "        # density\n",
    "        for cell in self.grid.coord_iter():\n",
    "            x = cell[1]\n",
    "            y = cell[2]\n",
    "            if self.random.random() < density:\n",
    "                \n",
    "                agent = ToyAgent(pos = (x, y), model = self)\n",
    "                self.schedule.add(agent)    \n",
    "                self.grid.position_agent(agent, (x, y))\n",
    "            \n",
    "    # this doesn't change. \n",
    "    def step(self):\n",
    "        self.schedule.step()"
   ]
  },
  {
   "cell_type": "markdown",
   "id": "34480326",
   "metadata": {},
   "source": [
    "Now we can again instantiate our model. This time, we need to pass `width`, `height`, and `density`. Here, we're creating a 10x10 grid in which roughly 10% of cells have agents in them. "
   ]
  },
  {
   "cell_type": "code",
   "execution_count": 40,
   "id": "3fc521e2",
   "metadata": {},
   "outputs": [
    {
     "name": "stdout",
     "output_type": "stream",
     "text": [
      "Hi, I'm an agent at (7, 4)!\n",
      "Hi, I'm an agent at (9, 1)!\n",
      "Hi, I'm an agent at (9, 4)!\n",
      "Hi, I'm an agent at (6, 8)!\n",
      "Hi, I'm an agent at (6, 1)!\n",
      "Hi, I'm an agent at (1, 3)!\n",
      "Hi, I'm an agent at (1, 6)!\n",
      "Hi, I'm an agent at (5, 0)!\n",
      "Hi, I'm an agent at (1, 7)!\n",
      "Hi, I'm an agent at (4, 9)!\n"
     ]
    }
   ],
   "source": [
    "TM = ToyModel(10, 10, 0.1)\n",
    "TM.step()"
   ]
  },
  {
   "cell_type": "markdown",
   "id": "c6600ab3",
   "metadata": {},
   "source": [
    "It's also possible to directly extract the grid and visualize it using familiar tools. In a later lecture, however, we'll see some much better ways to visualize the grid. "
   ]
  },
  {
   "cell_type": "code",
   "execution_count": 49,
   "id": "2ed69fde",
   "metadata": {},
   "outputs": [
    {
     "data": {
      "text/plain": [
       "<matplotlib.image.AxesImage at 0x7f838cd74668>"
      ]
     },
     "execution_count": 49,
     "metadata": {},
     "output_type": "execute_result"
    },
    {
     "data": {
      "image/png": "[encoded data removed]",
      "text/plain": [
       "<Figure size 432x288 with 1 Axes>"
      ]
     },
     "metadata": {
      "needs_background": "light"
     },
     "output_type": "display_data"
    }
   ],
   "source": [
    "import numpy as np\n",
    "from matplotlib import pyplot as plt\n",
    "plt.imshow(np.array(TM.grid.grid) == None)"
   ]
  },
  {
   "cell_type": "markdown",
   "id": "b2e40a95",
   "metadata": {},
   "source": [
    "# A Basic Schelling Model\n",
    "\n",
    "We're now ready to construct a simple version of the Schelling model. Here are the remaining ingredients we need to bring in: \n",
    "\n",
    "1. Agents need to have *types* associated with them. \n",
    "2. The agents `step()` method should check whether the agent is \"happy\" (i.e. not surrounded by too many neighbors of different `type`, and move them to an empty grid cell if not. The `SingleGrid` class we've used to create the grid provides several useful methods for handling this logic.  "
   ]
  },
  {
   "cell_type": "code",
   "execution_count": 89,
   "id": "01befd36",
   "metadata": {},
   "outputs": [],
   "source": [
    "from mesa.space import SingleGrid\n",
    "\n",
    "class SchellingAgent(Agent):\n",
    "    \n",
    "    # adding a pos instance variable so that each agent can remember\n",
    "    # where they are. Note that the pos can take the place of the name. \n",
    "    def __init__(self, pos, agent_type, homophily, model):\n",
    "        super().__init__(pos, model)\n",
    "        self.pos = pos\n",
    "        self.type = agent_type\n",
    "        self.homophily = homophily\n",
    "    \n",
    "    def step(self):\n",
    "        \n",
    "        pct_similar_neighbors = np.mean([\n",
    "            self.type == other.type for other in self.model.grid.neighbor_iter(self.pos)\n",
    "        ])\n",
    "        \n",
    "        if pct_similar_neighbors < self.homophily:\n",
    "            self.model.grid.move_to_empty(self)\n",
    "            self.model.moved += 1   \n",
    "        \n",
    "class SchellingModel(Model):\n",
    "    \n",
    "    # need to specify width, height, and density of agents\n",
    "    # in the grid. \n",
    "    def __init__(self, width, height, density, homophily):\n",
    "        \n",
    "        self.schedule = RandomActivation(self)\n",
    "        \n",
    "        # create the grid\n",
    "        self.grid = SingleGrid(width, height, torus=True)\n",
    "        \n",
    "        # loop through the grid, and add agents so that the \n",
    "        # overall density is roughly equal to the passed \n",
    "        # density\n",
    "        for cell in self.grid.coord_iter():\n",
    "            x = cell[1]\n",
    "            y = cell[2]\n",
    "            if self.random.random() < density:\n",
    "                \n",
    "                agent_type = np.random.choice([\"triangle\", \"square\"])\n",
    "                \n",
    "                agent = ToyAgent(pos = (x, y), \n",
    "                                 agent_type = agent_type, \n",
    "                                 homophily = homophily, \n",
    "                                 model = self)\n",
    "                \n",
    "                self.schedule.add(agent)    \n",
    "                self.grid.position_agent(agent, (x, y))\n",
    "            \n",
    "    # this doesn't change, except that we will add a counter for the number of happy agents\n",
    "    # who don't move in this timestep\n",
    "    def step(self):\n",
    "        self.moved = 0\n",
    "        self.schedule.step()\n",
    "        print(f\"{self.moved} agents moved in this timestep\")"
   ]
  },
  {
   "cell_type": "code",
   "execution_count": 98,
   "id": "c7564f91",
   "metadata": {},
   "outputs": [
    {
     "name": "stdout",
     "output_type": "stream",
     "text": [
      "387 agents moved in this timestep\n"
     ]
    }
   ],
   "source": [
    "SM.step()"
   ]
  },
  {
   "cell_type": "markdown",
   "id": "ce04db71",
   "metadata": {},
   "source": [
    "Here's a function to plot the model state. Dark purple squares are empty; green squares are agents of type `triangle`, and yellow squares are agents of type `square`. "
   ]
  },
  {
   "cell_type": "code",
   "execution_count": 112,
   "id": "3eb1789a",
   "metadata": {},
   "outputs": [],
   "source": [
    "def viz_state(SM, ax):\n",
    "    G = np.array(SM.grid.grid)\n",
    "    to_viz = np.zeros(G.shape)\n",
    "    \n",
    "    for i in range(G.shape[0]):\n",
    "        for j in range(G.shape[1]):\n",
    "            if G[i,j] is not None:\n",
    "                if G[i,j].type == \"triangle\":\n",
    "                    to_viz[i,j] = 1.0\n",
    "                elif G[i,j].type == \"square\":\n",
    "                    to_viz[i,j] = 2.0\n",
    "    ax.imshow(to_viz)"
   ]
  },
  {
   "cell_type": "markdown",
   "id": "ac600721",
   "metadata": {},
   "source": [
    "Now we're ready to visualize the evolution of our model. "
   ]
  },
  {
   "cell_type": "code",
   "execution_count": 130,
   "id": "01f585a8",
   "metadata": {},
   "outputs": [
    {
     "name": "stdout",
     "output_type": "stream",
     "text": [
      "141 agents moved in this timestep\n",
      "62 agents moved in this timestep\n",
      "36 agents moved in this timestep\n",
      "22 agents moved in this timestep\n",
      "15 agents moved in this timestep\n",
      "9 agents moved in this timestep\n",
      "8 agents moved in this timestep\n",
      "3 agents moved in this timestep\n",
      "2 agents moved in this timestep\n",
      "2 agents moved in this timestep\n"
     ]
    },
    {
     "data": {
      "image/png": "[encoded data removed]",
      "text/plain": [
       "<Figure size 720x288 with 10 Axes>"
      ]
     },
     "metadata": {
      "needs_background": "light"
     },
     "output_type": "display_data"
    }
   ],
   "source": [
    "fig, axarr = plt.subplots(2, 5, figsize = (10, 4))\n",
    "SM = SchellingModel(20, 20, 0.9, 0.5)\n",
    "\n",
    "t = 0\n",
    "for ax in axarr.flatten():\n",
    "    ax.axis(\"off\")\n",
    "    ax.set(title = f\"timestep {t}\")\n",
    "    viz_state(SM, ax)\n",
    "    t += 1\n",
    "    SM.step()"
   ]
  },
  {
   "cell_type": "markdown",
   "id": "3d9a2747",
   "metadata": {},
   "source": [
    "We observe the characteristic separation of an initially spatially mixed population into large regions of homogeneous types. \n",
    "\n",
    "In coming lectures, we'll learn how to visualize these processes more gracefully; how to collect data from simulations; and how to implement more complex models. "
   ]
  }
 ],
 "metadata": {
  "kernelspec": {
   "display_name": "Python [conda env:PIC16B] *",
   "language": "python",
   "name": "conda-env-PIC16B-py"
  },
  "language_info": {
   "codemirror_mode": {
    "name": "ipython",
    "version": 3
   },
   "file_extension": ".py",
   "mimetype": "text/x-python",
   "name": "python",
   "nbconvert_exporter": "python",
   "pygments_lexer": "ipython3",
   "version": "3.7.1"
  }
 },
 "nbformat": 4,
 "nbformat_minor": 5
}
