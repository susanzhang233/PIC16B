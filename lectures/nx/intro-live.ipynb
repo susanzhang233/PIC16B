{
 "cells": [
  {
   "cell_type": "markdown",
   "metadata": {},
   "source": [
    "# Basic Network Analysis with NetworkX\n",
    "\n",
    "In the next few lectures, we'll consider data analysis and modeling with *network data.* There are many topics at the intersection of networks and computation (indeed, this is my research area). We'll spend one day on network basics, one day on common data science tasks, and one day on the rather relevant topic of epidemics on networks. \n",
    "\n",
    "In this first lecture, we'll introduce the NetworkX package for working with network data, and see how to perform some simple manipulations, visualizations, and analyses. \n",
    "\n",
    "For many more examples of working with NetworkX, see the gallery [here](https://networkx.org/documentation/stable/auto_examples/index.html). \n",
    "\n",
    "### A Note on Performance\n",
    "\n",
    "NetworkX is an extremely accessible and popular package for working with network data. However, it's not the most *performant* package, and for complex operations on large graphs, other tools should often be prefered. A common recommendation is the [igraph](https://igraph.org/python/doc/tutorial/tutorial.html) package. For problems that are primarily mathematical in nature, working with matrix representations of graphs may be a better choice. "
   ]
  },
  {
   "cell_type": "code",
   "execution_count": null,
   "metadata": {},
   "outputs": [],
   "source": [
    "import networkx as nx\n",
    "import numpy as np\n",
    "from matplotlib import pyplot as plt\n",
    "import pandas as pd"
   ]
  },
  {
   "cell_type": "markdown",
   "metadata": {},
   "source": [
    "## Graphs\n",
    "\n",
    "A *graph* consists of a collection of objects (often *nodes* or *vertices*) along with a collection of connections between them (often called *edges* or *arcs*). Let's load in a famous example, which comes from the following classic paper: \n",
    "\n",
    "> Zachary W. (1977). An information flow model for conflict and fission in small groups. *Journal of Anthropological Research*, 33, 452-473\n",
    "\n",
    "While normally we would need to read in some data (perhaps from CSV files) and create a graph ourselves, NetworkX actually comes bundled with this one already. "
   ]
  },
  {
   "cell_type": "code",
   "execution_count": null,
   "metadata": {},
   "outputs": [],
   "source": []
  },
  {
   "cell_type": "markdown",
   "metadata": {},
   "source": [
    "We observe that the object we have just created is an object of class `Graph`, which has been imported through Networkx. We'll inspect its properties in a moment, but before we do, let's take a look at it. \n",
    "\n",
    "The `nx.draw()` function uses Matplotlib behind the scenes to draw the graph. It's generally not the highest quality choice, but it is convenient. More sophisticated network visualizations can be constructed through other tools, many of which are interoperable with Networkx. One high quality choice is the [Bokeh package](http://holoviews.org/user_guide/Network_Graphs.html) for complex interactive graphics, while [Plotly](https://plotly.com/python/network-graphs/) also offers a good solution. For our purposes today, though, the built-in `nx.draw()` is fine. "
   ]
  },
  {
   "cell_type": "code",
   "execution_count": null,
   "metadata": {},
   "outputs": [],
   "source": []
  },
  {
   "cell_type": "markdown",
   "metadata": {},
   "source": [
    "This graph is often called the \"Karate Club Graph.\" Each node (blue dot) represents an individual member of a karate club. Edges between them are measurements of social ties by the researcher Zachary; informally, you can think of two connected nodes as being friends. \n",
    "\n",
    "We can easily extract iterators for nodes and edges: "
   ]
  },
  {
   "cell_type": "code",
   "execution_count": null,
   "metadata": {},
   "outputs": [],
   "source": []
  },
  {
   "cell_type": "code",
   "execution_count": null,
   "metadata": {},
   "outputs": [],
   "source": []
  },
  {
   "cell_type": "markdown",
   "metadata": {},
   "source": [
    "An entry like `(8, 33)` in the list of edges indicates that there's an edge between the node labeled `8` and the node labeled `33`. \n",
    "\n",
    "When working with graphs, a fundamental task is to, given a node, obtain a list of its neighbors. NetworkX makes this easy: we essentially just treat the graph as a dictionary: "
   ]
  },
  {
   "cell_type": "code",
   "execution_count": null,
   "metadata": {},
   "outputs": [],
   "source": []
  },
  {
   "cell_type": "code",
   "execution_count": null,
   "metadata": {},
   "outputs": [],
   "source": []
  },
  {
   "cell_type": "markdown",
   "metadata": {},
   "source": [
    "### Metadata\n",
    "\n",
    "Usually, we have more to work with than just the \"raw\" graph. Both nodes and edges can have stored data. This data can be accessed and used in several different ways. For small graphs, one can get an overview this way: "
   ]
  },
  {
   "cell_type": "code",
   "execution_count": null,
   "metadata": {},
   "outputs": [],
   "source": []
  },
  {
   "cell_type": "markdown",
   "metadata": {},
   "source": [
    "Each node is now accompanied by a little dictionary of its attributes. It looks like all the nodes have an attribute called `club`, which has values `\"Mr. Hi\"` and `\"Officer\"`. We can access a dictionary of these attributes directly like this: "
   ]
  },
  {
   "cell_type": "code",
   "execution_count": null,
   "metadata": {},
   "outputs": [],
   "source": []
  },
  {
   "cell_type": "code",
   "execution_count": null,
   "metadata": {},
   "outputs": [],
   "source": []
  },
  {
   "cell_type": "markdown",
   "metadata": {},
   "source": [
    "The reason that this data set is so famous is that it provides a relatively pure case study of the process of *graph fission.* In this case, the karate club studied eventually broke into two separate clubs after a conflict between the instructor (\"Mr. Hi\") and the club president (\"Officer\"). Node 0 is Mr. Hi himself, and Node 33 is the club president. As you can see, the two new clubs closely align with social relationships. This makes sense -- if you were going to go join a new club, you'd probably join the one where most of your friends were going.  \n",
    "\n",
    "Indeed, this data set is often used as a benchmark for clustering algorithms which aim to split graphs into multiple, meaningful pieces. \n",
    "\n",
    "## Node Degrees\n",
    "\n",
    "One of the simplest and most important operations in network analysis is to determine the *degree* of a node. This is simply the number of edges attached to that node. In a social network like the one above, you might think of the degree as the popularity (number of friends) of the node. \n",
    "\n",
    "NetworkX makes it easy to compute the degree of a node. "
   ]
  },
  {
   "cell_type": "code",
   "execution_count": null,
   "metadata": {},
   "outputs": [],
   "source": []
  },
  {
   "cell_type": "code",
   "execution_count": null,
   "metadata": {},
   "outputs": [],
   "source": []
  },
  {
   "cell_type": "markdown",
   "metadata": {},
   "source": [
    "## The Friendship Paradox\n",
    "\n",
    "Did you know that your friends are more popular than you? \n",
    "\n",
    "Well, that may or may not be true -- but it is true *on average*. Here's what the so-called \"Friendship Paradox\" states: \n",
    "\n",
    "1. First, ask Zenith how many friends she has, and write that down. \n",
    "2. Then, ask each of Zenith's friends how many friends *they* have. Take the average, and write the second number down. \n",
    "3. Repeat this process for every person in a social network. \n",
    "4. The average of the first column (the number of friends of the first person) will always be less than the average of the second column (the average number of friends of each of the first person's friends). \n",
    "\n",
    "In network language, statistically speaking, \n",
    "\n",
    "> The average degree of a node is less than the average degree of one of its neighbors. \n",
    "\n",
    "Let's use NetworkX tools to check this: "
   ]
  },
  {
   "cell_type": "code",
   "execution_count": null,
   "metadata": {},
   "outputs": [],
   "source": []
  },
  {
   "cell_type": "code",
   "execution_count": null,
   "metadata": {},
   "outputs": [],
   "source": [
    "friendship_paradox(G)"
   ]
  },
  {
   "cell_type": "markdown",
   "metadata": {},
   "source": [
    "In the Karate Club graph, an average node has 4.5 friends, but an average friend of that node has 9.6 friends! \n",
    "\n",
    "This kind of pattern is fairly typical. For example, we can see it in action on a much larger social network. Let's consider a noticeably larger network mined from Facebook back from when that was still a thing you could do. The data is from the following paper: \n",
    "\n",
    "> J. McAuley and J. Leskovec. Learning to Discover Social Circles in Ego Networks. NeurIPS, 2012.\n",
    "\n",
    "It's freely available [here](https://snap.stanford.edu/data/egonets-Facebook.html).\n"
   ]
  },
  {
   "cell_type": "code",
   "execution_count": null,
   "metadata": {},
   "outputs": [],
   "source": [
    "url = \"https://raw.githubusercontent.com/PhilChodrow/PIC16B/master/datasets/facebook_combined.txt\"\n"
   ]
  },
  {
   "cell_type": "code",
   "execution_count": null,
   "metadata": {},
   "outputs": [],
   "source": []
  },
  {
   "cell_type": "markdown",
   "metadata": {},
   "source": [
    "This graph is much larger than the Karate Club graph from before. "
   ]
  },
  {
   "cell_type": "code",
   "execution_count": null,
   "metadata": {},
   "outputs": [],
   "source": []
  },
  {
   "cell_type": "code",
   "execution_count": null,
   "metadata": {},
   "outputs": [],
   "source": []
  },
  {
   "cell_type": "markdown",
   "metadata": {},
   "source": [
    "## Degree Distributions\n",
    "\n",
    "Networks in which nodes all have the same degree are called *regular networks,* and are, for the most part, mathematical fairytales. In real-world networks, nodes can often have very different degrees. A good way to visualize node degrees is by considering the degree distribution. This can be calculated easily using `nx.degree_histogram()`. "
   ]
  },
  {
   "cell_type": "code",
   "execution_count": null,
   "metadata": {},
   "outputs": [],
   "source": []
  },
  {
   "cell_type": "markdown",
   "metadata": {},
   "source": [
    "The element `hist[i]` gives the number of nodes of degree `i`. So, the above says that there are zero nodes of degree 0, 75 nodes of degree 1, 98 nodes of degree 2, and so on. "
   ]
  },
  {
   "cell_type": "code",
   "execution_count": null,
   "metadata": {},
   "outputs": [],
   "source": []
  },
  {
   "cell_type": "markdown",
   "metadata": {},
   "source": [
    "This plot is pretty hard to read. Maybe if we transformed the axes?"
   ]
  },
  {
   "cell_type": "code",
   "execution_count": null,
   "metadata": {},
   "outputs": [],
   "source": []
  },
  {
   "cell_type": "markdown",
   "metadata": {},
   "source": [
    "There is a surprising amount of controversy in the network science community about the appropriate axes on which to plot degree distributions, and about how to analyze these distributions. Special controversy considers the question of whether degree distributions tend to follow *power laws*, which on log-log axes correspond to straight lines. For example, it's common to see plots that look like the following: "
   ]
  },
  {
   "cell_type": "code",
   "execution_count": null,
   "metadata": {},
   "outputs": [],
   "source": []
  },
  {
   "cell_type": "markdown",
   "metadata": {},
   "source": [
    "Hmmm, does that part of the distribution appear to be a straight line? \n",
    "\n",
    "For a scholarly perspective on this problem and its importance, see this [recent perspective article](https://www.nature.com/articles/s41467-019-09038-8) by Petter Holme. "
   ]
  }
 ],
 "metadata": {
  "kernelspec": {
   "display_name": "Python 3",
   "language": "python",
   "name": "python3"
  },
  "language_info": {
   "codemirror_mode": {
    "name": "ipython",
    "version": 3
   },
   "file_extension": ".py",
   "mimetype": "text/x-python",
   "name": "python",
   "nbconvert_exporter": "python",
   "pygments_lexer": "ipython3",
   "version": "3.8.5"
  }
 },
 "nbformat": 4,
 "nbformat_minor": 5
}
