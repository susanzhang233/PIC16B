{
  "nbformat": 4,
  "nbformat_minor": 5,
  "metadata": {
    "accelerator": "GPU",
    "colab": {
      "name": "tf-4.ipynb",
      "provenance": [],
      "collapsed_sections": []
    },
    "kernelspec": {
      "display_name": "Python 3",
      "language": "python",
      "name": "python3"
    },
    "language_info": {
      "codemirror_mode": {
        "name": "ipython",
        "version": 3
      },
      "file_extension": ".py",
      "mimetype": "text/x-python",
      "name": "python",
      "nbconvert_exporter": "python",
      "pygments_lexer": "ipython3",
      "version": "3.7.1"
    }
  },
  "cells": [
    {
      "cell_type": "markdown",
      "metadata": {
        "id": "limiting-remove"
      },
      "source": [
        "# Mixed Data Features\n",
        "\n",
        "In previous lectures, we've used neural networks to perform \"basic\" classification, image classification, and text classification. In each of these, we used a single pipeline that we custom built for the data we needed to work with, usually enclosed within a `keras.models.Sequential()` model. This worked fine for those situations, but what happens when we have *multiple* complex data components that we would like to use in our models? For example, maybe we would like to do classification in a dataset containing both: \n",
        "\n",
        "1. Pictures (images) and captions (text). \n",
        "2. Descriptions (text) and timestamps (numbers). \n",
        "3. Article bodies (text) and titles (different text). \n",
        "\n",
        "Of course, it's possible to come up with various ad hoc ways to smoosh pieces of data together, but this isn't usually the right approach. A better thing to do is to create a more flexible model that accepts and appropriately processes different kinds of inputs. In this lecture, we'll learn how to do this. \n",
        "\n",
        "### Key Tools\n",
        "\n",
        "- Labeled data sets. \n",
        "- The Keras Functional API (alternative to Sequential API). \n",
        "\n",
        "### Useful References\n",
        "\n",
        "- I consulted [this tutorial](https://keras.io/guides/functional_api/) on the Functional API while preparing these lecture notes. "
      ],
      "id": "limiting-remove"
    },
    {
      "cell_type": "code",
      "metadata": {
        "id": "billion-print"
      },
      "source": [
        "import numpy as np\n",
        "import pandas as pd\n",
        "import tensorflow as tf\n",
        "import re\n",
        "import string\n",
        "\n",
        "from tensorflow.keras import layers\n",
        "from tensorflow.keras import losses\n",
        "from tensorflow import keras\n",
        "\n",
        "# requires update to tensorflow 2.4\n",
        "# >>> conda activate PIC16B\n",
        "# >>> pip install tensorflow==2.4\n",
        "from tensorflow.keras.layers.experimental.preprocessing import TextVectorization\n",
        "from tensorflow.keras.layers.experimental.preprocessing import StringLookup\n",
        "\n",
        "from sklearn.model_selection import train_test_split\n",
        "from sklearn.preprocessing import LabelEncoder\n",
        "\n",
        "# for embedding viz\n",
        "import plotly.express as px \n",
        "import plotly.io as pio\n",
        "pio.templates.default = \"plotly_white\""
      ],
      "id": "billion-print",
      "execution_count": 1,
      "outputs": []
    },
    {
      "cell_type": "markdown",
      "metadata": {
        "id": "sunrise-accreditation"
      },
      "source": [
        "Our data set for this lecture contains various information about various musical tracks produced between the years 1950 and 2019. You can find it on Kaggle [here](https://www.kaggle.com/saurabhshahane/music-dataset-1950-to-2019). The data was originally published in the following data publication: \n",
        "\n",
        "> Moura, Luan; Fontelles, Emanuel; Sampaio, Vinicius; França, Mardônio (2020), “Music Dataset: Lyrics and Metadata from 1950 to 2019”, Mendeley Data, V3, doi: 10.17632/3t9vbwxgr5.3"
      ],
      "id": "sunrise-accreditation"
    },
    {
      "cell_type": "code",
      "metadata": {
        "id": "resident-persian"
      },
      "source": [
        "url = \"https://raw.githubusercontent.com/PhilChodrow/PIC16B/master/datasets/tcc_ceds_music.csv\"\n",
        "df = pd.read_csv(url)"
      ],
      "id": "resident-persian",
      "execution_count": 2,
      "outputs": []
    },
    {
      "cell_type": "markdown",
      "metadata": {
        "id": "attractive-thing"
      },
      "source": [
        "Let's take a quick look: "
      ],
      "id": "attractive-thing"
    },
    {
      "cell_type": "code",
      "metadata": {
        "colab": {
          "base_uri": "https://localhost:8080/",
          "height": 629
        },
        "id": "lasting-baltimore",
        "outputId": "ad08b24f-3c8f-4150-d198-c55b7e9565d9"
      },
      "source": [
        "df.head()"
      ],
      "id": "lasting-baltimore",
      "execution_count": 3,
      "outputs": [
        {
          "output_type": "execute_result",
          "data": {
            "text/html": [
              "<div>\n",
              "<style scoped>\n",
              "    .dataframe tbody tr th:only-of-type {\n",
              "        vertical-align: middle;\n",
              "    }\n",
              "\n",
              "    .dataframe tbody tr th {\n",
              "        vertical-align: top;\n",
              "    }\n",
              "\n",
              "    .dataframe thead th {\n",
              "        text-align: right;\n",
              "    }\n",
              "</style>\n",
              "<table border=\"1\" class=\"dataframe\">\n",
              "  <thead>\n",
              "    <tr style=\"text-align: right;\">\n",
              "      <th></th>\n",
              "      <th>Unnamed: 0</th>\n",
              "      <th>artist_name</th>\n",
              "      <th>track_name</th>\n",
              "      <th>release_date</th>\n",
              "      <th>genre</th>\n",
              "      <th>lyrics</th>\n",
              "      <th>len</th>\n",
              "      <th>dating</th>\n",
              "      <th>violence</th>\n",
              "      <th>world/life</th>\n",
              "      <th>night/time</th>\n",
              "      <th>shake the audience</th>\n",
              "      <th>family/gospel</th>\n",
              "      <th>romantic</th>\n",
              "      <th>communication</th>\n",
              "      <th>obscene</th>\n",
              "      <th>music</th>\n",
              "      <th>movement/places</th>\n",
              "      <th>light/visual perceptions</th>\n",
              "      <th>family/spiritual</th>\n",
              "      <th>like/girls</th>\n",
              "      <th>sadness</th>\n",
              "      <th>feelings</th>\n",
              "      <th>danceability</th>\n",
              "      <th>loudness</th>\n",
              "      <th>acousticness</th>\n",
              "      <th>instrumentalness</th>\n",
              "      <th>valence</th>\n",
              "      <th>energy</th>\n",
              "      <th>topic</th>\n",
              "      <th>age</th>\n",
              "    </tr>\n",
              "  </thead>\n",
              "  <tbody>\n",
              "    <tr>\n",
              "      <th>0</th>\n",
              "      <td>0</td>\n",
              "      <td>mukesh</td>\n",
              "      <td>mohabbat bhi jhoothi</td>\n",
              "      <td>1950</td>\n",
              "      <td>pop</td>\n",
              "      <td>hold time feel break feel untrue convince spea...</td>\n",
              "      <td>95</td>\n",
              "      <td>0.000598</td>\n",
              "      <td>0.063746</td>\n",
              "      <td>0.000598</td>\n",
              "      <td>0.000598</td>\n",
              "      <td>0.000598</td>\n",
              "      <td>0.048857</td>\n",
              "      <td>0.017104</td>\n",
              "      <td>0.263751</td>\n",
              "      <td>0.000598</td>\n",
              "      <td>0.039288</td>\n",
              "      <td>0.000598</td>\n",
              "      <td>0.000598</td>\n",
              "      <td>0.000598</td>\n",
              "      <td>0.000598</td>\n",
              "      <td>0.380299</td>\n",
              "      <td>0.117175</td>\n",
              "      <td>0.357739</td>\n",
              "      <td>0.454119</td>\n",
              "      <td>0.997992</td>\n",
              "      <td>0.901822</td>\n",
              "      <td>0.339448</td>\n",
              "      <td>0.137110</td>\n",
              "      <td>sadness</td>\n",
              "      <td>1.0</td>\n",
              "    </tr>\n",
              "    <tr>\n",
              "      <th>1</th>\n",
              "      <td>4</td>\n",
              "      <td>frankie laine</td>\n",
              "      <td>i believe</td>\n",
              "      <td>1950</td>\n",
              "      <td>pop</td>\n",
              "      <td>believe drop rain fall grow believe darkest ni...</td>\n",
              "      <td>51</td>\n",
              "      <td>0.035537</td>\n",
              "      <td>0.096777</td>\n",
              "      <td>0.443435</td>\n",
              "      <td>0.001284</td>\n",
              "      <td>0.001284</td>\n",
              "      <td>0.027007</td>\n",
              "      <td>0.001284</td>\n",
              "      <td>0.001284</td>\n",
              "      <td>0.001284</td>\n",
              "      <td>0.118034</td>\n",
              "      <td>0.001284</td>\n",
              "      <td>0.212681</td>\n",
              "      <td>0.051124</td>\n",
              "      <td>0.001284</td>\n",
              "      <td>0.001284</td>\n",
              "      <td>0.001284</td>\n",
              "      <td>0.331745</td>\n",
              "      <td>0.647540</td>\n",
              "      <td>0.954819</td>\n",
              "      <td>0.000002</td>\n",
              "      <td>0.325021</td>\n",
              "      <td>0.263240</td>\n",
              "      <td>world/life</td>\n",
              "      <td>1.0</td>\n",
              "    </tr>\n",
              "    <tr>\n",
              "      <th>2</th>\n",
              "      <td>6</td>\n",
              "      <td>johnnie ray</td>\n",
              "      <td>cry</td>\n",
              "      <td>1950</td>\n",
              "      <td>pop</td>\n",
              "      <td>sweetheart send letter goodbye secret feel bet...</td>\n",
              "      <td>24</td>\n",
              "      <td>0.002770</td>\n",
              "      <td>0.002770</td>\n",
              "      <td>0.002770</td>\n",
              "      <td>0.002770</td>\n",
              "      <td>0.002770</td>\n",
              "      <td>0.002770</td>\n",
              "      <td>0.158564</td>\n",
              "      <td>0.250668</td>\n",
              "      <td>0.002770</td>\n",
              "      <td>0.323794</td>\n",
              "      <td>0.002770</td>\n",
              "      <td>0.002770</td>\n",
              "      <td>0.002770</td>\n",
              "      <td>0.002770</td>\n",
              "      <td>0.002770</td>\n",
              "      <td>0.225422</td>\n",
              "      <td>0.456298</td>\n",
              "      <td>0.585288</td>\n",
              "      <td>0.840361</td>\n",
              "      <td>0.000000</td>\n",
              "      <td>0.351814</td>\n",
              "      <td>0.139112</td>\n",
              "      <td>music</td>\n",
              "      <td>1.0</td>\n",
              "    </tr>\n",
              "    <tr>\n",
              "      <th>3</th>\n",
              "      <td>10</td>\n",
              "      <td>pérez prado</td>\n",
              "      <td>patricia</td>\n",
              "      <td>1950</td>\n",
              "      <td>pop</td>\n",
              "      <td>kiss lips want stroll charm mambo chacha merin...</td>\n",
              "      <td>54</td>\n",
              "      <td>0.048249</td>\n",
              "      <td>0.001548</td>\n",
              "      <td>0.001548</td>\n",
              "      <td>0.001548</td>\n",
              "      <td>0.021500</td>\n",
              "      <td>0.001548</td>\n",
              "      <td>0.411536</td>\n",
              "      <td>0.001548</td>\n",
              "      <td>0.001548</td>\n",
              "      <td>0.001548</td>\n",
              "      <td>0.129250</td>\n",
              "      <td>0.001548</td>\n",
              "      <td>0.001548</td>\n",
              "      <td>0.081132</td>\n",
              "      <td>0.225889</td>\n",
              "      <td>0.001548</td>\n",
              "      <td>0.686992</td>\n",
              "      <td>0.744404</td>\n",
              "      <td>0.083935</td>\n",
              "      <td>0.199393</td>\n",
              "      <td>0.775350</td>\n",
              "      <td>0.743736</td>\n",
              "      <td>romantic</td>\n",
              "      <td>1.0</td>\n",
              "    </tr>\n",
              "    <tr>\n",
              "      <th>4</th>\n",
              "      <td>12</td>\n",
              "      <td>giorgos papadopoulos</td>\n",
              "      <td>apopse eida oneiro</td>\n",
              "      <td>1950</td>\n",
              "      <td>pop</td>\n",
              "      <td>till darling till matter know till dream live ...</td>\n",
              "      <td>48</td>\n",
              "      <td>0.001350</td>\n",
              "      <td>0.001350</td>\n",
              "      <td>0.417772</td>\n",
              "      <td>0.001350</td>\n",
              "      <td>0.001350</td>\n",
              "      <td>0.001350</td>\n",
              "      <td>0.463430</td>\n",
              "      <td>0.001350</td>\n",
              "      <td>0.001350</td>\n",
              "      <td>0.001350</td>\n",
              "      <td>0.001350</td>\n",
              "      <td>0.001350</td>\n",
              "      <td>0.029755</td>\n",
              "      <td>0.001350</td>\n",
              "      <td>0.068800</td>\n",
              "      <td>0.001350</td>\n",
              "      <td>0.291671</td>\n",
              "      <td>0.646489</td>\n",
              "      <td>0.975904</td>\n",
              "      <td>0.000246</td>\n",
              "      <td>0.597073</td>\n",
              "      <td>0.394375</td>\n",
              "      <td>romantic</td>\n",
              "      <td>1.0</td>\n",
              "    </tr>\n",
              "  </tbody>\n",
              "</table>\n",
              "</div>"
            ],
            "text/plain": [
              "   Unnamed: 0           artist_name  ...       topic  age\n",
              "0           0                mukesh  ...     sadness  1.0\n",
              "1           4         frankie laine  ...  world/life  1.0\n",
              "2           6           johnnie ray  ...       music  1.0\n",
              "3          10           pérez prado  ...    romantic  1.0\n",
              "4          12  giorgos papadopoulos  ...    romantic  1.0\n",
              "\n",
              "[5 rows x 31 columns]"
            ]
          },
          "metadata": {
            "tags": []
          },
          "execution_count": 3
        }
      ]
    },
    {
      "cell_type": "markdown",
      "metadata": {
        "id": "unavailable-heating"
      },
      "source": [
        "We have a number of columns here! We'll focus on a few subsets in particular: \n",
        "\n",
        "The `genre` describes the overall genre of the track. It has seven values: "
      ],
      "id": "unavailable-heating"
    },
    {
      "cell_type": "code",
      "metadata": {
        "colab": {
          "base_uri": "https://localhost:8080/"
        },
        "id": "defensive-backing",
        "outputId": "f3df13de-6583-4a84-a1cb-ab8ed637d13e"
      },
      "source": [
        "df.groupby(\"genre\").size()"
      ],
      "id": "defensive-backing",
      "execution_count": 4,
      "outputs": [
        {
          "output_type": "execute_result",
          "data": {
            "text/plain": [
              "genre\n",
              "blues      4604\n",
              "country    5445\n",
              "hip hop     904\n",
              "jazz       3845\n",
              "pop        7042\n",
              "reggae     2498\n",
              "rock       4034\n",
              "dtype: int64"
            ]
          },
          "metadata": {
            "tags": []
          },
          "execution_count": 4
        }
      ]
    },
    {
      "cell_type": "markdown",
      "metadata": {
        "id": "coral-doubt"
      },
      "source": [
        "There data also includes \n",
        "- The complete `lyrics` of the track (if it has any) \n",
        "- The normalized `age` of the track (1.0 corresponds to tracks released in 1950, 0.0 corresponds to more recent tracks)\n",
        "- A selection of columns that give the track numerical scores reflecting various attributes and topics, such as \"danceability,\" \"loudness,\" and \"acousticness.\" \n",
        "\n",
        "There are also other columns in the data, but these are the ones we're going to focus on for this analysis. We are going to subset things a bit: let's focus on only a few genres, and on only relatively recent tracks. "
      ],
      "id": "coral-doubt"
    },
    {
      "cell_type": "code",
      "metadata": {
        "id": "reverse-winner"
      },
      "source": [
        "df = df[df[\"release_date\"] > 2000]\n",
        "genres = [\"blues\", \"hip hop\", \"country\"]\n",
        "df = df[df[\"genre\"].apply(lambda x: x in genres)]"
      ],
      "id": "reverse-winner",
      "execution_count": 5,
      "outputs": []
    },
    {
      "cell_type": "markdown",
      "metadata": {
        "id": "impossible-weekly"
      },
      "source": [
        "Next, let's do a categorical encoding of the `genre` column. "
      ],
      "id": "impossible-weekly"
    },
    {
      "cell_type": "code",
      "metadata": {
        "id": "annual-seeking"
      },
      "source": [
        "le = LabelEncoder()\n",
        "df[\"genre\"] = le.fit_transform(df[\"genre\"])\n",
        "num_genres = len(df[\"genre\"].unique())"
      ],
      "id": "annual-seeking",
      "execution_count": 6,
      "outputs": []
    },
    {
      "cell_type": "markdown",
      "metadata": {
        "id": "experienced-sunset"
      },
      "source": [
        "## Create a Dataset\n",
        "\n",
        "We're now ready to create a TensorFlow `Dataset`. This is going to be a little more involved than last time, because we need to distinguish between different kinds of model inputs. \n",
        "\n",
        "Here's a list of all the scalar \"score\" columns in the data frame. "
      ],
      "id": "experienced-sunset"
    },
    {
      "cell_type": "code",
      "metadata": {
        "id": "minus-triangle"
      },
      "source": [
        "scalars = ['dating', \n",
        "           'violence', \n",
        "           'world/life', \n",
        "           'night/time',\n",
        "           'shake the audience',\n",
        "           'family/gospel', \n",
        "           'romantic', \n",
        "           'communication',\n",
        "           'obscene', \n",
        "           'music', \n",
        "           'movement/places', \n",
        "           'light/visual perceptions',\n",
        "           'family/spiritual', \n",
        "           'like/girls', \n",
        "           'sadness', \n",
        "           'feelings', \n",
        "           'danceability',\n",
        "           'loudness', \n",
        "           'acousticness', \n",
        "           'instrumentalness', \n",
        "           'valence', \n",
        "           'energy']        "
      ],
      "id": "minus-triangle",
      "execution_count": 7,
      "outputs": []
    },
    {
      "cell_type": "markdown",
      "metadata": {
        "id": "reasonable-symposium"
      },
      "source": [
        "Because we have multiple inputs, we are going to construct our `Dataset` from a tuple of dictionaries. The first dictionary is going to specify the different components in the predictor data, while the second dictionary is going to specify the different components of the target data. "
      ],
      "id": "reasonable-symposium"
    },
    {
      "cell_type": "code",
      "metadata": {
        "id": "upper-carter"
      },
      "source": [
        "data = tf.data.Dataset.from_tensor_slices(\n",
        "    (\n",
        "        {\n",
        "            \"lyrics\" : df[[\"lyrics\"]], \n",
        "            \"scalars\" : df[scalars]}, \n",
        "        {\n",
        "            \"genre\" : df[[\"genre\"]]\n",
        "        }\n",
        "    )\n",
        ")"
      ],
      "id": "upper-carter",
      "execution_count": 8,
      "outputs": []
    },
    {
      "cell_type": "markdown",
      "metadata": {
        "id": "valid-miami"
      },
      "source": [
        "Next, we are going to perform a train/test/validation split. For each of the three split `Datasets`, we are going to *batch* them into small chunks of data. This helps with training runtime later. "
      ],
      "id": "valid-miami"
    },
    {
      "cell_type": "code",
      "metadata": {
        "colab": {
          "base_uri": "https://localhost:8080/"
        },
        "id": "ordered-density",
        "outputId": "901de6fe-5179-4aae-b0a8-3c8b912ed52c"
      },
      "source": [
        "data = data.shuffle(buffer_size = len(data))\n",
        "\n",
        "train_size = int(0.7*len(data))\n",
        "val_size   = int(0.1*len(data))\n",
        "\n",
        "train = data.take(train_size).batch(20)\n",
        "val   = data.skip(train_size).take(val_size).batch(20)\n",
        "test  = data.skip(train_size + val_size).batch(20)\n",
        "\n",
        "len(train), len(val), len(test)"
      ],
      "id": "ordered-density",
      "execution_count": 9,
      "outputs": [
        {
          "output_type": "execute_result",
          "data": {
            "text/plain": [
              "(134, 19, 39)"
            ]
          },
          "metadata": {
            "tags": []
          },
          "execution_count": 9
        }
      ]
    },
    {
      "cell_type": "markdown",
      "metadata": {
        "id": "growing-democracy"
      },
      "source": [
        "Each of the numbers above should be multipled by the batch size to give the total number of rows in each `Dataset`. \n",
        "\n",
        "The code below sets up exactly the same text preprocessing that we did [last lecture](https://nbviewer.jupyter.org/github/PhilChodrow/PIC16B/blob/master/lectures/tf/tf-3.ipynb). "
      ],
      "id": "growing-democracy"
    },
    {
      "cell_type": "code",
      "metadata": {
        "id": "minimal-function"
      },
      "source": [
        "size_vocabulary = 2000\n",
        "\n",
        "def standardization(input_data):\n",
        "    lowercase = tf.strings.lower(input_data)\n",
        "    no_punctuation = tf.strings.regex_replace(lowercase,\n",
        "                                  '[%s]' % re.escape(string.punctuation),'')\n",
        "    return no_punctuation \n",
        "\n",
        "vectorize_layer = TextVectorization(\n",
        "    standardize=standardization,\n",
        "    max_tokens=size_vocabulary, # only consider this many words\n",
        "    output_mode='int',\n",
        "    output_sequence_length=500) \n",
        "\n",
        "lyrics = train.map(lambda x, y: x[\"lyrics\"])\n",
        "vectorize_layer.adapt(lyrics)"
      ],
      "id": "minimal-function",
      "execution_count": 10,
      "outputs": []
    },
    {
      "cell_type": "markdown",
      "metadata": {
        "id": "stopped-scholar"
      },
      "source": [
        "## The Keras Functional API\n",
        "\n",
        "In previousl lectures, we used the `Sequential` API for constructing models. For example, we wrote code like this: \n",
        "\n",
        "```python\n",
        "model = tf.keras.Sequential([\n",
        "  layers.Embedding(max_tokens, output_dim = 3),\n",
        "  layers.Dropout(0.2),\n",
        "  layers.GlobalAveragePooling1D(),\n",
        "  layers.Dropout(0.2),\n",
        "  layers.Dense(len(categories))]\n",
        ")\n",
        "```\n",
        "\n",
        "This model is designed to accept a single kind of input (in this case text) and spit out a single output. However, in our case we have two distinct *kinds* of input: the song lyrics and the scalar scores. It wouldn't really make much sense to pass the scalar scores through a text vectorization or embedding layer. For this reason, we need to move beyond the `Sequential` API and instead constructing our models using a somewhat more manual approach, referred to as the `Functional` API. "
      ],
      "id": "stopped-scholar"
    },
    {
      "cell_type": "markdown",
      "metadata": {
        "id": "great-gambling"
      },
      "source": [
        "### Inputs\n",
        "\n",
        "Start by specifying the two kinds of `keras.Input` for our model. You should have one input for each qualitatively distinct \"kind\" of predictor data. All the parameters here are important: \n",
        "\n",
        "- `shape` should describe the shape of a single item of data. For example, the `lyrics` column contains just one entry for each song, so the shape is `(1,)` (a tuple of length 1). On the other hand, there are `len(scalars) = 22` distinct columns of scalar scores. \n",
        "- the `name` should be some descriptive name that you're able to remember for later. \n",
        "- The `dtype` specifies the kind of data contained in each of the input tensors. "
      ],
      "id": "great-gambling"
    },
    {
      "cell_type": "code",
      "metadata": {
        "id": "cooperative-confidence"
      },
      "source": [
        "# inputs\n",
        "\n",
        "lyrics_input = keras.Input(\n",
        "    shape = (1,), \n",
        "    name = \"lyrics\",\n",
        "    dtype = \"string\"\n",
        ")\n",
        "\n",
        "scalars_input = keras.Input(\n",
        "    shape = (len(scalars),), \n",
        "    name = \"scalars\",\n",
        "    dtype = \"float64\"\n",
        ")"
      ],
      "id": "cooperative-confidence",
      "execution_count": 11,
      "outputs": []
    },
    {
      "cell_type": "markdown",
      "metadata": {
        "id": "chronic-carbon"
      },
      "source": [
        "## Hidden Layers\n",
        "\n",
        "First, let's write a pipeline for the lyrics. This pipeline is pretty much the same as the one we used earlier for text classification -- we're just building it differently. "
      ],
      "id": "chronic-carbon"
    },
    {
      "cell_type": "code",
      "metadata": {
        "id": "comprehensive-overall"
      },
      "source": [
        "# layers for processing the lyrics, pretty much the same as from our lecture\n",
        "# on text classification\n",
        "lyrics_features = vectorize_layer(lyrics_input)\n",
        "lyrics_features = layers.Embedding(size_vocabulary, 3, name = \"embedding\")(lyrics_features)\n",
        "lyrics_features = layers.Dropout(0.2)(lyrics_features)\n",
        "lyrics_features = layers.GlobalAveragePooling1D()(lyrics_features)\n",
        "lyrics_features = layers.Dropout(0.2)(lyrics_features)\n",
        "lyrics_features = layers.Dense(32)(lyrics_features)"
      ],
      "id": "comprehensive-overall",
      "execution_count": 12,
      "outputs": []
    },
    {
      "cell_type": "markdown",
      "metadata": {
        "id": "accredited-canvas"
      },
      "source": [
        "Next, let's write a pipeline for the scalars. We don't need to do anything fancy with them, so instead of messing with `Embeddings` and the like, we're just going to pass them through a `Dense` layer. "
      ],
      "id": "accredited-canvas"
    },
    {
      "cell_type": "code",
      "metadata": {
        "id": "opposed-scene"
      },
      "source": [
        "scalar_features = layers.Dense(32)(scalars_input)"
      ],
      "id": "opposed-scene",
      "execution_count": 13,
      "outputs": []
    },
    {
      "cell_type": "markdown",
      "metadata": {
        "id": "accurate-omega"
      },
      "source": [
        "Here's simultaneously the most important and most boring part of the whole model: we are going to `concatenate` the output of the `lyrics` pipeline with the output of the `scalar` pipeline: "
      ],
      "id": "accurate-omega"
    },
    {
      "cell_type": "code",
      "metadata": {
        "id": "conscious-mapping"
      },
      "source": [
        "main = layers.concatenate([lyrics_features, scalar_features], axis = 1)"
      ],
      "id": "conscious-mapping",
      "execution_count": 14,
      "outputs": []
    },
    {
      "cell_type": "markdown",
      "metadata": {
        "id": "pleased-fighter"
      },
      "source": [
        "Finally, let's pass the consolidated set of computed features through a few more `Dense` layers. Remember that the very last `Dense` layer should have a number of outputs equal to the number of classes in the data. \n",
        "\n",
        "**Observe that the output layer has a name, and that this name matches the key corresponding to the target data in the `Datasets` we will pass to the model.** This is how TensorFlow knows which part of our data set to compare against the outputs! "
      ],
      "id": "pleased-fighter"
    },
    {
      "cell_type": "code",
      "metadata": {
        "id": "fleet-society"
      },
      "source": [
        "main = layers.Dense(32)(main)\n",
        "output = layers.Dense(num_genres, name = \"genre\")(main)"
      ],
      "id": "fleet-society",
      "execution_count": 15,
      "outputs": []
    },
    {
      "cell_type": "markdown",
      "metadata": {
        "id": "cognitive-sleeve"
      },
      "source": [
        "So far, we haven't actually created a model yet -- just a bunch of interrelated layers. We create the model by specifying the input(s) and output. "
      ],
      "id": "cognitive-sleeve"
    },
    {
      "cell_type": "code",
      "metadata": {
        "id": "accredited-publication"
      },
      "source": [
        "model = keras.Model(\n",
        "    inputs = [lyrics_input, scalars_input],\n",
        "    outputs = output\n",
        ")"
      ],
      "id": "accredited-publication",
      "execution_count": 16,
      "outputs": []
    },
    {
      "cell_type": "markdown",
      "metadata": {
        "id": "authentic-conversion"
      },
      "source": [
        "The model summary provides one good way to look at the structure of the model, but it can be difficult to read when there are multiple inputs: "
      ],
      "id": "authentic-conversion"
    },
    {
      "cell_type": "code",
      "metadata": {
        "colab": {
          "base_uri": "https://localhost:8080/"
        },
        "id": "homeless-terrain",
        "outputId": "7b57a043-5365-4ef4-faed-c269d8b0b1be"
      },
      "source": [
        "model.summary()"
      ],
      "id": "homeless-terrain",
      "execution_count": 17,
      "outputs": [
        {
          "output_type": "stream",
          "text": [
            "Model: \"model\"\n",
            "__________________________________________________________________________________________________\n",
            "Layer (type)                    Output Shape         Param #     Connected to                     \n",
            "==================================================================================================\n",
            "lyrics (InputLayer)             [(None, 1)]          0                                            \n",
            "__________________________________________________________________________________________________\n",
            "text_vectorization (TextVectori (None, 500)          0           lyrics[0][0]                     \n",
            "__________________________________________________________________________________________________\n",
            "embedding (Embedding)           (None, 500, 3)       6000        text_vectorization[0][0]         \n",
            "__________________________________________________________________________________________________\n",
            "dropout (Dropout)               (None, 500, 3)       0           embedding[0][0]                  \n",
            "__________________________________________________________________________________________________\n",
            "global_average_pooling1d (Globa (None, 3)            0           dropout[0][0]                    \n",
            "__________________________________________________________________________________________________\n",
            "dropout_1 (Dropout)             (None, 3)            0           global_average_pooling1d[0][0]   \n",
            "__________________________________________________________________________________________________\n",
            "scalars (InputLayer)            [(None, 22)]         0                                            \n",
            "__________________________________________________________________________________________________\n",
            "dense (Dense)                   (None, 32)           128         dropout_1[0][0]                  \n",
            "__________________________________________________________________________________________________\n",
            "dense_1 (Dense)                 (None, 32)           736         scalars[0][0]                    \n",
            "__________________________________________________________________________________________________\n",
            "concatenate (Concatenate)       (None, 64)           0           dense[0][0]                      \n",
            "                                                                 dense_1[0][0]                    \n",
            "__________________________________________________________________________________________________\n",
            "dense_2 (Dense)                 (None, 32)           2080        concatenate[0][0]                \n",
            "__________________________________________________________________________________________________\n",
            "genre (Dense)                   (None, 3)            99          dense_2[0][0]                    \n",
            "==================================================================================================\n",
            "Total params: 9,043\n",
            "Trainable params: 9,043\n",
            "Non-trainable params: 0\n",
            "__________________________________________________________________________________________________\n"
          ],
          "name": "stdout"
        }
      ]
    },
    {
      "cell_type": "markdown",
      "metadata": {
        "id": "lined-blade"
      },
      "source": [
        "Something a bit more visually attractive can be obtained by using the `plot_model` function: "
      ],
      "id": "lined-blade"
    },
    {
      "cell_type": "code",
      "metadata": {
        "colab": {
          "base_uri": "https://localhost:8080/",
          "height": 953
        },
        "id": "outdoor-prague",
        "outputId": "469ea2db-f3e2-4c50-fc51-e732459cddee"
      },
      "source": [
        "keras.utils.plot_model(model)"
      ],
      "id": "outdoor-prague",
      "execution_count": 18,
      "outputs": [
        {
          "output_type": "execute_result",
          "data": {
            "image/png": "[encoded data removed]",
            "text/plain": [
              "<IPython.core.display.Image object>"
            ]
          },
          "metadata": {
            "tags": []
          },
          "execution_count": 18
        }
      ]
    },
    {
      "cell_type": "markdown",
      "metadata": {
        "id": "executed-capability"
      },
      "source": [
        "Now we're ready to train and evaluate our model as usual! As always, we need to compile:"
      ],
      "id": "executed-capability"
    },
    {
      "cell_type": "code",
      "metadata": {
        "id": "reported-glass"
      },
      "source": [
        "model.compile(optimizer = \"adam\",\n",
        "              loss = losses.SparseCategoricalCrossentropy(from_logits=True),\n",
        "              metrics=['accuracy']\n",
        ")"
      ],
      "id": "reported-glass",
      "execution_count": 19,
      "outputs": []
    },
    {
      "cell_type": "markdown",
      "metadata": {
        "id": "distinct-premium"
      },
      "source": [
        "And now we train! "
      ],
      "id": "distinct-premium"
    },
    {
      "cell_type": "code",
      "metadata": {
        "id": "developing-bread"
      },
      "source": [
        "history = model.fit(train, \n",
        "                    validation_data=val,\n",
        "                    epochs = 50,\n",
        "                    verbose = 0)"
      ],
      "id": "developing-bread",
      "execution_count": 20,
      "outputs": []
    },
    {
      "cell_type": "markdown",
      "metadata": {
        "id": "O5Aqe0Yb1zG0"
      },
      "source": [
        "Let's take a look at how our training process went: "
      ],
      "id": "O5Aqe0Yb1zG0"
    },
    {
      "cell_type": "code",
      "metadata": {
        "colab": {
          "base_uri": "https://localhost:8080/",
          "height": 282
        },
        "id": "fixed-questionnaire",
        "outputId": "29ef9631-f2d6-44bc-9b31-2efede1a2d86"
      },
      "source": [
        "from matplotlib import pyplot as plt\n",
        "plt.plot(history.history[\"accuracy\"], label = \"training\")\n",
        "plt.plot(history.history[\"val_accuracy\"], label = \"validation\")\n",
        "plt.legend()"
      ],
      "id": "fixed-questionnaire",
      "execution_count": 21,
      "outputs": [
        {
          "output_type": "execute_result",
          "data": {
            "text/plain": [
              "<matplotlib.legend.Legend at 0x7f93d006a390>"
            ]
          },
          "metadata": {
            "tags": []
          },
          "execution_count": 21
        },
        {
          "output_type": "display_data",
          "data": {
            "image/png": "[encoded data removed]",
            "text/plain": [
              "<Figure size 432x288 with 1 Axes>"
            ]
          },
          "metadata": {
            "tags": [],
            "needs_background": "light"
          }
        }
      ]
    },
    {
      "cell_type": "markdown",
      "metadata": {
        "id": "U2P4vbD018Ed"
      },
      "source": [
        "Well, that looks promising! How do we do on unseen test data?"
      ],
      "id": "U2P4vbD018Ed"
    },
    {
      "cell_type": "code",
      "metadata": {
        "colab": {
          "base_uri": "https://localhost:8080/"
        },
        "id": "e41Wp2eC1s9m",
        "outputId": "e034fd06-6401-46b4-fde2-cd018a69d76e"
      },
      "source": [
        "model.evaluate(test)"
      ],
      "id": "e41Wp2eC1s9m",
      "execution_count": 22,
      "outputs": [
        {
          "output_type": "stream",
          "text": [
            "39/39 [==============================] - 0s 3ms/step - loss: 0.1447 - accuracy: 0.9514\n"
          ],
          "name": "stdout"
        },
        {
          "output_type": "execute_result",
          "data": {
            "text/plain": [
              "[0.14466673135757446, 0.9513797760009766]"
            ]
          },
          "metadata": {
            "tags": []
          },
          "execution_count": 22
        }
      ]
    },
    {
      "cell_type": "markdown",
      "metadata": {
        "id": "cloDFeKs16nC"
      },
      "source": [
        "Not bad! A good exercise, which we \"leave to the reader,\" is to compare this performance to that of a simpler model which uses only the lyrics or only the scalar scores. "
      ],
      "id": "cloDFeKs16nC"
    },
    {
      "cell_type": "markdown",
      "metadata": {
        "id": "cognitive-amateur"
      },
      "source": [
        "## Visualizing Embeddings\n",
        "\n",
        "As usual, it's fun to take a look at the embedding learned by our model. Provided that we gave our embedding layer a name, the same approach as last time works just fine: "
      ],
      "id": "cognitive-amateur"
    },
    {
      "cell_type": "code",
      "metadata": {
        "id": "blond-holly"
      },
      "source": [
        "weights = model.get_layer('embedding').get_weights()[0] # get the weights from the embedding layer\n",
        "vocab = vectorize_layer.get_vocabulary()                # get the vocabulary from our data prep for later\n",
        "\n",
        "from sklearn.decomposition import PCA\n",
        "pca = PCA(n_components=2)\n",
        "weights = pca.fit_transform(weights)\n",
        "\n",
        "embedding_df = pd.DataFrame({\n",
        "    'word' : vocab, \n",
        "    'x0'   : weights[:,0],\n",
        "    'x1'   : weights[:,1]\n",
        "})"
      ],
      "id": "blond-holly",
      "execution_count": 23,
      "outputs": []
    },
    {
      "cell_type": "code",
      "metadata": {
        "colab": {
          "base_uri": "https://localhost:8080/",
          "height": 542
        },
        "id": "continuing-fluid",
        "outputId": "9db512d7-24ba-4c86-d708-889fccedcc22"
      },
      "source": [
        "import plotly.express as px \n",
        "fig = px.scatter(embedding_df, \n",
        "                 x = \"x0\", \n",
        "                 y = \"x1\", \n",
        "                 size = list(np.ones(len(embedding_df))),\n",
        "                 size_max = 2,\n",
        "                 hover_name = \"word\")\n",
        "\n",
        "fig.show()"
      ],
      "id": "continuing-fluid",
      "execution_count": 24,
      "outputs": [
        {
          "output_type": "display_data",
          "data": {
            "text/html": [
              "<html>\n",
              "<head><meta charset=\"utf-8\" /></head>\n",
              "<body>\n",
              "    <div>\n",
              "            <script src=\"https://cdnjs.cloudflare.com/ajax/libs/mathjax/2.7.5/MathJax.js?config=TeX-AMS-MML_SVG\"></script><script type=\"text/javascript\">if (window.MathJax) {MathJax.Hub.Config({SVG: {font: \"STIX-Web\"}});}</script>\n",
              "                <script type=\"text/javascript\">window.PlotlyConfig = {MathJaxConfig: 'local'};</script>\n",
              "        <script src=\"https://cdn.plot.ly/plotly-latest.min.js\"></script>    \n",
              "            <div id=\"330a0d52-d75b-499e-b441-17e329eeb3ec\" class=\"plotly-graph-div\" style=\"height:525px; width:100%;\"></div>\n",
              "            <script type=\"text/javascript\">\n",
              "                \n",
              "                    window.PLOTLYENV=window.PLOTLYENV || {};\n",
              "                    \n",
              "                if (document.getElementById(\"330a0d52-d75b-499e-b441-17e329eeb3ec\")) {\n",
              "                    Plotly.newPlot(\n",
              "                        '330a0d52-d75b-499e-b441-17e329eeb3ec',\n",
              "                        [{\"hoverlabel\": {\"namelength\": 0}, \"hovertemplate\": \"<b>%{hovertext}</b><br><br>x0=%{x}<br>x1=%{y}<br>size=%{marker.size}\", \"hovertext\": [\"\", \"[UNK]\", \"like\", \"know\", \"time\", \"come\", \"yeah\", \"go\", \"cause\", \"feel\", \"life\", \"right\", \"baby\", \"away\", \"leave\", \"heart\", \"want\", \"gonna\", \"live\", \"tell\", \"good\", \"think\", \"break\", \"long\", \"look\", \"night\", \"wanna\", \"hand\", \"hold\", \"need\", \"world\", \"mind\", \"fuck\", \"better\", \"hear\", \"home\", \"little\", \"say\", \"turn\", \"head\", \"girl\", \"shit\", \"black\", \"fall\", \"bitch\", \"sing\", \"lose\", \"nigga\", \"eye\", \"change\", \"walk\", \"stay\", \"start\", \"play\", \"hard\", \"dream\", \"take\", \"believe\", \"blue\", \"gotta\", \"stand\", \"thing\", \"things\", \"song\", \"days\", \"get\", \"money\", \"real\", \"bring\", \"light\", \"bout\", \"tear\", \"hell\", \"watch\", \"stop\", \"place\", \"drink\", \"face\", \"line\", \"try\", \"tonight\", \"wrong\", \"wish\", \"kill\", \"niggas\", \"talk\", \"soul\", \"people\", \"burn\", \"party\", \"lord\", \"mean\", \"word\", \"sleep\", \"lyric\", \"damn\", \"miss\", \"give\", \"sound\", \"work\", \"roll\", \"cold\", \"pain\", \"commercial\", \"call\", \"shoot\", \"high\", \"make\", \"fight\", \"game\", \"kiss\", \"lonely\", \"inside\", \"devil\", \"grind\", \"true\", \"nothin\", \"smoke\", \"forget\", \"sweet\", \"dead\", \"road\", \"everybody\", \"blood\", \"beat\", \"fool\", \"free\", \"body\", \"listen\", \"hurt\", \"remember\", \"livin\", \"blow\", \"love\", \"open\", \"best\", \"see\", \"learn\", \"grow\", \"somebody\", \"care\", \"ready\", \"gettin\", \"wait\", \"ride\", \"save\", \"door\", \"truth\", \"till\", \"deep\", \"help\", \"throw\", \"breathe\", \"woman\", \"rain\", \"kick\", \"years\", \"white\", \"close\", \"sure\", \"drop\", \"die\", \"wind\", \"dance\", \"wall\", \"reason\", \"maybe\", \"matter\", \"comin\", \"forever\", \"country\", \"today\", \"hide\", \"stick\", \"catch\", \"friends\", \"tryin\", \"hate\", \"shake\", \"pull\", \"lie\", \"goin\", \"cry\", \"death\", \"check\", \"crazy\", \"lookin\", \"spend\", \"morning\", \"feet\", \"young\", \"smile\", \"run\", \"guess\", \"thank\", \"music\", \"girls\", \"hang\", \"dark\", \"write\", \"scar\", \"easy\", \"alive\", \"straight\", \"drive\", \"alright\", \"water\", \"talkin\", \"stone\", \"goodbye\", \"blame\", \"rest\", \"step\", \"keep\", \"arm\", \"whoa\", \"round\", \"late\", \"bone\", \"pray\", \"wonder\", \"tire\", \"somethin\", \"house\", \"wear\", \"kind\", \"evil\", \"fear\", \"fast\", \"hole\", \"ring\", \"tomorrow\", \"strong\", \"doin\", \"raise\", \"follow\", \"lips\", \"tight\", \"pretty\", \"mouth\", \"understand\", \"train\", \"skin\", \"mama\", \"radio\", \"pick\", \"songs\", \"bear\", \"touch\", \"streets\", \"pass\", \"feelin\", \"dirty\", \"couldn\", \"shine\", \"finally\", \"fade\", \"slow\", \"past\", \"heaven\", \"fuckin\", \"lead\", \"brain\", \"speak\", \"flow\", \"waitin\", \"promise\", \"build\", \"begin\", \"apart\", \"street\", \"shame\", \"room\", \"breath\", \"star\", \"city\", \"river\", \"reach\", \"drinkin\", \"bust\", \"waste\", \"outta\", \"land\", \"plan\", \"meet\", \"voice\", \"picture\", \"floor\", \"friend\", \"tree\", \"sell\", \"fine\", \"boys\", \"wild\", \"kid\", \"rhyme\", \"heavy\", \"chain\", \"dope\", \"moment\", \"block\", \"steal\", \"cross\", \"trust\", \"scream\", \"lock\", \"record\", \"moon\", \"knees\", \"loud\", \"gold\", \"shut\", \"tryna\", \"teach\", \"piece\", \"blind\", \"nights\", \"felt\", \"wasn\", \"push\", \"dear\", \"rise\", \"pay\", \"mother\", \"hearts\", \"finger\", \"worry\", \"drown\", \"deal\", \"darling\", \"style\", \"sayin\", \"half\", \"booty\", \"send\", \"runnin\", \"bottle\", \"sign\", \"holy\", \"okay\", \"cool\", \"track\", \"shoe\", \"read\", \"peace\", \"niggaz\", \"wouldn\", \"soon\", \"simple\", \"control\", \"cash\", \"walkin\", \"green\", \"afraid\", \"whiskey\", \"slip\", \"sittin\", \"sick\", \"point\", \"memory\", \"hair\", \"summer\", \"million\", \"memories\", \"lay\", \"choose\", \"swear\", \"spot\", \"paper\", \"happen\", \"doubt\", \"phone\", \"move\", \"end\", \"clean\", \"beautiful\", \"taste\", \"south\", \"couple\", \"bury\", \"rule\", \"number\", \"jump\", \"club\", \"bleed\", \"truck\", \"repeat\", \"knock\", \"guitar\", \"flame\", \"ways\", \"woah\", \"show\", \"school\", \"power\", \"outside\", \"ghost\", \"different\", \"clear\", \"darkness\", \"brother\", \"middle\", \"mess\", \"babe\", \"search\", \"playin\", \"makin\", \"let\", \"hook\", \"daddy\", \"spit\", \"hoe\", \"ones\", \"motherfucker\", \"twist\", \"thousand\", \"band\", \"window\", \"tongue\", \"remain\", \"paint\", \"oooh\", \"pocket\", \"laugh\", \"bind\", \"shout\", \"quit\", \"minute\", \"count\", \"clock\", \"warm\", \"pack\", \"hood\", \"thinkin\", \"second\", \"luck\", \"dust\", \"yesterday\", \"sink\", \"perfect\", \"glass\", \"fake\", \"brand\", \"bite\", \"ball\", \"nice\", \"mistake\", \"fell\", \"trouble\", \"momma\", \"dont\", \"crack\", \"grab\", \"cover\", \"rock\", \"grave\", \"forgive\", \"belong\", \"beer\", \"wave\", \"stack\", \"smell\", \"crew\", \"share\", \"question\", \"pride\", \"family\", \"ask\", \"wife\", \"great\", \"fail\", \"weed\", \"year\", \"sorry\", \"funny\", \"father\", \"boat\", \"answer\", \"steady\", \"someday\", \"lonesome\", \"book\", \"wine\", \"space\", \"figure\", \"dress\", \"child\", \"bang\", \"mirror\", \"freeze\", \"fact\", \"color\", \"wheel\", \"sand\", \"heat\", \"gang\", \"story\", \"neck\", \"field\", \"crowd\", \"treat\", \"sight\", \"realize\", \"pour\", \"hop\", \"fill\", \"clothe\", \"buy\", \"ahead\", \"wide\", \"silence\", \"near\", \"lover\", \"longer\", \"kinda\", \"shin\", \"earth\", \"wake\", \"thoughts\", \"stuff\", \"spin\", \"loose\", \"lean\", \"homie\", \"future\", \"flip\", \"dollar\", \"crash\", \"bother\", \"bless\", \"wing\", \"trap\", \"sweat\", \"sit\", \"singin\", \"shoulder\", \"quick\", \"hiphop\", \"ease\", \"boss\", \"warn\", \"regret\", \"queen\", \"hit\", \"gun\", \"corner\", \"wreck\", \"takin\", \"strike\", \"sorrow\", \"respect\", \"pussy\", \"heal\", \"closer\", \"children\", \"soldier\", \"single\", \"ship\", \"magic\", \"folks\", \"fly\", \"everyday\", \"crawl\", \"bridge\", \"women\", \"wire\", \"smokin\", \"slowly\", \"sail\", \"ladies\", \"bend\", \"america\", \"small\", \"safe\", \"friday\", \"double\", \"cloud\", \"bambalam\", \"anymore\", \"state\", \"news\", \"lovin\", \"freedom\", \"drug\", \"draw\", \"wrap\", \"weak\", \"string\", \"problem\", \"letter\", \"insane\", \"gangster\", \"church\", \"bird\", \"american\", \"weight\", \"thats\", \"tellin\", \"stronger\", \"steel\", \"pound\", \"mornin\", \"drum\", \"drift\", \"dirt\", \"crown\", \"cheap\", \"bass\", \"trigger\", \"stare\", \"sky\", \"probably\", \"fallin\", \"circle\", \"cigarette\", \"underneath\", \"swing\", \"fee\", \"cryin\", \"chill\", \"boom\", \"trippin\", \"mountain\", \"fresh\", \"rid\", \"pretend\", \"jail\", \"generation\", \"diamonds\", \"cost\", \"climb\", \"brothers\", \"survive\", \"sense\", \"return\", \"later\", \"freak\", \"edge\", \"coast\", \"bullet\", \"boot\", \"bank\", \"army\", \"trick\", \"tough\", \"rappers\", \"problems\", \"ocean\", \"master\", \"load\", \"dare\", \"california\", \"beg\", \"awake\", \"workin\", \"week\", \"trash\", \"lady\", \"instead\", \"hangin\", \"ghetto\", \"dog\", \"battle\", \"winter\", \"type\", \"suck\", \"snow\", \"ridin\", \"rap\", \"prayer\", \"noise\", \"holdin\", \"favorite\", \"escape\", \"dumb\", \"cop\", \"chase\", \"bigger\", \"bar\", \"thang\", \"table\", \"stage\", \"race\", \"name\", \"judge\", \"hollow\", \"hmmm\", \"county\", \"chest\", \"teeth\", \"snake\", \"shots\", \"plus\", \"paradise\", \"nose\", \"liquor\", \"higher\", \"haunt\", \"dame\", \"whisper\", \"slide\", \"sippin\", \"shouldn\", \"nerve\", \"highway\", \"heartbreak\", \"coffee\", \"claim\", \"travel\", \"trade\", \"tick\", \"switch\", \"store\", \"poor\", \"heartache\", \"habit\", \"beast\", \"vibe\", \"tie\", \"telephone\", \"suppose\", \"short\", \"rough\", \"redneck\", \"proud\", \"movin\", \"early\", \"clap\", \"bullshit\", \"prove\", \"pop\", \"lift\", \"dough\", \"york\", \"worst\", \"wicked\", \"spirit\", \"spell\", \"smooth\", \"sister\", \"shall\", \"seat\", \"pressure\", \"murder\", \"midnight\", \"hour\", \"horse\", \"girlfriend\", \"flash\", \"disappear\", \"dime\", \"demons\", \"dancin\", \"crime\", \"class\", \"zone\", \"vein\", \"super\", \"spring\", \"solo\", \"shop\", \"roam\", \"pump\", \"motherfuckers\", \"lick\", \"haters\", \"forgiveness\", \"foot\", \"fire\", \"difference\", \"crank\", \"chicken\", \"button\", \"welcome\", \"weather\", \"thrill\", \"surround\", \"stupid\", \"sinner\", \"shadow\", \"shade\", \"scratch\", \"saint\", \"pimp\", \"path\", \"motherfucking\", \"hello\", \"fever\", \"fair\", \"drag\", \"calm\", \"twice\", \"southern\", \"scene\", \"quiet\", \"poppin\", \"note\", \"imma\", \"groove\", \"grand\", \"goodnight\", \"flag\", \"fish\", \"cocaine\", \"chair\", \"business\", \"view\", \"texas\", \"spread\", \"sheet\", \"roads\", \"lovers\", \"hours\", \"homies\", \"hill\", \"hallelujah\", \"givin\", \"dollars\", \"curse\", \"cook\", \"choice\", \"burnin\", \"breakin\", \"blowin\", \"bell\", \"admit\", \"wash\", \"wander\", \"tune\", \"sword\", \"sunday\", \"soft\", \"slave\", \"root\", \"pills\", \"months\", \"keepin\", \"join\", \"jeans\", \"have\", \"funky\", \"force\", \"dawg\", \"blunt\", \"toe\", \"rockin\", \"pistol\", \"pimpin\", \"park\", \"lyin\", \"knife\", \"harder\", \"golden\", \"fate\", \"excuse\", \"dude\", \"danger\", \"choke\", \"cars\", \"buzz\", \"bringin\", \"turnin\", \"temper\", \"shimmy\", \"shatter\", \"shape\", \"saturday\", \"roof\", \"loneliness\", \"lesson\", \"havin\", \"hardest\", \"east\", \"blink\", \"angels\", \"weekend\", \"tide\", \"thugs\", \"team\", \"suffer\", \"struggle\", \"static\", \"special\", \"slap\", \"rush\", \"raver\", \"nation\", \"madness\", \"kickin\", \"bright\", \"beneath\", \"act\", \"yellow\", \"worse\", \"watchin\", \"seven\", \"self\", \"rope\", \"prison\", \"plain\", \"lately\", \"hungry\", \"human\", \"hat\", \"hammer\", \"gimme\", \"gangsta\", \"focus\", \"faster\", \"desert\", \"cut\", \"crush\", \"chick\", \"card\", \"bullets\", \"beef\", \"test\", \"sober\", \"offer\", \"motherfuckin\", \"messin\", \"message\", \"hotter\", \"guy\", \"guide\", \"grip\", \"glow\", \"form\", \"fame\", \"doors\", \"dash\", \"darlin\", \"bare\", \"attack\", \"youth\", \"windows\", \"weep\", \"ticket\", \"sunset\", \"stress\", \"strength\", \"strange\", \"stain\", \"spill\", \"solid\", \"shed\", \"satisfy\", \"roses\", \"precious\", \"police\", \"leavin\", \"hotel\", \"hardcore\", \"find\", \"echo\", \"dyin\", \"downtown\", \"cowboy\", \"coke\", \"clown\", \"cast\", \"bitter\", \"beauty\", \"weapon\", \"undo\", \"trump\", \"trailer\", \"tall\", \"strap\", \"stranger\", \"silent\", \"sanctuary\", \"rhythm\", \"represent\", \"neighbor\", \"monkey\", \"mississippi\", \"miracle\", \"lifetime\", \"large\", \"island\", \"hero\", \"final\", \"expect\", \"eagle\", \"desire\", \"cadillac\", \"bunch\", \"alabama\", \"wull\", \"wound\", \"woot\", \"whip\", \"thunder\", \"thug\", \"tangle\", \"swim\", \"raggamuffin\", \"preach\", \"porch\", \"piss\", \"older\", \"melt\", \"knowin\", \"joke\", \"jackpot\", \"hustle\", \"handle\", \"grass\", \"enemies\", \"crib\", \"creep\", \"clip\", \"certain\", \"carry\", \"beach\", \"ash\", \"aren\", \"album\", \"wisdom\", \"whistle\", \"vision\", \"swallow\", \"stories\", \"slippin\", \"sin\", \"showin\", \"shoulda\", \"shootin\", \"remind\", \"rapper\", \"nature\", \"moonlight\", \"misery\", \"limit\", \"imagine\", \"funk\", \"float\", \"fix\", \"drivin\", \"deeper\", \"date\", \"dangerous\", \"callin\", \"bull\", \"breakdown\", \"bread\", \"bounce\", \"blade\", \"barely\", \"actin\", \"wipe\", \"vuke\", \"surrender\", \"suit\", \"shock\", \"shirt\", \"set\", \"screen\", \"rag\", \"put\", \"post\", \"plenty\", \"person\", \"ohhhh\", \"neon\", \"mood\", \"mile\", \"lake\", \"kitchen\", \"jumpin\", \"housequake\", \"hillbilly\", \"frame\", \"exactly\", \"eksen\", \"create\", \"cheat\", \"cell\", \"trip\", \"surprise\", \"strip\", \"stretch\", \"silver\", \"shore\", \"pillow\", \"outlaw\", \"original\", \"minutes\", \"marry\", \"holler\", \"heartbeat\", \"gather\", \"finish\", \"favor\", \"exist\", \"even\", \"doctor\", \"divine\", \"direction\", \"degrees\", \"daughter\", \"cruel\", \"cooler\", \"chop\", \"champagne\", \"burden\", \"breeze\", \"brave\", \"bill\", \"amaze\", \"wishin\", \"win\", \"whoaoh\", \"weigh\", \"weary\", \"throne\", \"thankful\", \"sweeter\", \"split\", \"speed\", \"spark\", \"souls\", \"seed\", \"season\", \"screamin\", \"satan\", \"replace\", \"release\", \"project\", \"passion\", \"page\", \"north\", \"meatstick\", \"label\", \"key\", \"joint\", \"happiness\", \"guarantee\", \"fry\", \"fence\", \"ears\", \"dingaling\", \"decide\", \"borrow\", \"birth\", \"basement\", \"baddest\", \"asleep\", \"aside\", \"wise\", \"waan\", \"vacation\", \"trail\", \"tail\", \"sugar\", \"stir\", \"station\", \"squad\", \"secret\", \"reflection\", \"quarter\", \"puttin\", \"pawn\", \"pant\", \"hurry\", \"grin\", \"gift\", \"gear\", \"food\", \"flower\", \"fan\", \"explain\", \"dive\", \"diss\", \"deserve\", \"deck\", \"connect\", \"cock\", \"busy\", \"bubble\", \"witness\", \"whooo\", \"vain\", \"tool\", \"tennessee\", \"stumble\", \"stomp\", \"shawty\", \"screw\", \"puddle\", \"pole\", \"poison\", \"peep\", \"nickel\", \"lowdown\", \"lovely\", \"lighter\", \"killin\", \"horn\", \"hmmmm\", \"garden\", \"disguise\", \"bruise\", \"bible\", \"anybody\", \"amen\", \"agree\", \"visions\", \"throat\", \"tender\", \"squeeze\", \"snap\", \"smack\", \"slick\", \"silly\", \"sack\", \"refuse\", \"rage\", \"preacher\", \"oughta\", \"needle\", \"naked\", \"monday\", \"moments\", \"list\", \"lightning\", \"jungle\", \"juice\", \"guitars\", \"grill\", \"glue\", \"gain\", \"frown\", \"forth\", \"fault\", \"distance\", \"cream\", \"countin\", \"complain\", \"comfort\", \"click\", \"ching\", \"chasin\", \"cat\", \"candle\", \"brooklyn\", \"boyz\", \"bore\", \"back\", \"anytime\", \"victim\", \"valley\", \"twentyone\", \"toss\", \"tooth\", \"tonk\", \"sneak\", \"snatch\", \"slay\", \"shinin\", \"shelter\", \"score\", \"rude\", \"rip\", \"recognize\", \"range\", \"protect\", \"press\", \"praise\", \"plane\", \"pink\", \"pill\", \"paris\", \"order\", \"oooo\", \"mystery\", \"movie\", \"moan\", \"misunderstand\", \"missin\", \"mighty\", \"microphone\", \"machine\", \"link\", \"kinds\", \"jack\", \"hunnid\", \"honky\", \"hittin\", \"guilty\", \"freight\", \"forward\", \"expose\", \"explode\", \"everytime\", \"daily\", \"creepin\", \"cookin\", \"coat\", \"capture\", \"cabin\", \"boob\", \"bein\", \"awhile\", \"violence\", \"swingin\", \"sweep\", \"standin\", \"smash\", \"sinners\", \"shakin\", \"serve\", \"rainy\", \"peaceful\", \"match\", \"lessons\", \"knockin\", \"innocent\", \"hurricane\", \"history\", \"gots\", \"goody\", \"freakit\", \"flex\", \"dudes\", \"dish\", \"diesel\", \"dice\", \"creek\", \"compare\", \"claw\", \"christmas\", \"charge\", \"cake\", \"bustin\", \"brick\", \"bomb\", \"bloody\", \"ballin\", \"attention\", \"action\", \"yell\", \"teacher\", \"surely\", \"spray\", \"smart\", \"sigh\", \"settle\", \"seek\", \"savior\", \"ruin\", \"revolution\", \"redemption\", \"rebel\", \"prepare\", \"player\", \"plate\", \"ohoh\", \"nuttin\", \"numb\", \"neighborhood\", \"mix\", \"metal\", \"magnet\", \"leather\", \"lazy\", \"july\", \"jones\", \"jacket\", \"innocence\", \"hatin\", \"hangover\", \"gently\", \"gentle\", \"frontin\", \"flicker\", \"flesh\", \"farm\", \"extra\", \"destroy\", \"deny\", \"demon\", \"darkest\", \"cruise\", \"cow\", \"confuse\", \"cheek\", \"center\", \"ceiling\", \"cage\", \"bump\", \"brighter\", \"blast\", \"bag\", \"awful\", \"aight\", \"ahhh\", \"abuse\", \"woods\", \"wobble\", \"wearin\", \"unwind\", \"tshirt\", \"trunk\", \"toll\", \"thirsty\", \"slam\", \"situation\", \"shift\", \"seein\", \"salvation\", \"salt\", \"sadness\", \"rust\", \"relax\", \"rattle\", \"rappin\", \"purple\", \"punk\", \"pool\", \"part\", \"ought\", \"oohh\", \"monster\", \"mission\", \"maker\", \"level\", \"lack\", \"kingdom\", \"jewel\", \"important\", \"idea\", \"hype\", \"honest\", \"heel\", \"greatest\", \"gamble\", \"fountain\", \"fold\", \"embrace\", \"drip\", \"dresser\", \"defeat\", \"corn\", \"condition\", \"cocky\", \"closin\", \"careful\", \"bumpin\", \"booze\", \"beware\", \"belly\", \"bathroom\", \"aint\", \"advice\", \"zoom\", \"wonderful\", \"weakness\", \"truly\", \"tour\", \"throwin\", \"thee\", \"tank\", \"supa\", \"suitcase\", \"success\", \"strangers\", \"stake\", \"stab\", \"sexy\", \"rubber\", \"rob\", \"rescue\", \"pleasure\", \"plant\", \"pickin\", \"percent\", \"ooooh\", \"oklahoma\", \"nappy\", \"mountains\", \"motion\", \"march\", \"main\", \"louder\", \"listenin\", \"kissin\", \"killer\", \"invisible\", \"inspiration\", \"image\", \"hypnotize\", \"homeland\", \"hollywood\", \"hips\", \"hatred\", \"gutter\", \"grey\", \"gravity\", \"glock\", \"gats\", \"foxtrot\", \"fallorun\", \"eat\", \"eastside\", \"duck\", \"dreamin\", \"drama\", \"dobalina\", \"diggin\", \"daylight\", \"consume\", \"constantly\", \"code\", \"clue\", \"charm\", \"channel\", \"camera\", \"cali\", \"bucktown\", \"babybaby\", \"yeahhh\", \"wrist\", \"wonderin\", \"witch\", \"will\", \"whine\", \"whatcha\", \"wed\", \"uhhuh\", \"sweetheart\", \"supersonic\", \"sucker\", \"soak\", \"skinny\", \"sipsippin\", \"sideways\", \"shelf\", \"sharp\", \"shackle\", \"scotch\", \"rockstar\", \"reveal\", \"rent\", \"rack\", \"quickly\", \"purpose\", \"pure\", \"proof\", \"proceed\", \"paralyze\", \"notice\", \"model\", \"meat\", \"mass\", \"lame\", \"iron\", \"hush\", \"hearted\", \"guard\", \"grandma\", \"goodness\", \"fours\", \"foolish\", \"folk\", \"flood\", \"fist\", \"farther\", \"erase\", \"enter\", \"dues\", \"down\", \"dim\", \"depart\", \"decisions\", \"cure\", \"cup\", \"concern\", \"collar\", \"choir\", \"chillin\", \"chicks\", \"cheatin\", \"captain\", \"brake\", \"boyfriend\", \"blaze\", \"backwards\", \"attitude\", \"appear\", \"animal\", \"alert\", \"ache\", \"worlds\", \"whore\", \"wealth\", \"ugly\", \"torture\", \"tip\", \"tattoo\", \"tap\", \"tame\", \"swell\", \"summertime\", \"stash\", \"sons\", \"softly\", \"smaller\", \"sleeve\", \"sleepin\", \"sixtyminute\", \"shower\", \"sake\", \"romance\", \"rocket\", \"risk\", \"righteous\", \"reign\", \"reality\", \"psycho\", \"private\", \"pin\", \"pile\", \"parade\", \"necessary\", \"nasty\", \"mudhole\", \"montana\", \"medicine\", \"meadow\", \"lungs\", \"locomotive\", \"keeper\", \"jealous\", \"ignore\", \"hundreds\", \"holiday\", \"highs\", \"harm\", \"gate\", \"gasoline\", \"flavor\", \"flat\", \"finna\", \"endless\", \"dread\", \"distant\", \"digital\", \"diggity\", \"dial\", \"depend\", \"course\", \"contact\", \"concrete\", \"complicate\", \"cheer\", \"buyin\", \"butt\", \"buck\", \"brush\", \"betcha\", \"bedroom\", \"bean\", \"be\", \"await\", \"appreciate\", \"alarm\", \"whoop\", \"westside\", \"wastin\", \"war\", \"victory\", \"vegas\", \"unknown\", \"undeniable\", \"uncle\", \"treasure\", \"tighter\", \"thirty\", \"tease\", \"teardrops\", \"stem\", \"spoil\", \"sock\", \"shotgun\", \"sheep\", \"selfish\", \"remedy\", \"rascal\", \"pullin\", \"print\", \"prime\", \"pose\", \"popo\", \"platinum\", \"peel\", \"pardon\", \"outlive\", \"nonononot\", \"milk\", \"mexican\", \"mental\", \"mend\", \"maintain\", \"lullaby\", \"lolove\", \"lala\", \"knowledge\", \"knot\", \"howl\", \"horizon\", \"haha\", \"grain\", \"grade\", \"giddy\", \"fore\", \"finest\", \"fiddle\", \"dudu\", \"droppin\", \"drain\", \"dragon\", \"doublewide\", \"disgrace\", \"destiny\", \"deliver\", \"cuss\", \"cube\", \"crave\", \"couch\", \"consider\", \"company\", \"colour\", \"coal\", \"chrome\", \"chapter\", \"cane\", \"boomshboom\", \"benz\", \"belt\", \"beers\", \"bastard\", \"bartender\", \"bark\", \"arrow\", \"arrive\", \"apple\", \"angry\", \"anger\", \"yall\", \"woohoo\", \"witchcraft\", \"whats\", \"weave\", \"wack\", \"violent\", \"usually\", \"underground\", \"traffic\", \"top\", \"tock\", \"toast\", \"ticktock\", \"swerve\", \"suddenly\", \"suckers\", \"steppin\", \"stayin\", \"starin\", \"stall\", \"spinnin\", \"society\", \"social\", \"sip\", \"shovel\", \"shady\", \"secrets\", \"seal\", \"satellite\", \"sacrifice\", \"roar\", \"restless\", \"reputation\", \"rearrange\", \"puzzle\", \"punch\", \"prop\", \"plug\", \"pair\", \"offend\", \"nuff\", \"nail\", \"mummy\", \"muddy\", \"moonshine\", \"mista\", \"medication\", \"mall\", \"loss\", \"liar\", \"journey\", \"joker\", \"jam\", \"jailhouse\", \"influence\", \"inferno\", \"indigo\", \"hustlin\", \"huntin\", \"hunger\", \"humble\", \"hopin\", \"holla\", \"harlem\", \"greed\", \"goddamn\", \"fuse\", \"fruit\", \"forevermore\", \"fit\", \"express\", \"enemy\", \"effect\", \"earn\", \"dumdumdadadada\", \"dizzy\", \"discover\", \"dig\", \"diffie\", \"desperate\", \"dearly\", \"dealer\", \"crunk\", \"coupe\", \"competition\", \"command\", \"clique\", \"chevrolet\", \"cheese\", \"castin\", \"buddies\", \"boogie\", \"bling\", \"blank\", \"barrel\", \"alcohol\", \"addict\", \"wutang\", \"whoo\", \"whoaohohohoh\", \"whoaohohoh\", \"weren\", \"underwear\", \"tippin\", \"theres\", \"tape\", \"sway\", \"studio\", \"strait\", \"statues\", \"speakers\", \"snoop\", \"slug\", \"skull\", \"skip\", \"singer\", \"sensation\", \"seas\", \"scheme\", \"salute\", \"roast\", \"riot\", \"rim\", \"reflect\", \"receive\", \"razor\", \"rainbow\", \"rail\", \"pumpin\", \"population\", \"plow\", \"pledge\", \"perfume\", \"parkin\", \"orleans\", \"odds\", \"necessities\", \"mister\", \"measure\", \"mask\", \"manipulator\", \"lower\", \"legend\", \"lace\", \"kush\", \"jersey\", \"involve\", \"halo\", \"gravel\", \"goddess\", \"gateway\", \"gallows\", \"fuel\", \"foreign\", \"fellas\", \"feast\", \"fcker\", \"failure\", \"excite\", \"energy\", \"emotions\", \"emotion\", \"easier\", \"disease\", \"ding\", \"diddy\", \"design\", \"deadly\", \"curve\", \"culture\", \"crook\", \"court\", \"cotton\", \"core\", \"convince\", \"common\", \"college\", \"closet\", \"cling\", \"cave\", \"carve\", \"can\", \"blur\", \"betray\", \"badonkadonk\", \"babylon\", \"average\", \"asshole\", \"ashamed\", \"analog\", \"allow\", \"allegiance\", \"afternoon\", \"whoaoooooooo\", \"warhorse\", \"wantin\", \"vouges\", \"vine\", \"upside\", \"twilight\", \"tuck\", \"tragedy\", \"timber\", \"text\", \"tequila\", \"tale\", \"sunlight\", \"suicide\", \"stun\", \"stream\", \"stray\", \"starve\", \"snitch\", \"smokey\", \"slaughter\", \"slack\", \"shrine\", \"shield\", \"scrap\", \"safety\", \"risin\", \"ringer\", \"relentless\", \"rapture\", \"protection\", \"present\", \"prayin\", \"prayers\", \"plead\", \"perfectly\", \"parent\", \"papa\", \"palm\", \"pale\", \"outrage\", \"operator\", \"obscene\", \"nut\", \"noose\", \"nervous\", \"nashville\", \"mexico\", \"mention\", \"lipstick\", \"lettin\", \"last\", \"language\", \"kings\", \"justice\"], \"legendgroup\": \"\", \"marker\": {\"color\": \"#636efa\", \"size\": [1.0, 1.0, 1.0, 1.0, 1.0, 1.0, 1.0, 1.0, 1.0, 1.0, 1.0, 1.0, 1.0, 1.0, 1.0, 1.0, 1.0, 1.0, 1.0, 1.0, 1.0, 1.0, 1.0, 1.0, 1.0, 1.0, 1.0, 1.0, 1.0, 1.0, 1.0, 1.0, 1.0, 1.0, 1.0, 1.0, 1.0, 1.0, 1.0, 1.0, 1.0, 1.0, 1.0, 1.0, 1.0, 1.0, 1.0, 1.0, 1.0, 1.0, 1.0, 1.0, 1.0, 1.0, 1.0, 1.0, 1.0, 1.0, 1.0, 1.0, 1.0, 1.0, 1.0, 1.0, 1.0, 1.0, 1.0, 1.0, 1.0, 1.0, 1.0, 1.0, 1.0, 1.0, 1.0, 1.0, 1.0, 1.0, 1.0, 1.0, 1.0, 1.0, 1.0, 1.0, 1.0, 1.0, 1.0, 1.0, 1.0, 1.0, 1.0, 1.0, 1.0, 1.0, 1.0, 1.0, 1.0, 1.0, 1.0, 1.0, 1.0, 1.0, 1.0, 1.0, 1.0, 1.0, 1.0, 1.0, 1.0, 1.0, 1.0, 1.0, 1.0, 1.0, 1.0, 1.0, 1.0, 1.0, 1.0, 1.0, 1.0, 1.0, 1.0, 1.0, 1.0, 1.0, 1.0, 1.0, 1.0, 1.0, 1.0, 1.0, 1.0, 1.0, 1.0, 1.0, 1.0, 1.0, 1.0, 1.0, 1.0, 1.0, 1.0, 1.0, 1.0, 1.0, 1.0, 1.0, 1.0, 1.0, 1.0, 1.0, 1.0, 1.0, 1.0, 1.0, 1.0, 1.0, 1.0, 1.0, 1.0, 1.0, 1.0, 1.0, 1.0, 1.0, 1.0, 1.0, 1.0, 1.0, 1.0, 1.0, 1.0, 1.0, 1.0, 1.0, 1.0, 1.0, 1.0, 1.0, 1.0, 1.0, 1.0, 1.0, 1.0, 1.0, 1.0, 1.0, 1.0, 1.0, 1.0, 1.0, 1.0, 1.0, 1.0, 1.0, 1.0, 1.0, 1.0, 1.0, 1.0, 1.0, 1.0, 1.0, 1.0, 1.0, 1.0, 1.0, 1.0, 1.0, 1.0, 1.0, 1.0, 1.0, 1.0, 1.0, 1.0, 1.0, 1.0, 1.0, 1.0, 1.0, 1.0, 1.0, 1.0, 1.0, 1.0, 1.0, 1.0, 1.0, 1.0, 1.0, 1.0, 1.0, 1.0, 1.0, 1.0, 1.0, 1.0, 1.0, 1.0, 1.0, 1.0, 1.0, 1.0, 1.0, 1.0, 1.0, 1.0, 1.0, 1.0, 1.0, 1.0, 1.0, 1.0, 1.0, 1.0, 1.0, 1.0, 1.0, 1.0, 1.0, 1.0, 1.0, 1.0, 1.0, 1.0, 1.0, 1.0, 1.0, 1.0, 1.0, 1.0, 1.0, 1.0, 1.0, 1.0, 1.0, 1.0, 1.0, 1.0, 1.0, 1.0, 1.0, 1.0, 1.0, 1.0, 1.0, 1.0, 1.0, 1.0, 1.0, 1.0, 1.0, 1.0, 1.0, 1.0, 1.0, 1.0, 1.0, 1.0, 1.0, 1.0, 1.0, 1.0, 1.0, 1.0, 1.0, 1.0, 1.0, 1.0, 1.0, 1.0, 1.0, 1.0, 1.0, 1.0, 1.0, 1.0, 1.0, 1.0, 1.0, 1.0, 1.0, 1.0, 1.0, 1.0, 1.0, 1.0, 1.0, 1.0, 1.0, 1.0, 1.0, 1.0, 1.0, 1.0, 1.0, 1.0, 1.0, 1.0, 1.0, 1.0, 1.0, 1.0, 1.0, 1.0, 1.0, 1.0, 1.0, 1.0, 1.0, 1.0, 1.0, 1.0, 1.0, 1.0, 1.0, 1.0, 1.0, 1.0, 1.0, 1.0, 1.0, 1.0, 1.0, 1.0, 1.0, 1.0, 1.0, 1.0, 1.0, 1.0, 1.0, 1.0, 1.0, 1.0, 1.0, 1.0, 1.0, 1.0, 1.0, 1.0, 1.0, 1.0, 1.0, 1.0, 1.0, 1.0, 1.0, 1.0, 1.0, 1.0, 1.0, 1.0, 1.0, 1.0, 1.0, 1.0, 1.0, 1.0, 1.0, 1.0, 1.0, 1.0, 1.0, 1.0, 1.0, 1.0, 1.0, 1.0, 1.0, 1.0, 1.0, 1.0, 1.0, 1.0, 1.0, 1.0, 1.0, 1.0, 1.0, 1.0, 1.0, 1.0, 1.0, 1.0, 1.0, 1.0, 1.0, 1.0, 1.0, 1.0, 1.0, 1.0, 1.0, 1.0, 1.0, 1.0, 1.0, 1.0, 1.0, 1.0, 1.0, 1.0, 1.0, 1.0, 1.0, 1.0, 1.0, 1.0, 1.0, 1.0, 1.0, 1.0, 1.0, 1.0, 1.0, 1.0, 1.0, 1.0, 1.0, 1.0, 1.0, 1.0, 1.0, 1.0, 1.0, 1.0, 1.0, 1.0, 1.0, 1.0, 1.0, 1.0, 1.0, 1.0, 1.0, 1.0, 1.0, 1.0, 1.0, 1.0, 1.0, 1.0, 1.0, 1.0, 1.0, 1.0, 1.0, 1.0, 1.0, 1.0, 1.0, 1.0, 1.0, 1.0, 1.0, 1.0, 1.0, 1.0, 1.0, 1.0, 1.0, 1.0, 1.0, 1.0, 1.0, 1.0, 1.0, 1.0, 1.0, 1.0, 1.0, 1.0, 1.0, 1.0, 1.0, 1.0, 1.0, 1.0, 1.0, 1.0, 1.0, 1.0, 1.0, 1.0, 1.0, 1.0, 1.0, 1.0, 1.0, 1.0, 1.0, 1.0, 1.0, 1.0, 1.0, 1.0, 1.0, 1.0, 1.0, 1.0, 1.0, 1.0, 1.0, 1.0, 1.0, 1.0, 1.0, 1.0, 1.0, 1.0, 1.0, 1.0, 1.0, 1.0, 1.0, 1.0, 1.0, 1.0, 1.0, 1.0, 1.0, 1.0, 1.0, 1.0, 1.0, 1.0, 1.0, 1.0, 1.0, 1.0, 1.0, 1.0, 1.0, 1.0, 1.0, 1.0, 1.0, 1.0, 1.0, 1.0, 1.0, 1.0, 1.0, 1.0, 1.0, 1.0, 1.0, 1.0, 1.0, 1.0, 1.0, 1.0, 1.0, 1.0, 1.0, 1.0, 1.0, 1.0, 1.0, 1.0, 1.0, 1.0, 1.0, 1.0, 1.0, 1.0, 1.0, 1.0, 1.0, 1.0, 1.0, 1.0, 1.0, 1.0, 1.0, 1.0, 1.0, 1.0, 1.0, 1.0, 1.0, 1.0, 1.0, 1.0, 1.0, 1.0, 1.0, 1.0, 1.0, 1.0, 1.0, 1.0, 1.0, 1.0, 1.0, 1.0, 1.0, 1.0, 1.0, 1.0, 1.0, 1.0, 1.0, 1.0, 1.0, 1.0, 1.0, 1.0, 1.0, 1.0, 1.0, 1.0, 1.0, 1.0, 1.0, 1.0, 1.0, 1.0, 1.0, 1.0, 1.0, 1.0, 1.0, 1.0, 1.0, 1.0, 1.0, 1.0, 1.0, 1.0, 1.0, 1.0, 1.0, 1.0, 1.0, 1.0, 1.0, 1.0, 1.0, 1.0, 1.0, 1.0, 1.0, 1.0, 1.0, 1.0, 1.0, 1.0, 1.0, 1.0, 1.0, 1.0, 1.0, 1.0, 1.0, 1.0, 1.0, 1.0, 1.0, 1.0, 1.0, 1.0, 1.0, 1.0, 1.0, 1.0, 1.0, 1.0, 1.0, 1.0, 1.0, 1.0, 1.0, 1.0, 1.0, 1.0, 1.0, 1.0, 1.0, 1.0, 1.0, 1.0, 1.0, 1.0, 1.0, 1.0, 1.0, 1.0, 1.0, 1.0, 1.0, 1.0, 1.0, 1.0, 1.0, 1.0, 1.0, 1.0, 1.0, 1.0, 1.0, 1.0, 1.0, 1.0, 1.0, 1.0, 1.0, 1.0, 1.0, 1.0, 1.0, 1.0, 1.0, 1.0, 1.0, 1.0, 1.0, 1.0, 1.0, 1.0, 1.0, 1.0, 1.0, 1.0, 1.0, 1.0, 1.0, 1.0, 1.0, 1.0, 1.0, 1.0, 1.0, 1.0, 1.0, 1.0, 1.0, 1.0, 1.0, 1.0, 1.0, 1.0, 1.0, 1.0, 1.0, 1.0, 1.0, 1.0, 1.0, 1.0, 1.0, 1.0, 1.0, 1.0, 1.0, 1.0, 1.0, 1.0, 1.0, 1.0, 1.0, 1.0, 1.0, 1.0, 1.0, 1.0, 1.0, 1.0, 1.0, 1.0, 1.0, 1.0, 1.0, 1.0, 1.0, 1.0, 1.0, 1.0, 1.0, 1.0, 1.0, 1.0, 1.0, 1.0, 1.0, 1.0, 1.0, 1.0, 1.0, 1.0, 1.0, 1.0, 1.0, 1.0, 1.0, 1.0, 1.0, 1.0, 1.0, 1.0, 1.0, 1.0, 1.0, 1.0, 1.0, 1.0, 1.0, 1.0, 1.0, 1.0, 1.0, 1.0, 1.0, 1.0, 1.0, 1.0, 1.0, 1.0, 1.0, 1.0, 1.0, 1.0, 1.0, 1.0, 1.0, 1.0, 1.0, 1.0, 1.0, 1.0, 1.0, 1.0, 1.0, 1.0, 1.0, 1.0, 1.0, 1.0, 1.0, 1.0, 1.0, 1.0, 1.0, 1.0, 1.0, 1.0, 1.0, 1.0, 1.0, 1.0, 1.0, 1.0, 1.0, 1.0, 1.0, 1.0, 1.0, 1.0, 1.0, 1.0, 1.0, 1.0, 1.0, 1.0, 1.0, 1.0, 1.0, 1.0, 1.0, 1.0, 1.0, 1.0, 1.0, 1.0, 1.0, 1.0, 1.0, 1.0, 1.0, 1.0, 1.0, 1.0, 1.0, 1.0, 1.0, 1.0, 1.0, 1.0, 1.0, 1.0, 1.0, 1.0, 1.0, 1.0, 1.0, 1.0, 1.0, 1.0, 1.0, 1.0, 1.0, 1.0, 1.0, 1.0, 1.0, 1.0, 1.0, 1.0, 1.0, 1.0, 1.0, 1.0, 1.0, 1.0, 1.0, 1.0, 1.0, 1.0, 1.0, 1.0, 1.0, 1.0, 1.0, 1.0, 1.0, 1.0, 1.0, 1.0, 1.0, 1.0, 1.0, 1.0, 1.0, 1.0, 1.0, 1.0, 1.0, 1.0, 1.0, 1.0, 1.0, 1.0, 1.0, 1.0, 1.0, 1.0, 1.0, 1.0, 1.0, 1.0, 1.0, 1.0, 1.0, 1.0, 1.0, 1.0, 1.0, 1.0, 1.0, 1.0, 1.0, 1.0, 1.0, 1.0, 1.0, 1.0, 1.0, 1.0, 1.0, 1.0, 1.0, 1.0, 1.0, 1.0, 1.0, 1.0, 1.0, 1.0, 1.0, 1.0, 1.0, 1.0, 1.0, 1.0, 1.0, 1.0, 1.0, 1.0, 1.0, 1.0, 1.0, 1.0, 1.0, 1.0, 1.0, 1.0, 1.0, 1.0, 1.0, 1.0, 1.0, 1.0, 1.0, 1.0, 1.0, 1.0, 1.0, 1.0, 1.0, 1.0, 1.0, 1.0, 1.0, 1.0, 1.0, 1.0, 1.0, 1.0, 1.0, 1.0, 1.0, 1.0, 1.0, 1.0, 1.0, 1.0, 1.0, 1.0, 1.0, 1.0, 1.0, 1.0, 1.0, 1.0, 1.0, 1.0, 1.0, 1.0, 1.0, 1.0, 1.0, 1.0, 1.0, 1.0, 1.0, 1.0, 1.0, 1.0, 1.0, 1.0, 1.0, 1.0, 1.0, 1.0, 1.0, 1.0, 1.0, 1.0, 1.0, 1.0, 1.0, 1.0, 1.0, 1.0, 1.0, 1.0, 1.0, 1.0, 1.0, 1.0, 1.0, 1.0, 1.0, 1.0, 1.0, 1.0, 1.0, 1.0, 1.0, 1.0, 1.0, 1.0, 1.0, 1.0, 1.0, 1.0, 1.0, 1.0, 1.0, 1.0, 1.0, 1.0, 1.0, 1.0, 1.0, 1.0, 1.0, 1.0, 1.0, 1.0, 1.0, 1.0, 1.0, 1.0, 1.0, 1.0, 1.0, 1.0, 1.0, 1.0, 1.0, 1.0, 1.0, 1.0, 1.0, 1.0, 1.0, 1.0, 1.0, 1.0, 1.0, 1.0, 1.0, 1.0, 1.0, 1.0, 1.0, 1.0, 1.0, 1.0, 1.0, 1.0, 1.0, 1.0, 1.0, 1.0, 1.0, 1.0, 1.0, 1.0, 1.0, 1.0, 1.0, 1.0, 1.0, 1.0, 1.0, 1.0, 1.0, 1.0, 1.0, 1.0, 1.0, 1.0, 1.0, 1.0, 1.0, 1.0, 1.0, 1.0, 1.0, 1.0, 1.0, 1.0, 1.0, 1.0, 1.0, 1.0, 1.0, 1.0, 1.0, 1.0, 1.0, 1.0, 1.0, 1.0, 1.0, 1.0, 1.0, 1.0, 1.0, 1.0, 1.0, 1.0, 1.0, 1.0, 1.0, 1.0, 1.0, 1.0, 1.0, 1.0, 1.0, 1.0, 1.0, 1.0, 1.0, 1.0, 1.0, 1.0, 1.0, 1.0, 1.0, 1.0, 1.0, 1.0, 1.0, 1.0, 1.0, 1.0, 1.0, 1.0, 1.0, 1.0, 1.0, 1.0, 1.0, 1.0, 1.0, 1.0, 1.0, 1.0, 1.0, 1.0, 1.0, 1.0, 1.0, 1.0, 1.0, 1.0, 1.0, 1.0, 1.0, 1.0, 1.0, 1.0, 1.0, 1.0, 1.0, 1.0, 1.0, 1.0, 1.0, 1.0, 1.0, 1.0, 1.0, 1.0, 1.0, 1.0, 1.0, 1.0, 1.0, 1.0, 1.0, 1.0, 1.0, 1.0, 1.0, 1.0, 1.0, 1.0, 1.0, 1.0, 1.0, 1.0, 1.0, 1.0, 1.0, 1.0, 1.0, 1.0, 1.0, 1.0, 1.0, 1.0, 1.0, 1.0, 1.0, 1.0, 1.0, 1.0, 1.0, 1.0, 1.0, 1.0, 1.0, 1.0, 1.0, 1.0, 1.0, 1.0, 1.0, 1.0, 1.0, 1.0, 1.0, 1.0, 1.0, 1.0, 1.0, 1.0, 1.0, 1.0, 1.0, 1.0, 1.0, 1.0, 1.0, 1.0, 1.0, 1.0, 1.0, 1.0, 1.0, 1.0, 1.0, 1.0, 1.0, 1.0, 1.0, 1.0, 1.0, 1.0, 1.0, 1.0, 1.0, 1.0, 1.0, 1.0, 1.0, 1.0, 1.0, 1.0, 1.0, 1.0, 1.0, 1.0, 1.0, 1.0, 1.0, 1.0, 1.0, 1.0, 1.0, 1.0, 1.0, 1.0, 1.0, 1.0, 1.0, 1.0, 1.0, 1.0, 1.0, 1.0, 1.0, 1.0, 1.0, 1.0, 1.0, 1.0, 1.0, 1.0, 1.0, 1.0, 1.0, 1.0, 1.0, 1.0, 1.0, 1.0, 1.0, 1.0, 1.0, 1.0, 1.0, 1.0, 1.0, 1.0, 1.0, 1.0, 1.0, 1.0, 1.0, 1.0, 1.0, 1.0, 1.0, 1.0, 1.0, 1.0, 1.0, 1.0, 1.0, 1.0, 1.0, 1.0, 1.0, 1.0, 1.0, 1.0, 1.0, 1.0, 1.0, 1.0, 1.0, 1.0, 1.0, 1.0, 1.0, 1.0, 1.0, 1.0, 1.0, 1.0, 1.0, 1.0, 1.0, 1.0, 1.0, 1.0, 1.0, 1.0, 1.0, 1.0, 1.0, 1.0, 1.0, 1.0, 1.0, 1.0, 1.0, 1.0, 1.0, 1.0, 1.0, 1.0, 1.0, 1.0, 1.0, 1.0, 1.0, 1.0, 1.0, 1.0, 1.0, 1.0, 1.0, 1.0, 1.0, 1.0, 1.0, 1.0, 1.0, 1.0, 1.0, 1.0, 1.0, 1.0, 1.0, 1.0, 1.0, 1.0, 1.0, 1.0, 1.0, 1.0, 1.0, 1.0, 1.0, 1.0, 1.0, 1.0, 1.0, 1.0, 1.0, 1.0, 1.0, 1.0, 1.0, 1.0, 1.0, 1.0, 1.0, 1.0, 1.0, 1.0, 1.0, 1.0, 1.0, 1.0, 1.0, 1.0, 1.0, 1.0, 1.0, 1.0, 1.0, 1.0, 1.0, 1.0, 1.0, 1.0, 1.0, 1.0, 1.0, 1.0, 1.0, 1.0, 1.0, 1.0, 1.0, 1.0, 1.0, 1.0, 1.0, 1.0, 1.0, 1.0, 1.0, 1.0, 1.0, 1.0, 1.0, 1.0, 1.0, 1.0, 1.0, 1.0, 1.0, 1.0, 1.0, 1.0, 1.0, 1.0, 1.0, 1.0, 1.0, 1.0, 1.0, 1.0, 1.0, 1.0, 1.0, 1.0, 1.0, 1.0, 1.0, 1.0, 1.0, 1.0, 1.0, 1.0, 1.0, 1.0, 1.0, 1.0, 1.0, 1.0, 1.0, 1.0, 1.0, 1.0, 1.0, 1.0, 1.0, 1.0, 1.0, 1.0, 1.0, 1.0, 1.0, 1.0, 1.0, 1.0, 1.0, 1.0, 1.0, 1.0, 1.0, 1.0, 1.0, 1.0, 1.0, 1.0, 1.0, 1.0, 1.0, 1.0, 1.0, 1.0, 1.0, 1.0, 1.0, 1.0, 1.0, 1.0, 1.0, 1.0, 1.0, 1.0, 1.0, 1.0, 1.0, 1.0, 1.0, 1.0, 1.0, 1.0, 1.0, 1.0, 1.0, 1.0, 1.0, 1.0, 1.0, 1.0, 1.0, 1.0, 1.0, 1.0, 1.0, 1.0, 1.0, 1.0, 1.0, 1.0, 1.0, 1.0, 1.0, 1.0, 1.0, 1.0, 1.0, 1.0, 1.0, 1.0, 1.0, 1.0, 1.0, 1.0, 1.0, 1.0, 1.0, 1.0, 1.0, 1.0, 1.0, 1.0, 1.0, 1.0, 1.0, 1.0, 1.0, 1.0, 1.0, 1.0, 1.0, 1.0, 1.0, 1.0, 1.0, 1.0, 1.0, 1.0, 1.0, 1.0, 1.0, 1.0, 1.0, 1.0, 1.0, 1.0, 1.0, 1.0, 1.0, 1.0, 1.0, 1.0, 1.0, 1.0, 1.0, 1.0, 1.0, 1.0, 1.0, 1.0, 1.0, 1.0, 1.0, 1.0, 1.0, 1.0, 1.0, 1.0, 1.0, 1.0, 1.0, 1.0, 1.0, 1.0, 1.0, 1.0, 1.0, 1.0, 1.0, 1.0, 1.0, 1.0, 1.0, 1.0, 1.0, 1.0, 1.0, 1.0, 1.0, 1.0, 1.0, 1.0, 1.0, 1.0, 1.0, 1.0, 1.0, 1.0, 1.0, 1.0, 1.0, 1.0, 1.0, 1.0, 1.0, 1.0, 1.0, 1.0, 1.0, 1.0, 1.0, 1.0, 1.0, 1.0, 1.0, 1.0, 1.0, 1.0, 1.0, 1.0, 1.0, 1.0, 1.0, 1.0, 1.0, 1.0, 1.0, 1.0, 1.0, 1.0, 1.0, 1.0, 1.0, 1.0, 1.0, 1.0, 1.0, 1.0, 1.0, 1.0, 1.0, 1.0, 1.0, 1.0, 1.0, 1.0, 1.0, 1.0, 1.0, 1.0, 1.0, 1.0, 1.0, 1.0, 1.0, 1.0, 1.0, 1.0, 1.0, 1.0, 1.0, 1.0, 1.0, 1.0, 1.0, 1.0, 1.0, 1.0, 1.0, 1.0, 1.0, 1.0, 1.0, 1.0, 1.0, 1.0, 1.0, 1.0, 1.0, 1.0, 1.0, 1.0, 1.0, 1.0, 1.0, 1.0, 1.0, 1.0, 1.0, 1.0, 1.0, 1.0, 1.0, 1.0, 1.0, 1.0, 1.0, 1.0, 1.0, 1.0, 1.0, 1.0, 1.0, 1.0, 1.0, 1.0, 1.0, 1.0, 1.0, 1.0, 1.0, 1.0, 1.0, 1.0, 1.0, 1.0, 1.0, 1.0, 1.0, 1.0, 1.0, 1.0, 1.0, 1.0, 1.0, 1.0, 1.0, 1.0, 1.0, 1.0, 1.0, 1.0, 1.0, 1.0, 1.0, 1.0, 1.0, 1.0, 1.0, 1.0, 1.0, 1.0, 1.0, 1.0, 1.0, 1.0, 1.0, 1.0, 1.0, 1.0, 1.0, 1.0, 1.0, 1.0, 1.0, 1.0, 1.0, 1.0, 1.0, 1.0, 1.0, 1.0, 1.0, 1.0, 1.0, 1.0, 1.0, 1.0, 1.0, 1.0, 1.0, 1.0, 1.0, 1.0, 1.0, 1.0, 1.0, 1.0, 1.0, 1.0, 1.0, 1.0, 1.0, 1.0, 1.0, 1.0, 1.0, 1.0, 1.0, 1.0, 1.0, 1.0, 1.0, 1.0, 1.0, 1.0, 1.0, 1.0, 1.0, 1.0, 1.0, 1.0, 1.0, 1.0, 1.0, 1.0, 1.0, 1.0, 1.0, 1.0, 1.0, 1.0, 1.0, 1.0, 1.0, 1.0, 1.0, 1.0, 1.0, 1.0, 1.0, 1.0, 1.0, 1.0, 1.0, 1.0, 1.0, 1.0, 1.0], \"sizemode\": \"area\", \"sizeref\": 0.25, \"symbol\": \"circle\"}, \"mode\": \"markers\", \"name\": \"\", \"showlegend\": false, \"type\": \"scattergl\", \"x\": [-0.0269711185246706, -0.018295321613550186, 0.06616617739200592, -0.04731101915240288, 0.10461070388555527, 0.06847455352544785, -0.09425737708806992, 0.003683545393869281, 0.057949814945459366, -0.1283923238515854, 0.006106825545430183, 0.0469147153198719, -0.026621835306286812, 0.023338768631219864, -0.03188182786107063, 0.16479045152664185, -0.1719592958688736, -0.05438120663166046, -0.11118357628583908, -0.03268898278474808, -0.029117031022906303, 0.042651306837797165, 0.014053966850042343, -0.08909276127815247, -0.19314366579055786, -0.08928411453962326, -0.1029668003320694, -0.013473711907863617, -0.03243236243724823, 0.028573067858815193, -0.039950668811798096, -0.12714727222919464, -0.20274458825588226, -0.12293791770935059, -0.05961678922176361, -0.03986063972115517, 0.06889350712299347, -0.1667385846376419, -0.04775378108024597, -0.09579166024923325, 0.03470586985349655, 0.09956081956624985, -0.2868734300136566, -0.023565689101815224, -0.0707407295703888, -0.1230262815952301, 0.27843189239501953, -0.06927722692489624, 0.213742196559906, -0.15548323094844818, 0.09397392719984055, -0.07311339676380157, 0.02913554199039936, 0.031094562262296677, -0.006063489709049463, 0.07490964978933334, -0.24363315105438232, 0.1347499042749405, -0.2601698040962219, -0.05216566473245621, 0.1607193648815155, 0.03633473441004753, 0.015540567226707935, 0.029950063675642014, 0.06381877511739731, 0.05563254654407501, -0.17436127364635468, 0.0948309600353241, -0.1201760470867157, 0.22929510474205017, -0.15431693196296692, -0.1520223468542099, 0.20875658094882965, -0.031598106026649475, 0.11265986412763596, 0.07620103657245636, 0.08966466784477234, 0.28300416469573975, 0.07261762768030167, 0.06547673791646957, -0.007170689292252064, -0.20398646593093872, -0.027939561754465103, -0.07343649864196777, -0.24698932468891144, 0.1946122646331787, 0.034625131636857986, -0.20008918642997742, -0.3708965480327606, 0.13779520988464355, -0.29611945152282715, -0.008511516265571117, 0.1905086785554886, -0.0715755969285965, 0.8022613525390625, -0.16256269812583923, 0.18351206183433533, 0.13052679598331451, -0.334022581577301, 0.14449556171894073, -0.155194953083992, -0.12493585050106049, -0.42273831367492676, 1.2610594034194946, -0.19602344930171967, -0.09419193863868713, 0.20783157646656036, -0.4049350321292877, 0.15396428108215332, 0.05101685971021652, 0.4225738048553467, -0.0353698767721653, -0.17574243247509003, -0.004325720015913248, 0.027917366474866867, -0.028564145788550377, 0.00015440882998518646, 0.2532731592655182, 0.05484361574053764, -0.002210478065535426, -0.2143706977367401, -0.037099190056324005, -0.21610330045223236, -0.15357929468154907, -0.1356903463602066, -0.2956883907318115, -0.18924978375434875, 0.11516263335943222, 0.4096262454986572, -0.039053965359926224, 0.19773663580417633, -0.09236662089824677, -0.3642713129520416, 0.1853644698858261, 0.08053527027368546, 0.2970685362815857, -0.029687628149986267, -0.20479346811771393, 0.3227542042732239, -0.14024204015731812, 0.0185416117310524, 0.25868210196495056, 0.09509937465190887, 0.203237846493721, -0.09196877479553223, -0.1980609893798828, -0.1985226422548294, 0.21308881044387817, -0.19739201664924622, -0.12121670693159103, -0.3023982644081116, -0.22794558107852936, 0.099592424929142, -0.11919014155864716, 0.3199225962162018, 0.37261852622032166, -0.0014659223379567266, -0.33997270464897156, 0.2769724726676941, -0.12436941266059875, -0.2859157919883728, -0.13905292749404907, 0.10772142559289932, 0.1035902351140976, -0.23933365941047668, -0.18660219013690948, 0.4878820478916168, 0.023981163278222084, -0.10401339083909988, 0.16750562191009521, 0.09025543928146362, 0.04660477489233017, -0.2365693598985672, 0.13352476060390472, 0.11231563240289688, 0.04985605552792549, -0.03287278115749359, -0.20582062005996704, -0.369960755109787, -0.009799432940781116, 0.04579773545265198, 0.16293737292289734, -0.07146560400724411, 0.02031397446990013, 0.233775332570076, 0.4464584290981293, 0.15491434931755066, 0.02256103605031967, 0.14564864337444305, -0.30679360032081604, 0.049060966819524765, 0.25528573989868164, -0.12827470898628235, 0.2729913592338562, 0.10347439348697662, -0.024509066715836525, 0.04177460819482803, 0.24977591633796692, 0.3982362747192383, -0.320141077041626, 0.3204636871814728, -0.26637524366378784, -0.05629931017756462, -0.05636725574731827, 0.5260319709777832, -0.2674502730369568, -0.06850659102201462, -0.6254435181617737, -0.07426363229751587, 0.2944619655609131, 0.3411920666694641, 0.2310340702533722, -0.36138173937797546, 0.031435526907444, 0.26463747024536133, -0.42734137177467346, -0.06723928451538086, 0.06319258362054825, -0.06199594959616661, 0.21398702263832092, -0.14775225520133972, -0.017027737572789192, -0.35649046301841736, -0.1715700328350067, 0.4124314486980438, 0.34993845224380493, -0.3348539173603058, -0.24111399054527283, 0.1633966714143753, 0.1441810578107834, -0.05558187514543533, 0.2425762116909027, 0.22307655215263367, 0.16999784111976624, -0.4868811070919037, 0.1050969660282135, -0.20215493440628052, -0.13116653263568878, 0.2732391655445099, -0.19854022562503815, -0.5301700830459595, 0.0498223602771759, -0.17316675186157227, 0.07888691872358322, 0.1068129763007164, -0.10149402916431427, 0.061237163841724396, -0.2160646766424179, -0.06114380434155464, 0.42204222083091736, -0.29442811012268066, -0.14226314425468445, -0.07668185979127884, 0.15040910243988037, -0.050738632678985596, 0.05880200117826462, -0.042295943945646286, -0.014016976580023766, -0.021404435858130455, 0.13830775022506714, -0.012764803133904934, 0.10097794979810715, -0.22921033203601837, -0.5274480581283569, 0.19417592883110046, -0.059678006917238235, 0.7060654163360596, -0.12719272077083588, 0.003153774654492736, 0.051022693514823914, -0.198309063911438, -0.2975241541862488, -0.39425668120384216, 0.43426278233528137, 0.28114017844200134, -0.0734444111585617, -0.25116416811943054, -0.42059454321861267, 0.5949895977973938, 0.2638925313949585, -0.7010306715965271, -0.2868131399154663, -0.19849075376987457, -0.20596465468406677, -0.17562158405780792, 0.21026770770549774, 0.6643951535224915, -0.35869523882865906, 0.1581321358680725, -0.34746044874191284, -0.19932253658771515, -0.13638639450073242, 0.15835784375667572, 0.16039441525936127, -0.05025363713502884, -0.12737587094306946, -0.44609662890434265, 0.23621873557567596, -0.5778007507324219, 0.2956596910953522, -0.16775166988372803, -0.2722472846508026, 0.22676613926887512, -0.09691549837589264, -0.019861439242959023, -0.20015880465507507, 0.07766672223806381, 0.22963100671768188, 0.10923080891370773, 0.20680832862854004, -0.06732023507356644, -0.2975439429283142, 0.105654276907444, -0.08652307093143463, 0.2347448617219925, -0.3952793478965759, 0.0075348662212491035, 0.5319774150848389, 0.383409708738327, -0.13989225029945374, 0.10254651308059692, -0.14137053489685059, -0.5521480441093445, -0.18175886571407318, -0.06546258926391602, -0.3714325428009033, -0.10744540393352509, -0.2988112270832062, 0.18827098608016968, -0.9124207496643066, 0.09434948116540909, 0.3926159739494324, 0.09533010423183441, -0.03440526872873306, -0.1438409686088562, 0.19227388501167297, 0.5449889302253723, 0.04333151504397392, -0.09122481197118759, -0.33527085185050964, -0.5554870367050171, -0.05150088295340538, -0.4597228169441223, 0.11842025071382523, -0.1068279892206192, 0.3915722966194153, 0.19594962894916534, -0.4444783926010132, 0.012611107900738716, 0.10276371240615845, 0.5894343256950378, -0.18809349834918976, -0.6227622032165527, -0.05197637528181076, 0.4214891791343689, 0.18788301944732666, 0.11399424076080322, -0.1871737241744995, 0.15348413586616516, 0.6963037252426147, 0.10491135716438293, 0.3712250888347626, 0.4530380964279175, 0.1052580177783966, 0.34251636266708374, 0.07795774191617966, 0.7820413708686829, -0.13098612427711487, 0.10446330159902573, -0.020259002223610878, 0.32495152950286865, 0.6232238411903381, -0.5526482462882996, 0.10964730381965637, -0.7601515650749207, -0.11941209435462952, 0.04381689801812172, 0.746458113193512, -0.19757026433944702, 0.13653779029846191, -0.35029685497283936, 0.15774959325790405, 0.1519288420677185, 0.11253686994314194, 0.21915630996227264, 0.9296582937240601, 0.3057354688644409, -0.04411868005990982, 0.13173368573188782, 0.18921305239200592, 0.17913007736206055, -0.25006139278411865, -0.48670414090156555, -0.3682108223438263, -0.10955110937356949, 0.16466759145259857, 0.13607357442378998, 0.10069671273231506, -0.5477100610733032, -0.1395203322172165, -0.16781984269618988, 0.3928433060646057, 0.42952683568000793, -0.609566867351532, -0.029589591547846794, 0.5337421894073486, -0.26152679324150085, 0.2785404622554779, -0.564811110496521, 0.4888172745704651, -0.3622726798057556, 0.39648646116256714, -0.09567218273878098, 0.21123504638671875, -0.19973786175251007, 0.10067769885063171, -0.28324171900749207, -0.18695394694805145, 0.04840043559670448, -0.28272825479507446, 0.5548475384712219, 0.049462415277957916, -0.05075017735362053, 0.1085168644785881, 0.06135109066963196, -0.2455502152442932, 0.48833346366882324, 0.07799725979566574, 0.16094845533370972, 0.3948514461517334, -0.2629992663860321, 0.6239032745361328, 0.658771276473999, 0.9433444738388062, 0.7016136646270752, -0.08674930036067963, 0.22260695695877075, -0.46396228671073914, 0.3226206600666046, 0.02564709633588791, 0.5546129941940308, -0.006211267318576574, -0.8274142146110535, -0.7439127564430237, -0.45120564103126526, -0.21123729646205902, 0.49917513132095337, 0.23364241421222687, -0.41912642121315, 0.19148024916648865, -0.3139236271381378, -0.2250158041715622, -0.14336837828159332, -0.20687910914421082, -0.12923771142959595, 0.3623151481151581, 0.8199966549873352, -0.0027071102522313595, 0.9255585074424744, -0.4135892689228058, 0.05737627297639847, -0.36925697326660156, -0.8828120827674866, 0.6971337795257568, 0.38786229491233826, 0.320838987827301, 0.18687725067138672, 0.09882036596536636, 0.4296778440475464, 0.2227298468351364, -0.4018304944038391, 0.09852772206068039, -0.39311811327934265, -0.21634060144424438, 0.8114835619926453, -0.4819646179676056, 1.019639253616333, 0.15480367839336395, -0.16194692254066467, 0.04467940330505371, 0.020433416590094566, 0.11484508961439133, -0.4767951965332031, -0.5532744526863098, 0.12385834008455276, -0.3551044166088104, 0.5384269952774048, 0.4751613140106201, -0.05762837827205658, 0.18465597927570343, 0.3370536267757416, -0.3385647237300873, -0.26378676295280457, -0.1055452823638916, 0.3301306366920471, -0.11995482444763184, -0.03983744606375694, -0.22090710699558258, -0.02960537001490593, 0.6955446600914001, -0.26989588141441345, -0.40612223744392395, 0.5174921154975891, 0.6183403134346008, 0.32319003343582153, -0.3188025951385498, 0.5026957392692566, -0.4797212481498718, 0.006783344317227602, -0.42371639609336853, -0.16746319830417633, -0.08203072845935822, 0.1384006142616272, -0.044907402247190475, 0.535502016544342, 0.18851338326931, 0.44443783164024353, 0.19374488294124603, 0.3383735418319702, 0.6454368829727173, -0.5419588685035706, 0.10362154245376587, 0.17200925946235657, -0.1354910284280777, -0.04496141895651817, 0.40729743242263794, -0.2029285579919815, 0.32019370794296265, -0.29034844040870667, 0.6067495942115784, -0.040438614785671234, 0.005033138208091259, -0.5232974290847778, -0.1948947161436081, 0.21823789179325104, 0.5430020093917847, -0.5732179284095764, 0.19220812618732452, -0.16698522865772247, 0.3477332293987274, 0.4373365342617035, 0.12931782007217407, 0.27769774198532104, 0.3069475591182709, -0.17270390689373016, -0.3318113386631012, -0.13450254499912262, 0.28036269545555115, -0.5241730213165283, -0.08047662675380707, 0.00774636073037982, -0.47955548763275146, -0.1887284815311432, -0.3640124797821045, -0.08778393268585205, 0.3757207989692688, -0.2504473626613617, 0.05192963033914566, -0.02621031180024147, 0.9846240878105164, -0.22886350750923157, 0.2897888720035553, -0.19024880230426788, -0.06858732551336288, -0.7061873078346252, 0.14051681756973267, 0.15677864849567413, -0.011412709951400757, -0.4238974153995514, 0.21661753952503204, 0.39134833216667175, -0.045234315097332, 0.5609931349754333, 0.12378007173538208, 1.0169084072113037, -0.04710029810667038, 0.27111974358558655, -0.4048347771167755, -0.030572984367609024, 0.23712123930454254, 0.2707175016403198, -0.12122517824172974, 0.27243953943252563, -0.0004924297099933028, -0.21009661257266998, 0.40971440076828003, -0.387527734041214, -0.6021276116371155, 0.04375326260924339, -0.2415333241224289, -0.498827189207077, 0.24395394325256348, -0.30413591861724854, -0.21322396397590637, -0.456479549407959, -0.19839288294315338, -0.3902103304862976, 0.15554828941822052, 0.431217759847641, -0.036111555993556976, 0.6508431434631348, 0.21856652200222015, -0.5856002569198608, -0.7630822658538818, 0.6751140356063843, 0.1217881441116333, -0.21695365011692047, 0.2202415019273758, 0.8497382998466492, -0.27268409729003906, -0.10718125849962234, 0.16066108644008636, 0.20253251492977142, 0.18139363825321198, 0.010800367221236229, 0.04080864414572716, -0.2120669037103653, -0.29407352209091187, -0.18288712203502655, -0.17203061282634735, -0.47199761867523193, 0.5041914582252502, -0.5510900616645813, 0.9377084374427795, -0.26283878087997437, 0.004071460105478764, -0.4550867974758148, -0.1643417477607727, -0.3868488371372223, -0.07984795421361923, -0.2549038529396057, 0.4528259038925171, 0.08413653075695038, -0.18050061166286469, 0.08459575474262238, -0.8243971467018127, 0.3202420771121979, -0.18216779828071594, -0.5595325827598572, 0.006527675315737724, 0.47313016653060913, 0.2766459584236145, -0.481691837310791, -0.21427686512470245, 0.6170571446418762, 0.041373711079359055, -0.07759302854537964, -0.03114224784076214, -0.04564345255494118, 0.3705168664455414, 0.04364784061908722, -0.018305005505681038, -0.1911783218383789, -0.5472907423973083, 0.07177291810512543, 0.1366874724626541, -0.011237075552344322, 0.25027918815612793, 0.5669450163841248, 0.9609349966049194, 0.191162109375, 0.005233960226178169, -0.13137763738632202, -0.20939092338085175, -0.7746118307113647, -0.01804603636264801, 0.013220392167568207, 0.34284114837646484, 0.14072558283805847, 0.423969030380249, 0.2495369166135788, 0.7530165314674377, -0.1309129148721695, -0.35272541642189026, -0.5914811491966248, -0.6391223669052124, 0.13139845430850983, 0.08528630435466766, 0.7126120924949646, -0.25844016671180725, 0.02810928411781788, 0.5023455023765564, 0.031589820981025696, 0.0513911247253418, 0.3098791837692261, -0.1012171059846878, -0.7134162187576294, 0.9109861850738525, -0.11901590973138809, -0.3096005618572235, -0.3706780970096588, 0.3217414617538452, -0.8335407972335815, -0.02590676210820675, -0.5394460558891296, 0.6496955752372742, 0.14280809462070465, 0.14686454832553864, 0.05762093886733055, 0.11528659611940384, -0.17271116375923157, 0.038579247891902924, 0.14272752404212952, 0.3267346918582916, 0.3300335705280304, -0.09769991040229797, 0.3462894558906555, 0.33884671330451965, -0.39899206161499023, 0.25080642104148865, -0.1916331946849823, 0.08546167612075806, -0.43438905477523804, -0.11780741810798645, -0.028707517310976982, -0.3342970907688141, -0.35034123063087463, -0.3056381046772003, -0.49744704365730286, -0.12326841056346893, 0.35851797461509705, -0.31111449003219604, -0.02273588441312313, 0.3639692962169647, 0.08863388001918793, -0.02076703868806362, -0.1694490611553192, -0.4196913242340088, -0.36186954379081726, -0.4251538813114166, 0.3073412775993347, -0.1534797102212906, 0.17104123532772064, -0.12757587432861328, 0.17745505273342133, -0.33229348063468933, 0.17789678275585175, -0.20837515592575073, -0.3504217267036438, -0.16536064445972443, 0.265730082988739, 0.08933774381875992, -0.4637726843357086, -0.594254732131958, 0.18385255336761475, 0.29878461360931396, -0.35375311970710754, 0.4524422585964203, -0.3649463355541229, 0.9846025109291077, -0.006458722986280918, 0.9700431823730469, 0.20776179432868958, 0.49912771582603455, -0.21868015825748444, 0.3182466924190521, -0.15002311766147614, 0.1829116940498352, -0.3755471408367157, -0.03185158222913742, 0.3659919798374176, -0.9696700572967529, 1.0304028987884521, -0.16231365501880646, -1.023247480392456, -0.19805298745632172, 0.032864902168512344, -0.35466980934143066, 0.48397356271743774, 0.1729731410741806, 0.42228779196739197, -0.4393638074398041, -0.2751753032207489, 0.08167216926813126, -0.945181667804718, -1.220658779144287, 0.2175740748643875, -0.19181883335113525, 0.3249117434024811, -0.6609398722648621, -0.15047511458396912, -0.4307352304458618, -0.06034211814403534, 0.3818719685077667, -0.3008232116699219, 0.08500752598047256, 0.004436485935002565, -0.6758312582969666, 0.11376659572124481, -0.07538852840662003, -0.4576531946659088, 0.6524127721786499, 0.4293650984764099, -0.559485912322998, 0.03665175661444664, 0.06426157802343369, 0.13804811239242554, -0.2588807940483093, -0.26798132061958313, 0.10193850100040436, -0.1587788611650467, -0.1973501294851303, -0.008250168524682522, 0.14383864402770996, 0.19120363891124725, -0.07476036250591278, -0.3864783048629761, 0.4040490984916687, -1.088426113128662, 0.09141973406076431, 0.5610119104385376, -0.697601318359375, 0.2763023376464844, 0.04283091798424721, 0.3035736680030823, -0.39213183522224426, 0.032434768974781036, -0.06251884251832962, -0.3144877552986145, 0.31127870082855225, -0.38273999094963074, 0.21167945861816406, 0.26340341567993164, 0.08467232435941696, 0.41599908471107483, -0.16210032999515533, 0.5435781478881836, -0.8353840708732605, -0.5457862019538879, -0.508084774017334, 0.10765212029218674, -0.07304839044809341, -0.4580741226673126, -0.10298992693424225, 0.38378235697746277, 0.28878799080848694, -0.1655040979385376, -0.6169289946556091, 0.2713119387626648, -0.019821027293801308, -0.6296811699867249, 0.0017083396669477224, -0.5370748043060303, 0.4400969445705414, 0.7749555110931396, -0.1253737509250641, -0.4482450485229492, 0.28568655252456665, 0.46258825063705444, 0.7105169892311096, 0.10958925634622574, -0.628823459148407, 0.20345143973827362, 0.1638055443763733, 0.2686162292957306, -0.3316091001033783, -0.5106154680252075, -0.17256610095500946, 0.6569392085075378, 0.9637337923049927, -0.12777411937713623, 0.22543318569660187, -0.8132410645484924, -0.29433077573776245, 0.16321037709712982, -0.0996687039732933, 0.922963559627533, 0.6084776520729065, 0.026323692873120308, 0.3190704882144928, 0.03235090523958206, 0.3011993169784546, 0.037223827093839645, 0.7415608763694763, -0.09816320240497589, 0.8597934246063232, -0.3638401925563812, -0.469708651304245, 0.9566395878791809, -0.803072452545166, 0.3398504853248596, -0.19066746532917023, 0.4791853725910187, -0.6592832207679749, -0.18531225621700287, -0.1326047033071518, 0.20756895840168, 0.27544069290161133, -0.01033148542046547, -0.0851684957742691, 0.6359840035438538, -0.42654702067375183, -0.40479716658592224, -0.2572060227394104, 0.2098522037267685, -0.08363176882266998, -0.24037116765975952, 0.14592258632183075, 0.1958075910806656, -1.0569666624069214, 0.5022997856140137, 0.0032636858522892, -0.34846311807632446, 0.49935686588287354, -0.5493436455726624, 0.034598611295223236, 0.31187596917152405, -0.14941295981407166, -0.4892192780971527, -0.17254668474197388, -0.1294402927160263, -0.21200969815254211, -0.46152088046073914, -0.2768341600894928, 0.25790196657180786, -0.010679265484213829, -0.127194344997406, -0.04514681547880173, 0.011417851783335209, 0.1139276921749115, -0.21163636445999146, 0.2650637924671173, 0.95609450340271, 0.5233220458030701, -0.40151089429855347, -0.234328955411911, -0.7471849322319031, -0.8664953112602234, 0.5548242330551147, 0.09042363613843918, 0.6898033618927002, -0.042725786566734314, 0.09675297886133194, 0.07062380760908127, -0.09558433294296265, -0.039695315062999725, -0.09716238081455231, 0.519361674785614, 0.2288307547569275, 0.29707103967666626, 0.20850870013237, -1.0539485216140747, 0.8299621343612671, -0.29254746437072754, 0.08395491540431976, 0.1840881109237671, 0.1574963480234146, 0.8485534191131592, 0.4019783139228821, 0.3796320855617523, 0.44673672318458557, 0.4499301314353943, -0.3797643482685089, 0.5396125316619873, 0.5167578458786011, -0.21162289381027222, -0.04332049936056137, 1.3046817779541016, 0.33778420090675354, -0.3046973943710327, -0.37070000171661377, -0.8161128163337708, -0.6655848026275635, -0.4613124430179596, -0.17722322046756744, -0.22009411454200745, 1.36717689037323, 0.4212288558483124, 0.004258808214217424, -0.5996394157409668, -0.030494676902890205, -0.39294320344924927, -0.017578987404704094, -0.04330231249332428, 0.6425926089286804, -0.15099520981311798, -0.622826099395752, -0.23561698198318481, 0.0644831508398056, 0.14511993527412415, 0.5653853416442871, -0.1039108857512474, 0.2962139844894409, -0.4233089089393616, 0.5065520405769348, -0.14394186437129974, 0.03482675179839134, 0.750669002532959, -0.06595081090927124, 0.06263279169797897, -0.4715239703655243, -0.08969849348068237, 0.21454720199108124, 0.7465221881866455, -0.07992234826087952, 0.5087788105010986, -0.46222633123397827, 0.3805840313434601, 0.07263602316379547, 0.540239691734314, 0.3649112582206726, 0.1635899841785431, -0.4868095815181732, -0.4719032943248749, -0.5595493316650391, -0.11984579265117645, -0.7354786992073059, 0.29437902569770813, -0.7338173389434814, -0.5382130742073059, -0.35338664054870605, -0.7080806493759155, -0.7051252722740173, 0.3726826012134552, 0.4136504530906677, 0.9865274429321289, 0.23186130821704865, 0.3937673270702362, 0.2900882363319397, -0.6972454786300659, -0.8726822137832642, 0.32586508989334106, -0.28970465064048767, 0.45175474882125854, 0.11590360850095749, 1.2129490375518799, 0.6128066182136536, -0.5333443880081177, 0.4874502420425415, -0.0425698421895504, 0.16161119937896729, -1.077698826789856, -0.2004043161869049, -0.56930011510849, -0.676437258720398, 0.009895045310258865, -0.40412637591362, -0.5029008388519287, -0.6527828574180603, -0.2400244027376175, 0.07499691098928452, 0.16378174722194672, -0.07378502935171127, 0.516768753528595, 0.939217209815979, -0.3307521939277649, -0.037564363330602646, -0.2579115331172943, -0.367008775472641, 0.817561149597168, 0.4699191153049469, 0.042538952082395554, -0.27660471200942993, -0.3632641136646271, 0.03688157722353935, -0.6881855130195618, 0.036799926310777664, -0.8774403929710388, 0.037323564291000366, 0.44968581199645996, -0.6450889110565186, 0.2973712086677551, -0.26999610662460327, -0.6052273511886597, 0.6013725399971008, 1.5052976608276367, 0.0394110344350338, -0.04665486142039299, -0.3709464371204376, 0.22538542747497559, -0.2792903184890747, -0.12738080322742462, -0.27182427048683167, -0.13764536380767822, -0.08573336899280548, -0.29229798913002014, -0.0002636660065036267, 0.45599520206451416, -0.047061897814273834, -0.8859767317771912, -0.1276373416185379, 0.16052240133285522, 0.18602687120437622, -0.38020870089530945, 0.6599354147911072, 0.526600182056427, -0.3384009897708893, 0.011661517433822155, 0.533263623714447, 0.012721563689410686, 0.18865182995796204, 0.3592112362384796, -0.3485848307609558, 0.2575754225254059, -0.33708101511001587, -0.31757494807243347, -0.4924802780151367, 0.18349812924861908, 0.542673647403717, 0.6558481454849243, -0.39403393864631653, -0.08904053270816803, -0.5108703970909119, 0.8806570172309875, 0.2771269381046295, -0.4621697664260864, -0.0030994918197393417, -0.0719066858291626, 0.07968547195196152, 0.06934799253940582, 0.9470255970954895, 0.7962214350700378, 0.26322054862976074, 0.08655823767185211, -0.8834312558174133, 0.030688771978020668, -0.46025851368904114, -0.34450608491897583, -0.43271002173423767, -0.164322629570961, 0.3328312337398529, 0.2366178333759308, 0.0785759836435318, 0.4100984036922455, -0.15962110459804535, 0.30779069662094116, -0.08621085435152054, -0.2884732484817505, 0.09884782135486603, -0.03632504865527153, 0.47840702533721924, 0.4188744127750397, 0.10587522387504578, -0.21596859395503998, -0.34182557463645935, 0.4114379286766052, 0.36742448806762695, -0.041079480201005936, -0.32679030299186707, 0.21814784407615662, 0.4881362318992615, -0.37864893674850464, 0.21234598755836487, -0.09485800564289093, 0.22244440019130707, -1.0390838384628296, -0.5335915684700012, -1.0700958967208862, 0.13867774605751038, -0.5611905455589294, -0.224738210439682, -0.38640058040618896, 0.4704391658306122, -0.13176415860652924, -0.20562833547592163, -0.5589836835861206, -0.5430921912193298, 0.5220564007759094, 0.13306401669979095, 0.06015278398990631, 0.7152460217475891, 0.19259878993034363, 0.36987870931625366, 0.03297138586640358, -0.2816140353679657, 0.15823884308338165, 0.9128884673118591, 0.1600925326347351, 0.2269788384437561, -0.07167235761880875, 0.5671191811561584, 0.07878558337688446, -0.19357946515083313, 0.41884082555770874, 0.040468569844961166, 0.3874985873699188, 0.5772116780281067, 0.32523369789123535, -0.21847942471504211, 0.6855459809303284, 0.03141967952251434, -0.11743199080228806, -0.28002873063087463, 0.07680784165859222, -0.012768039479851723, 0.18977265059947968, 0.61018967628479, -0.016737205907702446, -0.4209875464439392, -0.20530258119106293, -0.36542850732803345, 0.060784079134464264, -0.209964320063591, -0.19577684998512268, -0.4914965033531189, -0.4512191116809845, -0.029198359698057175, 0.11517595499753952, 0.12492051720619202, -0.36775219440460205, -0.3547157347202301, 0.25440269708633423, 0.34632712602615356, -0.6863399147987366, 1.1258478164672852, -0.01877819001674652, 0.8960772752761841, -0.035526350140571594, -0.08609452098608017, -0.23292651772499084, -0.011495349928736687, -0.2523536682128906, -0.33427542448043823, 0.4151277542114258, -0.34049078822135925, 0.2830367982387543, 0.09400822222232819, -0.29023876786231995, -0.6434140801429749, 0.45084407925605774, 0.47176238894462585, -0.4982393682003021, -0.14304864406585693, 0.10164844989776611, 0.43685224652290344, 0.2565053701400757, -0.09903489798307419, -0.9468430876731873, 0.7226987481117249, 0.2674388885498047, 0.13918577134609222, 0.06481990218162537, -0.39926987886428833, -0.33095645904541016, 0.22860199213027954, -0.2947908341884613, -0.006034698337316513, -0.027808187529444695, 0.1906980276107788, 0.7148179411888123, -0.037649691104888916, 0.36794888973236084, 0.03828001394867897, -0.5712584257125854, -0.9838712215423584, -0.6676178574562073, 0.26999375224113464, 0.14890803396701813, 0.0039864820428192616, 0.5634399056434631, -0.2675221562385559, -0.6320369839668274, -0.7942014336585999, -0.08928800374269485, 0.45208629965782166, 0.24189510941505432, 0.5850836038589478, -0.8236454725265503, -0.29111677408218384, 0.02115105278789997, 1.1127482652664185, -0.43200433254241943, -0.11912290751934052, -0.42062750458717346, 0.7984707355499268, -0.8058968186378479, -0.45255395770072937, 0.02695789374411106, -0.20493565499782562, 0.28651440143585205, 0.7074399590492249, 0.010102256201207638, -0.1599404364824295, 0.30031463503837585, 0.5414745211601257, -0.05256444960832596, 0.17950919270515442, -0.5230209827423096, -0.34385165572166443, -0.835127592086792, 0.1296730935573578, -0.22276227176189423, -0.1373271495103836, -0.9298639297485352, -0.5671935081481934, 0.08978407829999924, -0.016427896916866302, 0.22997699677944183, 1.0948995351791382, -0.21343301236629486, -0.14320117235183716, 0.084133081138134, -0.20745322108268738, -0.38566362857818604, 0.21648801863193512, 0.18134471774101257, -0.10768912732601166, 0.11241806298494339, 0.2755831182003021, 0.09564655274152756, -0.3680341839790344, -0.18010354042053223, -0.31474781036376953, 0.89947909116745, -0.5296614170074463, -0.7778255343437195, -0.13554757833480835, -0.49736520648002625, 0.01530765276402235, 0.25904667377471924, 0.39637047052383423, 0.12394164502620697, 0.3503042161464691, -0.2955179810523987, 0.453739732503891, 0.4635085463523865, 0.4892973005771637, -0.819547712802887, 0.08342761546373367, 0.12482449412345886, -0.5366457104682922, -0.22020074725151062, -0.40949976444244385, -0.0031751273199915886, 0.20447686314582825, 0.07320751249790192, -0.46461862325668335, 0.255901038646698, -0.054802145808935165, -0.06871788948774338, 0.5906791090965271, -0.3733227849006653, 0.07219265401363373, 0.24102672934532166, -0.33321598172187805, 0.2304573804140091, -0.3342708647251129, -0.26827317476272583, -0.5435338616371155, 0.46284377574920654, -0.11926915496587753, -0.46427491307258606, -0.42521634697914124, 0.17665138840675354, -0.6047011017799377, 0.7231075167655945, -0.2553834617137909, -0.763795018196106, 0.05407455563545227, 0.05490618571639061, 0.13417832553386688, 0.4586620330810547, -0.5706336498260498, 0.6611682176589966, 1.1168510913848877, -0.22647276520729065, -0.4338226616382599, 0.4158909022808075, 0.06296383589506149, 0.1772572100162506, -0.18826434016227722, -1.1903537511825562, -0.06423121690750122, -0.04661811143159866, 0.15053080022335052, 1.1109122037887573, 0.5313777923583984, 0.203496515750885, -0.7035755515098572, 0.10686857253313065, 0.3740065097808838, 0.2455158531665802, 0.8399245142936707, -0.6723036170005798, 0.13869036734104156, 0.37000319361686707, 0.05517522990703583, -0.484203040599823, 0.4780700206756592, 0.38590794801712036, -0.7728560566902161, -0.6630092859268188, -0.17099978029727936, -0.16883620619773865, 0.3334876596927643, -0.061887793242931366, -0.2098211646080017, 0.23437094688415527, 0.8118510842323303, -0.34035900235176086, 0.09478391706943512, 0.08418329060077667, -0.28759169578552246, 0.41322967410087585, 0.04286513850092888, 0.3554699420928955, 0.008527306839823723, -0.22061705589294434, -0.11310577392578125, 0.19220678508281708, 0.0899994894862175, 0.03884314000606537, 0.05129287764430046, 1.1271663904190063, 0.6394248008728027, -0.002719472162425518, -0.9761959314346313, -0.2804614007472992, -0.03414654731750488, 0.012895078398287296, 0.47254854440689087, -0.08864454925060272, -0.07889649271965027, -0.7318613529205322, -0.10677877813577652, 0.6392359137535095, 1.4813119173049927, -0.4579295217990875, -0.1325227916240692, -0.32222670316696167, -0.29697883129119873, -0.5677752494812012, -0.28892409801483154, -0.8899189233779907, 0.1827206313610077, -0.13874490559101105, 0.02740751951932907, -1.0648528337478638, -1.3168973922729492, 0.3090607821941376, 0.050902314484119415, -0.26902469992637634, 0.02871890738606453, -0.3801018297672272, 0.8012413382530212, 0.0648980513215065, 0.16203981637954712, -0.3169705867767334, -0.08484946191310883, -0.01773563027381897, -0.2774365246295929, -0.4585307836532593, -0.282320499420166, 0.20995622873306274, 0.3078899383544922, 0.0922163650393486, -0.3005768656730652, 0.7460864186286926, -0.33346402645111084, 0.3428853750228882, 0.15268465876579285, -0.33100780844688416, -0.2991354465484619, -0.39971569180488586, -0.07604154199361801, 0.1014590710401535, -0.05138527601957321, 0.5145016312599182, -0.11070744693279266, -0.2209291160106659, 0.056218769401311874, -0.030424419790506363, 0.772459864616394, -0.25839054584503174, 0.06370127201080322, 0.024658307433128357, -0.38855496048927307, -0.5879535675048828, -1.2168760299682617, -0.28450271487236023, 0.02275787480175495, -0.02643713541328907, -0.13088752329349518, 1.0043398141860962, -0.2794942557811737, 0.11029981821775436, 0.5170965790748596, -0.02033032849431038, -0.6117954254150391, -0.09672873467206955, -0.29656073451042175, 0.7523210644721985, -0.5259391665458679, -0.03529585152864456, -0.5526754856109619, -0.5187341570854187, -0.41067197918891907, -0.03781984746456146, -0.6619945168495178, -0.3050832748413086, -0.27192163467407227, -0.11976916342973709, -0.5713695883750916, 0.40992477536201477, 0.3681378960609436, 0.45158711075782776, -0.4451644718647003, -1.0447584390640259, -0.7098261713981628, 0.04717884585261345, -0.4183211922645569, 0.026334738358855247, 0.30751919746398926, 0.1135181412100792, -0.0837060809135437, 0.17714761197566986, -0.48843249678611755, 0.1229366883635521, 0.4384831190109253, 0.08163245022296906, 0.41602739691734314, -0.3534923195838928, 0.5011218190193176, 0.21238833665847778, 0.6668973565101624, -0.38704168796539307, -1.106956124305725, 0.04373328387737274, 0.04825257509946823, 0.7603198885917664, -0.2701176404953003, -0.43540653586387634, -0.07001268863677979, 0.021951133385300636, -0.3728352189064026, -0.6825463771820068, -0.6642760634422302, -0.24260251224040985, 0.43490326404571533, 0.4887060523033142, 0.36967116594314575, -0.12296295911073685, 0.0955566018819809, 0.13322025537490845, 0.520587146282196, -0.6299931406974792, 0.05762139707803726, -0.38154828548431396, 0.6513032913208008, -0.5391747355461121, 0.2793973684310913, -0.10180157423019409, 0.25398510694503784, -0.7502519488334656, -0.09929060935974121, -0.16880004107952118, -0.6931334733963013, 0.41563794016838074, 0.06523526459932327, 0.7048178315162659, 0.169089674949646, -0.26587823033332825, 0.8474445939064026, 0.4114967882633209, -0.0766386091709137, -0.7147231698036194, 0.762027382850647, 0.5400807857513428, -0.568730890750885, -0.3441562354564667, 0.17400328814983368, 0.10523948818445206, 0.007365547586232424, 0.05546184629201889, -0.030905352905392647, 0.16101855039596558, -0.627662718296051, -0.3900514245033264, 0.7057435512542725, -0.03173418715596199, -0.5293170213699341, -0.5627104640007019, 0.2683125436306, -0.35977280139923096, -0.457002729177475, 0.15111367404460907, -0.0863661840558052, 0.9156513214111328, -0.7557631134986877, 0.5966686010360718, 0.39332425594329834, 0.10412589460611343, -0.6144034266471863, 0.29170963168144226, -0.850340723991394, 0.6382447481155396, -0.5588828325271606, 0.19806954264640808, -0.4952763617038727, 0.7842438817024231, 0.41632890701293945, -0.8577557802200317, -0.4283398389816284, 0.16845735907554626, -0.395145058631897, 0.1877499520778656, -0.3967653810977936, 0.5083447098731995, -0.25310757756233215, 0.7644932270050049, 0.03390495851635933, 0.11091215908527374, -0.35542431473731995, -0.6510253548622131, 0.734001636505127, -0.09633113443851471, 0.5054198503494263, -0.2788800597190857, -0.6302360892295837, 0.3506878614425659, -0.5682542324066162, -0.3187847435474396, -0.00310020474717021, 0.22840677201747894, -0.23542693257331848, -0.15431161224842072, 0.55706387758255, 0.08293497562408447, 0.7894011735916138, 0.8623748421669006, -0.2804158329963684, 0.30557942390441895, -0.43077215552330017, 0.4943563640117645, 0.20916998386383057, 0.016858043149113655, -0.7968071699142456, 0.06556271016597748, 0.5903849005699158, -0.4137442111968994, -0.8191549181938171, 0.2352372258901596, 0.9078991413116455, -0.6113669872283936, -0.14369207620620728, 0.011695881374180317, -0.333457350730896, 0.6882113814353943, -0.6215510964393616, -0.3383537232875824, 0.247826486825943, 0.29680323600769043, -0.5689834952354431, 1.2754473686218262, 0.1219826340675354, 0.07618158310651779, -0.7731202840805054, -0.1737382858991623, -0.7683932781219482, -0.46556976437568665, 0.6236567497253418, 0.7233554720878601, -0.4520632326602936, 0.08088190853595734, 0.43142566084861755, 0.25433865189552307, 1.1280771493911743, -0.2651701271533966, 0.4062795639038086, 0.39389920234680176, 0.40495043992996216, -0.2585955858230591, 0.041083745658397675, -0.13145138323307037, -0.44480258226394653, 0.15818098187446594, 0.1367933601140976, -0.32845959067344666, 0.9900020956993103, -0.01052440982311964, -0.2622886598110199, 0.5615436434745789, 1.1910738945007324, 0.26877903938293457, 0.4182392954826355, -0.008458667434751987, 0.9525831341743469, -0.3269122540950775, -0.4206423759460449, -0.04740980640053749, -0.7112507224082947, 0.3401953876018524, 0.07353297621011734, -0.35170164704322815, -0.22880668938159943, -0.09111277014017105, 0.3930116295814514, 0.5437144041061401, -0.1255042552947998, -0.6624549627304077, 0.03841433301568031, -0.02222825400531292, 0.2735937535762787, -0.6005119681358337, 0.3340294659137726, 0.12403418868780136, -0.1498466432094574, 1.4471615552902222, -0.40398386120796204, -0.3324168920516968, -0.7576525807380676, -0.29889652132987976, 0.13036444783210754, 0.6306042075157166, 0.061373233795166016, -0.5534550547599792, 0.23940342664718628, -0.3301449418067932, 0.5284640789031982, -0.6980863213539124, -0.6281133890151978, -0.14420446753501892, 0.5933898687362671, 0.41035038232803345, -0.012509752064943314, -0.6533148884773254, 0.2847505509853363, -0.363650918006897, 0.9674880504608154, -0.2666788101196289, 0.737322211265564, -0.4493861198425293, 0.32233676314353943, 0.1984712779521942, -0.4710955321788788, 0.6293046474456787, -0.42524024844169617, 0.30749422311782837, -0.15447816252708435, -0.14869026839733124, 0.14762164652347565, 0.07596173882484436, 0.4986846148967743, -0.866500735282898, -0.4965003728866577, 0.41006001830101013, -0.2352665215730667, 0.3959461748600006, -0.481288880109787, 0.012980455532670021, 0.8439269065856934, 0.3935062885284424, 0.12914885580539703, 1.0670021772384644, -0.3804723024368286, -0.6518610119819641, -0.6663597822189331, 0.6296344995498657, -0.28275758028030396, 0.2270844578742981, -0.3472902178764343, -0.4616575837135315, -0.5048787593841553, -0.6943441033363342, 0.5584877133369446, -0.20990799367427826, -0.0175758246332407, 0.9558542370796204, -0.1447334885597229, -0.4784443974494934, 0.05457412824034691, 0.4582230746746063, -0.07059143483638763, -0.39861345291137695, 0.39249563217163086, 0.7632450461387634, 0.26155152916908264, -0.09497971832752228, 1.0289303064346313, 0.2688020169734955, 0.4806079566478729, -0.013265999034047127, -0.35187119245529175, -0.2224588543176651, -0.39850279688835144, 0.5524048209190369, 0.31889963150024414, 0.03148547187447548, -0.20888766646385193, 0.3118666708469391, -0.24315035343170166, 0.8126945495605469, -0.06320992857217789, 0.04929005354642868, -0.6874960064888, -0.35884547233581543, -0.08584654331207275, 0.6649888157844543, -0.49765458703041077, -0.3953894078731537, 0.11742938309907913, -0.5640972852706909, -0.2825448513031006, 0.11263690143823624, -0.6027920246124268, -0.06449300795793533, 0.05588345229625702, 0.0716172531247139, -0.11893415451049805, -0.5263786911964417, 0.2940416932106018, 0.15975557267665863, 0.797354519367218, -0.5421943068504333, 0.11746380478143692, -0.5842078328132629, 0.05536545813083649, -0.5600080490112305, 0.10783925652503967, 0.34491491317749023, -0.204308420419693, 0.5073866844177246, 0.7526659369468689, -0.24083787202835083, 0.020793000236153603, -0.7179924249649048, 0.31151801347732544, -0.559563934803009, 0.07684840261936188, -0.7030923962593079, 0.32506027817726135, -0.8220618367195129, 0.43493717908859253, -0.3698637783527374, 0.3827160596847534, 0.07743770629167557, -0.08541130274534225, -0.5485466122627258, -0.18317128717899323, 0.13912178575992584, -0.2854049503803253, 0.4235638976097107, -0.35422420501708984, 0.3916023373603821, 0.06261664628982544, 0.44324058294296265, -0.4091353416442871, -0.17431578040122986, 0.1842285692691803, 0.37039583921432495, -0.2675088346004486, 0.8158032894134521, -0.6343071460723877, 0.1009427085518837, 0.3533763587474823, 0.6002835631370544, 0.02259615622460842, 0.23297888040542603, 0.08984659612178802, -0.12842002511024475, 0.1724807769060135, -0.4477514922618866, 0.3111612796783447, 0.9295622110366821, 0.05936167389154434, -0.7142608761787415, 0.6764921545982361, -0.15518653392791748, -0.39116308093070984, 0.5861719250679016, -0.46719518303871155, 0.17388321459293365, 0.24819384515285492, -0.21553093194961548, -0.5415970087051392, 0.4025600552558899, 0.3742586076259613, -0.8506808876991272, 0.24624790251255035, -0.5813602209091187, 0.22125859558582306, -0.5225652456283569, -0.4660334885120392, 0.003565704682841897, -0.6194575428962708, -0.1283753514289856, -0.5297814011573792, 0.3569811284542084, -0.09700336307287216, 0.48837247490882874, 0.5429992079734802, 0.5929937958717346, 0.5550894737243652, 0.11678612232208252, 0.26205840706825256, -0.41943618655204773, 0.0015005796449258924, -0.4340285360813141, 0.16113531589508057, 0.2270021289587021, -0.4317210614681244, -0.4253956973552704, -0.3544624149799347, 0.17072845995426178, -0.18379996716976166, -0.720948338508606, 0.2545597553253174, -0.019714731723070145, -0.4068480134010315, 1.206596851348877, -0.44855690002441406, 0.19851242005825043, -0.2930870056152344, -0.7287601232528687, -0.1110684722661972, -0.241621196269989, -0.2672826647758484, -0.23485799133777618, 0.46349093317985535, -0.2909148633480072, -0.5614348649978638, -0.3658355176448822, 0.6692646741867065, -0.40683266520500183, -0.5253963470458984, -0.6494325399398804, 0.4893377423286438, -0.014279812574386597, 0.8058715462684631, 0.14739349484443665, -0.2827720642089844, 0.29441767930984497, 0.33747750520706177, 0.6782597899436951, 0.504499077796936, 0.6352187395095825, 0.008784572593867779, 0.8031788468360901, 0.5198096632957458, 0.044285986572504044, -0.8521959781646729, 0.25371819734573364, 0.8464207649230957, 0.044946830719709396, -0.09625229984521866, 0.1054866686463356, -0.051736265420913696, -0.3423900008201599, -0.017781957983970642, 0.11317341029644012, -0.2665875256061554, 0.22317752242088318, 0.49138209223747253, 0.31076040863990784, 0.09704924374818802, -0.579140841960907, 0.6732456088066101, 0.02836688980460167, -0.19715197384357452, 0.17179609835147858, -0.4005676805973053, -0.7010159492492676, 0.09289233386516571, 0.4265521466732025, -0.546512246131897, 0.8243691325187683, -1.2243386507034302, 0.5399618744850159, 0.2082737237215042, -0.1826545000076294, -0.626934826374054, 0.40119555592536926, -0.21136784553527832, -0.02557668648660183, -0.6539912819862366, -0.14704598486423492, 0.20808708667755127, -0.35138624906539917, 0.01071715448051691, -0.06766565889120102, -0.38235941529273987, -0.5771839618682861, -0.7098639607429504, 0.4608563482761383, 0.3397214710712433, -0.07754813134670258, 0.024078786373138428, 0.2699146568775177, -0.27184534072875977, 0.6848195195198059, 0.20208805799484253, -0.6171354651451111, -0.7207377552986145, 0.8922145366668701, 0.5074175596237183, -0.4184272289276123, -0.7375127673149109, -0.5671305060386658, 0.764569878578186, -0.03628253564238548, -0.3277904689311981, 1.0412895679473877, 0.46024709939956665, 0.47794109582901, 0.6243110299110413, 0.8764678239822388, 0.4758029282093048, 0.40434500575065613, 0.009238324128091335, -0.7869905233383179], \"xaxis\": \"x\", \"y\": [-0.00221628719009459, 0.04618524760007858, -0.06550638377666473, 0.13829509913921356, -0.06202305853366852, -0.009810606017708778, -0.1344129592180252, -0.07250707596540451, 0.01734161004424095, 0.056195713579654694, 0.04752122983336449, 0.05370829999446869, 0.05167738348245621, 0.09267076849937439, 0.0859639123082161, -0.4038182199001312, -0.09092827141284943, -0.33288711309432983, -0.0562458373606205, 0.018040712922811508, -0.2059531807899475, 0.03983510658144951, 0.02577294036746025, -0.06753014773130417, 0.010489504784345627, -0.15527674555778503, -0.07850579172372818, -0.03656797856092453, -0.15774811804294586, -0.0180948656052351, -0.0018150879768654704, 0.07651441544294357, 0.2405179888010025, -0.08037301898002625, -0.18249580264091492, 0.12860716879367828, -0.0661868304014206, -0.15091142058372498, 0.03708747401833534, 0.12087859213352203, -0.03605962172150612, 0.20672060549259186, -0.2541181743144989, 0.04044404625892639, -0.07623416185379028, 0.10303016006946564, -0.27777132391929626, 0.21008002758026123, 0.26175594329833984, -0.28865668177604675, 0.07678145170211792, -0.09275206178426743, 0.021151719614863396, 0.02904977649450302, 0.009669104591012001, -0.45825231075286865, 0.03554980829358101, 0.044934678822755814, -0.3894846439361572, 0.004228593781590462, -0.03433980792760849, -0.12042297422885895, 0.22437752783298492, 0.051518913358449936, 0.022029809653759003, -0.26289308071136475, -0.11282456666231155, -0.045514944940805435, 0.13786594569683075, 0.08111511915922165, -0.46487677097320557, 0.1556025743484497, -0.023105349391698837, -0.05223197117447853, -0.08401183038949966, -0.013934741728007793, 0.07247705012559891, 0.23595203459262848, 0.1416504681110382, 0.08522459119558334, -0.07273896783590317, -0.20132213830947876, -0.17851367592811584, -0.0021946439519524574, 0.4106143116950989, -0.06246093288064003, -0.15063709020614624, -0.018122006207704544, -0.007040539290755987, 0.0831097736954689, 0.003838933538645506, 0.2531888484954834, 0.20541642606258392, 0.06674711406230927, 3.6428651809692383, -0.22324593365192413, 0.11541683971881866, -0.08023758977651596, -0.11963150650262833, 0.45561957359313965, -0.22788655757904053, 0.09627912193536758, -0.1275676190853119, 3.8137595653533936, 0.23304498195648193, -0.009049027226865292, 0.09109821915626526, -0.37157782912254333, 0.1260676383972168, 0.17301714420318604, 0.011149803176522255, -0.1548653244972229, 0.4039786159992218, -0.08991502970457077, -0.09256788343191147, -0.010750495828688145, -0.29461953043937683, -0.18463268876075745, 0.19381359219551086, -0.3611190617084503, -0.3148048222064972, -0.40776878595352173, -0.32537752389907837, -0.2095271199941635, -0.1070341169834137, -0.23121006786823273, 0.1441822052001953, 0.0052122618071734905, 0.01716362126171589, 0.06214151903986931, 0.15447849035263062, -0.2955648601055145, -0.381919801235199, -0.13544878363609314, 0.3545008897781372, 0.17529624700546265, -0.36732780933380127, -0.5025669932365417, -0.03341417387127876, -0.028339635580778122, -0.11563777923583984, -0.24919569492340088, -0.4051792323589325, 0.2539708912372589, 0.13811691105365753, 0.2898401916027069, -0.03201081231236458, -0.26491934061050415, 0.15705333650112152, -0.1981782764196396, -0.24011558294296265, -0.1880892664194107, 0.1683342456817627, -0.2985142171382904, -0.04301217570900917, -0.0038509946316480637, -0.18621404469013214, -0.22716107964515686, 0.0038090585730969906, -0.43839776515960693, 0.3466072380542755, -0.11706386506557465, -0.3553508222103119, -0.3302132189273834, 0.04350960627198219, 0.0046491436660289764, 0.11131822317838669, -0.3399640619754791, -0.4329110085964203, 0.029018282890319824, -0.5031804442405701, 0.07344923168420792, -0.33024516701698303, -0.1022893488407135, -0.20776960253715515, 0.02323685772716999, -0.3650536835193634, 0.16290052235126495, 0.24911995232105255, -0.23862934112548828, 0.41708922386169434, -0.3855290114879608, -0.29461318254470825, 0.3215538263320923, 0.3442547917366028, -0.6385481953620911, 0.0677795261144638, -0.4546698331832886, -0.04651917144656181, 0.1812317967414856, 0.13793985545635223, -0.3353390693664551, -0.2273792326450348, -0.48954012989997864, -0.2578027546405792, 0.130765900015831, 0.05314591899514198, 0.06308938562870026, -0.019130779430270195, -0.09553038328886032, 0.02286672219634056, -0.16799668967723846, 0.20073682069778442, 0.1855473518371582, -0.4671941101551056, -0.04695295915007591, -0.5494624376296997, -0.023535076528787613, -0.8672593235969543, -0.13208232820034027, -0.3785581886768341, 0.40689629316329956, 0.0811232328414917, -0.1215452253818512, -0.25376129150390625, 0.22139689326286316, -0.1086207777261734, 0.1589307188987732, -0.3920932710170746, 0.14379766583442688, -0.14205223321914673, -0.21726208925247192, -0.11783535778522491, -0.13857205212116241, -0.1285298466682434, 0.15664958953857422, -0.2779565155506134, 0.40670648217201233, -0.3141820430755615, -0.06736751645803452, 0.023379676043987274, -0.06300137937068939, 0.01692218892276287, -0.11585918813943863, 0.2264196127653122, 0.2711265981197357, -0.2815423011779785, -0.6189102530479431, 0.09766827523708344, -0.22058100998401642, -0.12505024671554565, -0.3579031527042389, -0.4722748100757599, 0.08108401298522949, 0.09305309504270554, -0.5655261278152466, -0.7731226086616516, -0.18103903532028198, 0.13816240429878235, 0.11966696381568909, -0.1997232884168625, -0.26080381870269775, 0.01466011255979538, -0.19297464191913605, -0.4105868339538574, -0.15218526124954224, 0.3289543092250824, -0.29173824191093445, -0.22081352770328522, -0.1944989413022995, -0.16355867683887482, 0.26248249411582947, 0.4967637062072754, 0.01941627450287342, 0.8078386783599854, -0.07255023717880249, -0.24790391325950623, 0.261572927236557, 0.3045210540294647, 0.5382124781608582, 0.7127028703689575, -0.07501138746738434, -0.5331020355224609, 0.04970180615782738, 0.16994178295135498, 0.18418700993061066, -0.3530831038951874, -0.631991982460022, -0.4506593644618988, 0.15279583632946014, -0.09040607511997223, -0.09095829725265503, -0.15697939693927765, -0.3843190670013428, 0.4166410565376282, 0.024502480402588844, 0.1612420678138733, -0.22171081602573395, -0.04376351833343506, 0.03453266993165016, 0.2892151176929474, -0.49780523777008057, -0.36163797974586487, 0.004769687075167894, -0.5511611104011536, 0.6887065172195435, 0.3477869927883148, 0.007308162283152342, 0.36755064129829407, 0.21009106934070587, 0.3663206100463867, -0.5413636565208435, -0.304339736700058, 0.3609793186187744, 0.23549436032772064, -0.2110648900270462, -0.3205488920211792, -0.005527207162231207, 0.15595337748527527, -0.20733864605426788, -0.054294403642416, -0.4003538191318512, -0.21119646728038788, -0.12092854827642441, -0.34403687715530396, 0.543189525604248, 0.2082609087228775, 0.03413527086377144, 0.21615052223205566, -0.014023937284946442, 0.18997852504253387, 0.23185782134532928, -0.10548996180295944, 0.4264487624168396, -0.2692939341068268, 0.02759271301329136, -0.08823592960834503, -0.1291879564523697, -0.12323684245347977, -0.06362835317850113, -0.23625721037387848, -0.040814291685819626, -0.21289728581905365, -0.21615906059741974, -0.07220351696014404, -0.4164239466190338, 0.35859501361846924, -0.31864631175994873, -0.08279173821210861, -0.5004634261131287, -0.3910894989967346, -0.07590391486883163, -0.2510700523853302, 0.07383127510547638, 0.1592964082956314, 1.58295476436615, -0.29129406809806824, 0.1832270324230194, -0.22197213768959045, 0.17629079520702362, -0.03873808681964874, -0.5721335411071777, -0.2764049768447876, 0.347690612077713, -0.47874125838279724, -0.18692804872989655, -0.7132300734519958, 0.28926628828048706, -0.10642676800489426, -0.3374590575695038, -0.2912617623806, -0.13519132137298584, -0.0067347148433327675, 0.2383723258972168, -0.40742990374565125, -0.029984790831804276, -0.2704915702342987, 0.06367885321378708, -0.09776899218559265, 0.5375461578369141, 0.13996165990829468, 0.3045254647731781, -0.08573709428310394, 0.48927250504493713, -0.5266420245170593, 0.020626584067940712, 0.13460314273834229, -0.2459803968667984, -0.37842586636543274, 0.07250727713108063, 0.11036353558301926, -0.2677273154258728, 0.4927029013633728, 0.3300224840641022, -0.027828946709632874, -0.11646641045808792, -0.39368966221809387, -0.32994553446769714, -0.3158777058124542, -0.0003002999001182616, 0.007556561380624771, -0.3240812122821808, 0.010297012515366077, 0.5944126844406128, -0.11032156646251678, 0.11094564944505692, 0.32645753026008606, 0.3357997238636017, 0.2016383409500122, -0.11616872996091843, -0.4398208558559418, 0.0007694688392803073, 0.07239758968353271, -0.14915159344673157, -0.07464572042226791, -0.7912908792495728, -0.4988556504249573, 0.21032148599624634, 0.18692004680633545, -0.1738944947719574, -0.01486923173069954, 1.5060293674468994, 0.2543967366218567, -0.5450318455696106, -0.12745937705039978, -0.17361468076705933, -0.3961208462715149, -0.07498043030500412, -0.4347650706768036, -0.0024938073474913836, 0.2022383213043213, 0.28771376609802246, -0.23824116587638855, -0.3954901099205017, 0.2274705022573471, -0.479780375957489, -0.5141505002975464, -0.0020414460450410843, -0.1896992027759552, -0.3270401954650879, -0.5798186659812927, -0.041959650814533234, 0.9551475644111633, 0.17152723670005798, 0.0027293276507407427, -0.19424542784690857, 0.42095834016799927, -0.390554279088974, -0.5523222088813782, 0.11288141459226608, 0.1576777696609497, 0.027812350541353226, -0.10142450034618378, 0.09602830559015274, 0.3873012661933899, 0.7494389414787292, 0.30932047963142395, -0.26308536529541016, -0.5022876262664795, -0.5440106391906738, -0.20147199928760529, 0.11167646944522858, 0.03443393483757973, 0.06258886307477951, -0.3721061944961548, 0.05743669718503952, 0.3930205702781677, -0.08945046365261078, -0.2475760132074356, 0.2386118620634079, 0.3332691490650177, -0.0170126985758543, 0.3738023340702057, -0.1877823770046234, -0.3496492803096771, -0.5261726379394531, -0.18232601881027222, 0.32496213912963867, -0.37387245893478394, -0.17507043480873108, 0.0012389078037813306, 0.02571546658873558, 0.0645192340016365, -0.09878996014595032, -0.17283013463020325, 0.004868845455348492, -0.37160348892211914, 0.4073529541492462, -0.03660956770181656, 0.3288458287715912, -0.396857887506485, 0.3849107623100281, -0.37239494919776917, -0.38799163699150085, 0.05307956412434578, -0.7337344288825989, 0.34190747141838074, 0.5225801467895508, -0.2452758252620697, 0.2809278070926666, 0.21328088641166687, -0.3122272491455078, -0.07999032735824585, -0.3990519940853119, 0.02184276096522808, -0.5203863978385925, 0.10366233438253403, 0.444137841463089, 0.3274790942668915, 0.16764472424983978, 0.44699445366859436, 0.3458878993988037, -0.12913472950458527, -0.3414291441440582, -0.09890422224998474, -0.11869508773088455, 0.022747837007045746, -0.4975508153438568, -0.02707822248339653, -0.551271915435791, 0.5880776643753052, -0.2654036581516266, 0.1447208821773529, 0.2620997130870819, -0.197732076048851, -0.14323440194129944, -0.4015182554721832, 0.30710533261299133, 0.5298212170600891, 0.07112959772348404, -0.02632957696914673, -0.2862243354320526, -0.37096452713012695, 0.19203625619411469, 0.2907896637916565, 0.7361540794372559, -0.05150861665606499, 0.04175988957285881, 0.11505407094955444, -0.06503140181303024, 0.20167256891727448, 1.0117460489273071, 0.5356529355049133, -0.4260590076446533, -0.740150511264801, 0.15098069608211517, 0.47152063250541687, 1.1805453300476074, 0.3160554766654968, -0.16897130012512207, 0.12474188953638077, 0.3336604833602905, 0.09728281199932098, -0.220211461186409, -0.038573212921619415, 0.04407024756073952, 0.10245181620121002, 0.39166203141212463, -0.5721543431282043, 0.7933796644210815, 0.8697315454483032, 1.1906237602233887, -0.3761497735977173, -0.48420462012290955, -0.049385108053684235, 0.3278493583202362, -0.8801831007003784, -0.6245020627975464, -0.3920860290527344, -0.38307756185531616, -0.5122185349464417, 0.4661027789115906, -0.15193472802639008, -0.362747460603714, 0.3081624209880829, -0.12384779751300812, -0.18760989606380463, -0.631247878074646, -0.2444949895143509, 0.2600681185722351, -0.2843129336833954, 0.17026638984680176, -0.37107008695602417, -0.08543723076581955, -0.5051785111427307, -0.314386248588562, 0.021718626841902733, -0.16833427548408508, -0.6820361614227295, -0.3133837580680847, -0.005913045257329941, -0.284384161233902, 0.10418038070201874, -0.11937107890844345, -0.1951804906129837, -0.46497321128845215, 0.19845131039619446, -0.3942147493362427, 0.19583623111248016, 0.03937292471528053, -0.32291698455810547, 0.41745954751968384, -0.5579641461372375, -0.4169849455356598, -0.5286800861358643, -0.03250078111886978, 0.1516726166009903, -0.4974695146083832, 0.08150368183851242, -0.49184224009513855, 0.5972402095794678, -1.0688416957855225, 0.24928516149520874, -0.32627782225608826, 0.07724579423666, -0.10117502510547638, -0.13613663613796234, -0.18507929146289825, 0.05103444308042526, -0.14837706089019775, 0.11689707636833191, 0.05349232256412506, -0.6139782667160034, 0.23733492195606232, 0.11198512464761734, 0.113060861825943, -0.24637825787067413, 0.5590710043907166, -0.11082713305950165, 0.025867288932204247, -0.09520917385816574, 0.06184852495789528, -0.0349755622446537, 1.2053219079971313, 0.5309646725654602, -0.11215324699878693, -0.4851094186306, 0.061087824404239655, -0.26667487621307373, 0.3441608250141144, -0.7403850555419922, 0.48211339116096497, -0.326077401638031, 0.034354012459516525, -0.054105449467897415, 0.013094971887767315, -0.05341186001896858, -0.6221365928649902, 0.47172117233276367, -0.6642829775810242, -0.1812310367822647, -0.35042229294776917, -0.08647790551185608, -0.4334852695465088, -0.32030418515205383, 0.3834841847419739, 0.3548266291618347, -0.21195651590824127, 0.4524860084056854, -0.5213191509246826, 0.0973934605717659, -0.1823442429304123, -0.02458917908370495, -0.17751681804656982, -0.08112499862909317, -0.3074486553668976, -1.0021721124649048, -0.26068806648254395, -0.02278328873217106, -0.870697557926178, 0.45929619669914246, -0.07801470160484314, -0.13411231338977814, 0.0027653060387820005, 0.10160257667303085, 0.6890464425086975, -0.5963742733001709, 0.24231497943401337, 0.26949283480644226, -0.12641994655132294, -0.21661241352558136, -0.2333838939666748, -0.247661292552948, 0.6248642802238464, -0.19135046005249023, 0.15888887643814087, -0.3407106399536133, 0.2533150613307953, -0.04359752684831619, 0.2020188719034195, -0.10661929845809937, 0.022969679906964302, -0.03789161518216133, 0.06806422770023346, 0.22329746186733246, 0.14387889206409454, -0.015505608171224594, -0.3938921093940735, -0.2876143753528595, 0.12421781569719315, 0.07785402238368988, 0.4566558301448822, 0.2712116837501526, 0.052692778408527374, 0.22127126157283783, -0.5589675903320312, 0.07423888146877289, 0.28337329626083374, 0.3262823224067688, -0.388406366109848, 0.1399063766002655, -0.43805745244026184, 0.3709600269794464, 0.08844926953315735, 0.3310967981815338, -0.19758690893650055, -0.36317557096481323, 0.8155772686004639, -0.01587318815290928, -0.08258403837680817, -0.23531757295131683, -0.2564085125923157, 0.08800685405731201, -0.0004776425485033542, 0.2557406723499298, -0.4820469915866852, 0.1020108237862587, 0.09288260340690613, -0.1680285483598709, -0.14938747882843018, 0.5731679201126099, -0.021864237263798714, -0.2770887315273285, -0.9933411478996277, 0.446659117937088, -0.15891309082508087, -0.06299220025539398, 0.24659067392349243, 0.06474088877439499, 0.17427143454551697, 0.1346629559993744, -0.2435888648033142, 0.373440146446228, 0.6535447835922241, 0.2801041901111603, 0.06443183124065399, 0.015263638459146023, -0.013317648321390152, 0.19486795365810394, -0.12642545998096466, -0.09805052727460861, -0.5894031524658203, 0.774387538433075, 0.6317160725593567, -0.33251091837882996, 0.017025679349899292, -0.12980306148529053, 0.22879303991794586, 0.014469805173575878, -0.06600786000490189, 0.274519145488739, -0.29943811893463135, -0.390751451253891, 0.43562477827072144, -0.02596178650856018, 0.016358835622668266, 0.26857489347457886, 0.47520965337753296, -0.07618480920791626, -0.3840290307998657, -0.17672517895698547, 0.4242158830165863, 0.6831710934638977, -0.4107910096645355, 0.2656925916671753, -0.09800560772418976, -0.4303934872150421, -0.21313948929309845, -0.3253747820854187, 0.08066993951797485, -0.3886937201023102, -0.5228521823883057, -0.14105916023254395, -0.08181914687156677, 0.09103744477033615, 0.07272771745920181, -0.3264278471469879, 0.20653685927391052, -0.5168971419334412, 0.3530888855457306, 0.034706275910139084, -0.09217065572738647, 0.04547486826777458, 1.0761091709136963, -0.09510647505521774, -0.11998049169778824, 0.051873937249183655, -0.014229312539100647, 0.24441392719745636, -0.6364181041717529, 0.4192349910736084, 0.05320359021425247, -0.24281372129917145, 0.1487557739019394, -0.04093344882130623, 0.6775361895561218, -0.2579185962677002, 0.11792939156293869, -0.44014477729797363, -0.2233218401670456, -0.23080123960971832, 0.1138903945684433, -0.5522475838661194, -0.2945234477519989, -0.5658282041549683, -0.13557030260562897, 0.10415942221879959, -0.36906078457832336, 0.19992251694202423, 0.44467949867248535, -0.12230970710515976, -0.09211837500333786, 0.025362802669405937, 0.5010578036308289, -0.21003474295139313, -0.3736758828163147, -0.35435545444488525, -0.08676581084728241, -0.029147019609808922, -0.5259498357772827, -0.06481928378343582, -0.17160169780254364, -0.2885555326938629, 0.8295550346374512, 0.2213136851787567, 0.11363720893859863, -0.39269325137138367, 0.32004913687705994, -0.15586623549461365, -0.36307355761528015, -0.569009006023407, 0.4512135088443756, -0.1485918015241623, -0.2501627504825592, -0.41782402992248535, -0.47242286801338196, -0.012087760493159294, -0.06450716406106949, -0.30996647477149963, 0.019626060500741005, 0.056908659636974335, 0.7693611979484558, -0.08712995052337646, 0.28748953342437744, -0.1260557323694229, 0.8023248910903931, 0.5833388566970825, 1.2671525478363037, -0.06662039458751678, -0.6785646677017212, -0.09867896139621735, 0.01544929202646017, -0.16453729569911957, 0.3621208667755127, -0.03053208254277706, -0.21405118703842163, 0.028339702636003494, 0.16957226395606995, -0.018611855804920197, 0.15306325256824493, -0.33880549669265747, -0.4783422350883484, -0.3610510528087616, -0.09581463783979416, -0.39097607135772705, 0.006983834318816662, -0.10917007178068161, 0.21354058384895325, -0.287654310464859, -0.34001049399375916, -0.1172122210264206, -0.41039273142814636, 0.4964330792427063, 0.3640030324459076, 0.04435161128640175, -0.4977913200855255, -0.044698793441057205, 0.5126800537109375, 0.19205842912197113, 0.2533126771450043, -0.4364597797393799, 0.18674123287200928, -0.013835842721164227, -0.025694094598293304, 0.8035638332366943, -0.1545698046684265, 0.1073739156126976, 0.41267454624176025, -0.5019412636756897, 0.1489122211933136, 0.5625733733177185, 0.512324869632721, 0.025373630225658417, -0.45391348004341125, 0.5585780143737793, 0.12852364778518677, -0.05008864775300026, 0.6054659485816956, 0.526879072189331, -0.5262534618377686, -0.17976826429367065, 0.1296895444393158, 0.03899633511900902, 0.35937315225601196, 0.03617182374000549, -0.31389325857162476, 0.7409380674362183, 0.14183765649795532, -0.5352194905281067, -0.3887653648853302, 0.0895908921957016, 0.067223459482193, 0.8813759088516235, -0.7452730536460876, 0.08099880069494247, 0.19913411140441895, 0.24932926893234253, 0.4162372648715973, -0.21203109622001648, -0.5760626196861267, -0.30336058139801025, -0.5142984390258789, 0.057380639016628265, 0.5403518080711365, -0.35214096307754517, -0.03759974241256714, -0.3170640766620636, -0.3443523943424225, 0.4474771022796631, -0.1735049933195114, 0.31006506085395813, -0.4563412666320801, -0.39288899302482605, -0.17274749279022217, -0.5954374074935913, 0.014229055494070053, 0.09812777489423752, -0.17585621774196625, -0.22031721472740173, 0.12782026827335358, -0.40953654050827026, -0.24250751733779907, -0.3861731290817261, 0.28454092144966125, -0.2403688132762909, -0.14028754830360413, -0.4759015142917633, -0.11749894171953201, 0.07160857319831848, 0.19067580997943878, -0.5185394287109375, -0.1737350970506668, 0.17482946813106537, 0.4737912118434906, 0.04212362691760063, -0.5176098346710205, 0.06721210479736328, -0.506481945514679, 0.44975578784942627, -0.22066038846969604, -0.3390582203865051, 0.663485586643219, -0.7266454696655273, 0.7481759786605835, 0.05784812197089195, -0.5051034092903137, -0.6157698631286621, -0.139423206448555, 0.3497263491153717, -0.5497783422470093, -0.1761189103126526, 0.09286381304264069, -0.08644259721040726, 0.9922865033149719, 0.26985281705856323, -0.24852117896080017, -0.40858086943626404, -0.4633176326751709, 0.362468421459198, 0.7887815237045288, 0.008954927325248718, 0.0439889170229435, 0.07588379830121994, 0.44101518392562866, -0.42281344532966614, 0.32898521423339844, -0.023794032633304596, -0.3047190010547638, -0.4271700382232666, 0.3735590875148773, 0.5095344185829163, -0.22543448209762573, 0.08340702205896378, 0.01641218177974224, 0.8058869242668152, -0.4280431866645813, -0.10263944417238235, -0.06817791610956192, -0.480631947517395, -0.3757990300655365, -0.2837355136871338, -0.0963912382721901, 0.04687438905239105, -0.05275240167975426, -0.02363896369934082, 0.24259795248508453, -0.5363414883613586, 0.048121459782123566, -0.6199126243591309, 0.31268978118896484, 0.36652931571006775, 0.07421299070119858, 0.20387771725654602, -0.48522377014160156, -0.3178394138813019, -0.7567678093910217, 0.14587290585041046, -0.29181432723999023, 0.2667211890220642, 0.22961878776550293, -0.11855760961771011, 0.1369917094707489, 0.23662258684635162, -0.01017226092517376, -0.30106329917907715, 0.3196040391921997, 0.339700311422348, 0.28644704818725586, -0.33849677443504333, 0.008166838437318802, 0.41244304180145264, -0.016627291217446327, -0.5158824920654297, 0.43995198607444763, 0.18461334705352783, 0.048304032534360886, 0.6424365043640137, -0.6854678392410278, -0.17307592928409576, -0.22436071932315826, 0.28094303607940674, -0.3593255281448364, 0.013137518428266048, 0.27035221457481384, -0.399503231048584, -0.23212257027626038, 0.12090463191270828, -0.06970486044883728, 0.13600438833236694, 0.2743559181690216, -0.29111093282699585, -0.5535513758659363, -0.14684319496154785, 0.09559556841850281, 0.09962543100118637, -0.2613693177700043, -0.03882969543337822, 0.09116430580615997, 0.05716531351208687, 0.40121182799339294, -0.6820820569992065, 0.1726735383272171, -0.28062841296195984, -0.188421830534935, -0.05747790262103081, -0.8778047561645508, 0.08055902272462845, 0.004121425561606884, -0.30943235754966736, -0.1781967580318451, 0.17752167582511902, -0.1332063376903534, -0.46006345748901367, 0.1456575244665146, -0.38051697611808777, -0.1437329798936844, -0.4188906252384186, 0.4249517321586609, 0.03809886425733566, -0.08186337351799011, -0.0911044329404831, -0.511317789554596, -0.13115638494491577, 0.037801556289196014, -0.24427391588687897, -0.7482289671897888, -0.49424707889556885, -0.019919831305742264, -0.37644344568252563, -0.02398042008280754, -0.6106449961662292, 0.1964961141347885, 0.7949743866920471, -0.15491387248039246, 0.30121833086013794, -0.19450613856315613, 0.25669506192207336, 0.24831685423851013, -0.3540729582309723, -0.30489665269851685, 0.075082927942276, 0.026005776599049568, -0.3178762197494507, 0.036407552659511566, 0.7394464612007141, 0.43611592054367065, -0.4999842345714569, -0.4495697319507599, 0.05371517315506935, -0.7693325281143188, 0.06466032564640045, -0.46075117588043213, -0.033910490572452545, -0.5496852993965149, -0.3401789963245392, -0.18245857954025269, -0.025142448022961617, -0.32977017760276794, -0.06781936436891556, -0.25329846143722534, 0.41490188241004944, 0.46787214279174805, 0.03003687597811222, 0.34970784187316895, -0.0016659573884680867, 0.4114905595779419, 0.5871252417564392, -0.4718368947505951, 0.6041427850723267, 1.2383389472961426, 0.29988572001457214, 0.2387280911207199, 0.22304213047027588, -0.1897106170654297, 0.1074257418513298, -0.18584400415420532, -0.31116771697998047, -0.31964218616485596, 0.3737602233886719, -0.2619249224662781, -0.6165028214454651, 0.3705776035785675, 0.28378477692604065, 0.35258355736732483, -0.34527382254600525, 0.35386309027671814, -0.40608498454093933, 0.11062309890985489, -0.6580711007118225, -0.4317629933357239, -0.37102872133255005, 0.09106028825044632, -0.2561986744403839, 0.04890485480427742, -0.765349805355072, -0.29880014061927795, -0.20617468655109406, 0.17980100214481354, 0.41376355290412903, 0.7205714583396912, -0.045512210577726364, 0.7251701354980469, -0.3679589331150055, -0.2588222026824951, 0.1437402367591858, -0.22862492501735687, 0.1990608423948288, -0.1625622808933258, -0.6528400182723999, -0.062362730503082275, -0.3624943792819977, 0.008324747905135155, 0.4631393253803253, 0.5122772455215454, 0.4402490556240082, -0.05493975430727005, 0.567887008190155, -0.10011270642280579, 0.5466136932373047, 0.6530643701553345, 0.21803586184978485, -0.3575202226638794, -0.01206547673791647, -0.208832785487175, -0.24110622704029083, -1.0041592121124268, 0.2132594734430313, -0.38315635919570923, 0.06453758478164673, 0.2871420085430145, 0.03395858034491539, -0.3410870134830475, -0.2155882716178894, 0.2538871467113495, 0.028211824595928192, 0.011743217706680298, 0.20474909245967865, 0.008428662084043026, -0.11829911172389984, 0.7698612213134766, -0.2305551916360855, -0.3331448435783386, 0.016681663691997528, -0.23034793138504028, 0.12511199712753296, -0.0892685204744339, -0.3217884302139282, 0.16118279099464417, -0.11461899429559708, -0.0105730090290308, -0.49477842450141907, 0.04531249776482582, 1.2233643531799316, 0.4773775339126587, 0.377824604511261, 0.870535671710968, 0.48242706060409546, 0.25342845916748047, 0.30812859535217285, 0.05516749620437622, -0.04939870908856392, -0.2303088754415512, 0.3195447623729706, -0.20704437792301178, -0.13244587182998657, 0.09144031256437302, -0.21114620566368103, 0.024314790964126587, 0.006469237618148327, -0.2964057922363281, -0.2986491322517395, -0.7372303009033203, 0.8745216727256775, -0.06614921987056732, 0.6278573870658875, -0.3746526539325714, -0.4140723645687103, -0.13522446155548096, 0.01599034108221531, 0.23210786283016205, -0.4320727586746216, 0.28890469670295715, 0.2571254372596741, -0.42717432975769043, -0.5410447716712952, -0.24436716735363007, 0.9792692065238953, 0.7745328545570374, 0.2276909351348877, -0.14685523509979248, -0.5683473348617554, 0.7036363482475281, 0.3235167860984802, -0.21275249123573303, -0.25254905223846436, -0.23718558251857758, -0.42920711636543274, 0.28590255975723267, -0.26848104596138, -0.20091401040554047, -0.14417822659015656, 0.18422110378742218, 0.008568380028009415, -0.38781073689460754, 0.5179588794708252, 0.42941781878471375, -0.028719019144773483, -0.017331605777144432, 0.5569154620170593, 0.2548273205757141, -0.017147084698081017, -0.26178014278411865, -0.0407538041472435, -0.16820599138736725, 1.1083850860595703, 0.08513712882995605, 0.15801918506622314, -0.25595608353614807, -0.43438780307769775, -0.1579042375087738, -0.09273305535316467, -0.26809725165367126, 0.8679347038269043, -0.29634565114974976, 0.6400126218795776, 0.057217489928007126, -0.8456190228462219, 0.43903717398643494, -0.492575079202652, -0.36994585394859314, -0.5430526733398438, -0.17776452004909515, 0.270389199256897, 0.4421100914478302, -0.4342699646949768, 0.2569178640842438, 0.4699741303920746, -0.18304508924484253, -0.05190553516149521, -0.29015931487083435, 0.5525289177894592, -0.2457156628370285, -0.1864997148513794, 0.06540308892726898, -0.22126781940460205, 0.50308758020401, 0.20438502728939056, 0.4390214681625366, -0.1298268586397171, -0.15513642132282257, -0.27925625443458557, -0.39469483494758606, 1.1049237251281738, -0.11949743330478668, 0.19660457968711853, 0.07961966842412949, -0.11232585459947586, 0.0017797437030822039, -0.01731760986149311, 0.09062667936086655, 0.3959537446498871, 0.8530941605567932, 0.1029706746339798, 0.24385540187358856, 0.8943864107131958, 0.958395779132843, 0.041338127106428146, -0.2136085480451584, -0.15365786850452423, -0.48176732659339905, 0.44643986225128174, 0.16424502432346344, 0.12403220683336258, 0.5077487230300903, -0.09071227163076401, 0.6203620433807373, -0.3373021185398102, 0.2320246696472168, -0.1647690236568451, -0.04863011837005615, 0.08273861557245255, 0.4539313018321991, 0.2446078211069107, 0.6667272448539734, -0.11017637699842453, 0.20062097907066345, 0.27134406566619873, 0.031145576387643814, 0.14257487654685974, 0.33292239904403687, -0.33185631036758423, -0.2058296501636505, 0.3943970501422882, -0.31484097242355347, -0.48851585388183594, 0.16283194720745087, 0.6064568758010864, -0.4940749704837799, 0.34615251421928406, -0.07973489165306091, 0.15594975650310516, -0.06105180084705353, -0.3468259572982788, 0.23280274868011475, 0.19205929338932037, 0.10059637576341629, 0.275046169757843, -0.1436384916305542, 0.16709595918655396, -0.295255571603775, -0.14876984059810638, -0.2821141183376312, -0.18331164121627808, 0.17717327177524567, -0.11952833831310272, 1.4350908994674683, -0.09761238098144531, 0.6795470118522644, -0.8750459551811218, -0.03316328674554825, 0.6871612071990967, -0.2140674591064453, 0.24324339628219604, 0.1813715547323227, -0.08240031450986862, -0.36014580726623535, 0.6390668153762817, 0.24765531718730927, -0.07963471859693527, 0.4155857264995575, -0.06598538160324097, -0.2938356101512909, -0.3758544623851776, 0.545362114906311, 0.21101124584674835, 0.15841826796531677, 1.114141821861267, -0.0559745728969574, 0.44428354501724243, -0.2496005892753601, 0.39341405034065247, -0.5173168182373047, -0.5088002681732178, -0.4568067789077759, 0.5357248187065125, 0.5880959630012512, -0.12501026690006256, -0.09064441174268723, 0.1727464497089386, 0.21694637835025787, -0.20532648265361786, 0.035578057169914246, 0.16021332144737244, -0.2347617894411087, -0.09119608253240585, 0.7623010277748108, -0.2541002631187439, -0.008913097903132439, 0.6152142286300659, -0.09482801705598831, -0.288053959608078, 0.1863655149936676, -0.44618427753448486, 0.11413480341434479, 0.3899711072444916, 0.515081524848938, -0.4132673144340515, 0.11092285811901093, 0.34233447909355164, 0.41336917877197266, 0.358360230922699, -0.2513801157474518, -0.030466753989458084, 0.7806183099746704, 0.033118680119514465, -0.6289076209068298, -0.11055503785610199, -0.09564141184091568, -0.48377373814582825, -0.31393125653266907, -0.25568148493766785, 0.3853275775909424, -0.5553807616233826, 1.187290072441101, -0.17318741977214813, -0.5186396837234497, 0.023335063830018044, 0.15397793054580688, -0.28877735137939453, 1.0674216747283936, -0.47453272342681885, 0.28794097900390625, 0.49228399991989136, 0.0805346667766571, 0.605044424533844, -0.03948894888162613, 0.5840272307395935, 0.30411648750305176, 0.011097953654825687, 0.5576979517936707, 0.17709195613861084, -0.07042565196752548, -0.002735517919063568, 0.4455973505973816, 0.4189012944698334, -0.6707439422607422, -0.06420966237783432, -0.27855589985847473, 0.10467363148927689, 0.29574456810951233, -0.5689733028411865, -0.20471268892288208, -0.5478609204292297, 0.005985989701002836, -0.18717311322689056, -0.5050122737884521, -0.5942767858505249, -0.31183409690856934, 0.10003490746021271, -0.3052566647529602, 0.34999364614486694, 0.08213863521814346, -0.2989197373390198, -0.09465070813894272, 0.046728357672691345, -0.22260017693042755, -0.5697600841522217, -0.7169826626777649, 0.4713461399078369, 0.15234382450580597, 0.04313858970999718, 0.38037505745887756, -0.7401807308197021, -0.1294906884431839, -0.6219373345375061, -0.009122492745518684, 0.49974706768989563, 0.07993879914283752, 0.031250253319740295, -0.2795371413230896, 0.47029879689216614, 0.6507627964019775, 0.03948989883065224, 0.4387151598930359, 0.38911765813827515, 0.1094757542014122, 0.45385757088661194, 0.06351000815629959, 0.8551912307739258, 0.20728136599063873, -0.34719350934028625, -0.028195597231388092, 0.001548380358144641, -0.7289566993713379, 0.3322039246559143, 0.04852873086929321, 0.12089207023382187, -0.15462099015712738, 0.40337812900543213, 0.13779102265834808, -0.2161429524421692, -0.06810565292835236, 0.4489106237888336, 0.16255803406238556, -0.25559139251708984, -0.14555568993091583, 0.2850988805294037, -0.2760164439678192, -0.45975053310394287, -0.22848451137542725, -0.2428918182849884, -0.5121936202049255, 0.27335894107818604, -0.2021344155073166, -0.21609972417354584, 0.21101722121238708, -0.13407114148139954, -0.2092365175485611, -0.3469911217689514, 0.37651318311691284, -0.07110953330993652, 0.20078511536121368, 0.3932358920574188, -0.010771735571324825, -0.7318902015686035, -0.19515575468540192, 0.15783566236495972, 0.35269004106521606, -0.06289441138505936, -0.07034354656934738, -0.08241885900497437, -0.23287419974803925, 0.19847461581230164, -0.04830091819167137, -0.16371415555477142, 0.22295081615447998, 0.7269784212112427, 0.21779319643974304, -0.19078801572322845, 0.21865040063858032, 0.5128231644630432, 0.05971900373697281, 0.32596343755722046, 0.29947829246520996, -0.16432805359363556, 0.4694512188434601, -0.36731740832328796, 0.4326845109462738, -0.6018692851066589, -0.44806236028671265, 0.28928157687187195, -0.44239020347595215, -0.2854996919631958, 0.48465096950531006, -0.38615500926971436, -0.07343016564846039, 0.530272901058197, 0.2097451090812683, 0.5242687463760376, 0.1618291437625885, -0.014604770578444004, -0.7620799541473389, 0.4956398010253906, -0.2255001962184906, 0.006914698518812656, 0.5957894921302795, -0.030633971095085144, -0.3305848240852356, 0.22652077674865723, -0.5839238166809082, 0.2882024943828583, 0.48078492283821106, 0.21862779557704926, -0.3525769114494324, 0.025084232911467552, 0.6690563559532166, -0.10718534141778946, -0.029700806364417076, 0.17247454822063446, -0.3741295039653778, -0.6155799031257629, 0.05297982320189476, -0.3892723023891449, 0.3285401165485382, 0.08070053160190582, 0.7933816313743591, 0.4544355869293213, -0.2544788122177124, -0.30403798818588257, -0.014127054251730442, 0.09406633675098419, -0.3699564039707184, -0.10442867875099182, -0.1437540501356125, -0.566560685634613, -0.49177080392837524, 0.6038382053375244, -0.21327343583106995, -0.5898693799972534, -0.07109275460243225, -0.18190164864063263, 0.676490068435669, 0.30483317375183105, -0.7029251456260681, -0.6523670554161072, 0.23693139851093292, 0.2612805962562561, 0.001501310383901, 0.19538514316082, 0.07511421293020248, -0.11589857190847397, 0.0687677338719368, -0.08244644850492477, 0.4202348589897156, 0.18914176523685455, 0.45855388045310974, 0.2478621006011963, 0.37649890780448914, -0.2793680727481842, -0.23573973774909973, 0.13444167375564575, 0.0048845866695046425, 0.4231105148792267, 0.014762651175260544, -0.2543652057647705, 0.2399376779794693, -0.25196322798728943, 0.11032252013683319, -0.16834959387779236, -0.06698871403932571, 0.28376612067222595, 0.7854043841362, 0.5172549486160278, -0.3363809585571289, -0.3261164426803589, -0.3373294174671173, 0.0033044780138880014, 0.23869964480400085, 0.039788998663425446, 0.13205558061599731, -0.0685766339302063, 0.532917857170105, 0.5638522505760193, -0.0010361465392634273, 0.15515199303627014, 0.15882179141044617, -0.13422873616218567, 0.048415180295705795, 0.32846903800964355, 0.02906431071460247, 0.05074963718652725, -0.3152078092098236, -0.0784396231174469, -0.24393314123153687, -0.35544121265411377, -0.2663481533527374, -0.5051113963127136, -0.3104854226112366, -0.2185087502002716, -0.0014397435588762164, -0.21958723664283752, 0.22240985929965973, -0.3649212419986725, -0.3039515018463135, -0.1046164482831955, -0.27207139134407043, 0.07286015897989273, -0.012307562865316868, -0.049704451113939285, -0.11847634613513947, 0.15217700600624084, 0.5168609023094177, 0.0008441067766398191, -0.17393070459365845, -0.18977583944797516, -0.40484774112701416, -0.021462390199303627, -0.015063646249473095, 0.4566531777381897, 0.02809734269976616, -0.20565372705459595, -0.15214119851589203, 0.36588865518569946, -0.31213435530662537, 0.010442855767905712, -0.18675898015499115, -0.17850641906261444, -0.09540070593357086, 0.14969025552272797, -0.482789546251297, -0.711879312992096, 0.04255562648177147, -0.07739806175231934, -0.16095739603042603, -0.27569830417633057, -0.1271142214536667, 0.05574847757816315, 0.2370491921901703, 0.2220352441072464, -0.032449644058942795, -0.20537197589874268, -0.20898067951202393, 0.3145162761211395, -0.2031322568655014, -0.12189678847789764, 0.020114239305257797, 0.4129733741283417, -0.4570922553539276, 0.11142818629741669, 0.6344499588012695, 0.1617456078529358, 0.35744965076446533, -0.15253624320030212, -0.05994405597448349, -0.1240648627281189, 0.4720209240913391, -0.1003192886710167, 0.035781070590019226, -0.03210959583520889, 0.004570823162794113, 0.3263661563396454, -0.03149217739701271, -0.18471822142601013, -0.4582050144672394, -0.1435500681400299, 0.31155461072921753, -0.2110345959663391, -0.07010461390018463, 0.5599244832992554, 0.06140813231468201, 0.07908300310373306, -0.1787804216146469, -0.022570474073290825, -0.04049357771873474, 0.1497190296649933, 0.7836894392967224, 0.26265010237693787, 0.7087655067443848, 0.41187775135040283, -0.31655973196029663, 0.10374276340007782, -0.12942585349082947, 0.3316563069820404, 0.008503369987010956, -0.13402417302131653, -0.2777104079723358, 0.45013168454170227, -0.2015126496553421, -0.1466226577758789, 0.15869171917438507, 0.14102856814861298, -0.2602906823158264, 0.4768376350402832, 0.07294977456331253, -0.2907935380935669, 0.023320376873016357, -0.5651792883872986, 0.4673362970352173, 0.5203254222869873, -0.42647647857666016, 0.1268066167831421, -0.5488468408584595, -0.18162892758846283, 0.027582408860325813, -0.36507219076156616, 0.012355943210422993, 0.0648849606513977, 0.7105087041854858, -0.02648915909230709, 0.3059695363044739, 0.5790951251983643, 0.3313329219818115, -0.11955705285072327, 0.13466525077819824, 0.25907623767852783, -0.41102272272109985, 0.3405490517616272, 0.15470680594444275, 0.45996150374412537, 0.795184314250946, 0.48917967081069946, 0.4761427640914917, -0.681502640247345, -0.2993863523006439, 0.05214611813426018, -0.14464466273784637, 0.34988340735435486, -0.08226064592599869, 1.07687509059906, -0.36765265464782715, 0.1627011001110077, 0.522203803062439, -0.5817764401435852, 0.09677689522504807, 0.44519543647766113, -0.3316662609577179, -0.17718267440795898, 0.30608633160591125, 0.11177632212638855, -0.14674615859985352, -0.38063859939575195, 0.3305760622024536, 0.2793191075325012, 0.4399417042732239, 0.1599724292755127, 0.25529617071151733, -0.19813980162143707, -0.07752034813165665, -0.22183670103549957, -0.05853287875652313, -0.13785168528556824, -0.2312687486410141, -0.1584043651819229, 0.5401046276092529, 0.6340945959091187, 0.798392117023468, 0.36773425340652466, 0.07396531105041504, -0.31940531730651855, 0.034226082265377045, 0.2875984013080597, -0.5129448175430298, -0.05588071420788765, 0.2929505705833435, 0.02156744711101055, 0.4912928342819214, -0.19237691164016724, -0.22045838832855225, 0.3505059778690338, 0.13851900398731232, -0.17800545692443848, -0.0687023401260376, -0.3067872226238251, 0.5594142079353333, 0.4249451160430908, -0.2544618844985962, 1.1024295091629028, -0.2724950313568115, -0.06458134204149246, -0.22482989728450775, 0.0932285413146019, 0.14192920923233032, 0.44653111696243286, 0.4714430868625641, -0.023287326097488403, 0.159082293510437, -0.1903277337551117, 0.01639483869075775, 0.3736681640148163, -0.07494425773620605, 0.9701617360115051, 0.06976096332073212, 0.2527938187122345, 1.162045955657959, 0.18211762607097626, -0.018979880958795547, -0.2205374836921692, -0.31023359298706055, -0.3312896192073822, 1.1940659284591675, 0.14280006289482117, -0.4906279444694519, -0.3803302049636841, -0.5970510840415955, -0.436410516500473, -0.12957674264907837, 0.33852753043174744, -0.12920838594436646, -0.19829373061656952, -0.30639562010765076, 0.30074211955070496, -0.09561837464570999, 0.4600937068462372, -0.4602862000465393, 0.18966856598854065, 0.3187640309333801, 0.5203439593315125, 0.3897908329963684, -0.3616025447845459, -0.05516502633690834, 0.3830687999725342, -0.17334792017936707, -0.03991221636533737, 0.5766245722770691, -0.19839878380298615, 0.5661865472793579, -0.4017261564731598, -0.257917195558548, 0.2669127285480499, 1.0842015743255615, 0.4778684377670288, 0.4191274046897888, -0.14124110341072083, -0.281292200088501, 0.27204152941703796, -0.06043223291635513, -0.04517441987991333, 0.18303203582763672, 0.47644707560539246, -0.480366051197052, 0.9373756051063538, -0.33709684014320374, 0.3117636740207672, 0.0447528213262558, -0.3183726370334625, 0.05939503386616707, -0.8469324111938477, -0.1350283920764923, -0.4368552267551422, -0.16611039638519287, -0.30497756600379944, -0.2774549126625061, 0.05108874291181564, 0.17308612167835236, 0.025735333561897278, -0.2941734492778778, -0.36776357889175415, -0.4033811092376709, -0.049530092626810074, -0.19363196194171906, -0.04940495267510414, 0.6280634999275208, -0.3677813708782196, -0.05462602525949478, -0.20253117382526398, -0.1905226856470108, -0.531037449836731, 0.28110459446907043, 0.4728041887283325, 0.1590985506772995, -0.09832780063152313, -0.30492180585861206, 0.7075367569923401, -0.17780701816082, -0.2767278254032135, -0.5320664644241333, -0.19056139886379242, 0.10238025337457657, 0.09516067802906036, 0.4476565718650818, 0.015213526785373688, -0.15407393872737885, 0.6210261583328247, 0.9366431832313538, 0.011553069576621056, -0.15189561247825623, 0.1914074569940567, 0.5863440036773682, 0.2726533114910126, -0.3848129212856293, -0.42656147480010986, -0.14627733826637268, -0.04547702148556709, 0.006267141550779343, 0.35442882776260376, -0.1372923105955124, -0.21963348984718323, 0.2504211366176605, 0.46869418025016785, -0.11310531944036484, 0.41137003898620605, -0.42235538363456726, 0.14555613696575165, 0.082552969455719, 0.023865491151809692, -0.14919595420360565, -0.03637983649969101, 0.16621044278144836, 0.29195088148117065, 0.1412876397371292, 0.5924170017242432, -0.7599374055862427, -0.23967544734477997, -0.5304322838783264, 0.3911656141281128, 0.2339177280664444, 0.01798580028116703, 0.3216387927532196, 0.36669230461120605, -0.06568485498428345], \"yaxis\": \"y\"}],\n",
              "                        {\"legend\": {\"itemsizing\": \"constant\", \"tracegroupgap\": 0}, \"margin\": {\"t\": 60}, \"template\": {\"data\": {\"bar\": [{\"error_x\": {\"color\": \"#2a3f5f\"}, \"error_y\": {\"color\": \"#2a3f5f\"}, \"marker\": {\"line\": {\"color\": \"white\", \"width\": 0.5}}, \"type\": \"bar\"}], \"barpolar\": [{\"marker\": {\"line\": {\"color\": \"white\", \"width\": 0.5}}, \"type\": \"barpolar\"}], \"carpet\": [{\"aaxis\": {\"endlinecolor\": \"#2a3f5f\", \"gridcolor\": \"#C8D4E3\", \"linecolor\": \"#C8D4E3\", \"minorgridcolor\": \"#C8D4E3\", \"startlinecolor\": \"#2a3f5f\"}, \"baxis\": {\"endlinecolor\": \"#2a3f5f\", \"gridcolor\": \"#C8D4E3\", \"linecolor\": \"#C8D4E3\", \"minorgridcolor\": \"#C8D4E3\", \"startlinecolor\": \"#2a3f5f\"}, \"type\": \"carpet\"}], \"choropleth\": [{\"colorbar\": {\"outlinewidth\": 0, \"ticks\": \"\"}, \"type\": \"choropleth\"}], \"contour\": [{\"colorbar\": {\"outlinewidth\": 0, \"ticks\": \"\"}, \"colorscale\": [[0.0, \"#0d0887\"], [0.1111111111111111, \"#46039f\"], [0.2222222222222222, \"#7201a8\"], [0.3333333333333333, \"#9c179e\"], [0.4444444444444444, \"#bd3786\"], [0.5555555555555556, \"#d8576b\"], [0.6666666666666666, \"#ed7953\"], [0.7777777777777778, \"#fb9f3a\"], [0.8888888888888888, \"#fdca26\"], [1.0, \"#f0f921\"]], \"type\": \"contour\"}], \"contourcarpet\": [{\"colorbar\": {\"outlinewidth\": 0, \"ticks\": \"\"}, \"type\": \"contourcarpet\"}], \"heatmap\": [{\"colorbar\": {\"outlinewidth\": 0, \"ticks\": \"\"}, \"colorscale\": [[0.0, \"#0d0887\"], [0.1111111111111111, \"#46039f\"], [0.2222222222222222, \"#7201a8\"], [0.3333333333333333, \"#9c179e\"], [0.4444444444444444, \"#bd3786\"], [0.5555555555555556, \"#d8576b\"], [0.6666666666666666, \"#ed7953\"], [0.7777777777777778, \"#fb9f3a\"], [0.8888888888888888, \"#fdca26\"], [1.0, \"#f0f921\"]], \"type\": \"heatmap\"}], \"heatmapgl\": [{\"colorbar\": {\"outlinewidth\": 0, \"ticks\": \"\"}, \"colorscale\": [[0.0, \"#0d0887\"], [0.1111111111111111, \"#46039f\"], [0.2222222222222222, \"#7201a8\"], [0.3333333333333333, \"#9c179e\"], [0.4444444444444444, \"#bd3786\"], [0.5555555555555556, \"#d8576b\"], [0.6666666666666666, \"#ed7953\"], [0.7777777777777778, \"#fb9f3a\"], [0.8888888888888888, \"#fdca26\"], [1.0, \"#f0f921\"]], \"type\": \"heatmapgl\"}], \"histogram\": [{\"marker\": {\"colorbar\": {\"outlinewidth\": 0, \"ticks\": \"\"}}, \"type\": \"histogram\"}], \"histogram2d\": [{\"colorbar\": {\"outlinewidth\": 0, \"ticks\": \"\"}, \"colorscale\": [[0.0, \"#0d0887\"], [0.1111111111111111, \"#46039f\"], [0.2222222222222222, \"#7201a8\"], [0.3333333333333333, \"#9c179e\"], [0.4444444444444444, \"#bd3786\"], [0.5555555555555556, \"#d8576b\"], [0.6666666666666666, \"#ed7953\"], [0.7777777777777778, \"#fb9f3a\"], [0.8888888888888888, \"#fdca26\"], [1.0, \"#f0f921\"]], \"type\": \"histogram2d\"}], \"histogram2dcontour\": [{\"colorbar\": {\"outlinewidth\": 0, \"ticks\": \"\"}, \"colorscale\": [[0.0, \"#0d0887\"], [0.1111111111111111, \"#46039f\"], [0.2222222222222222, \"#7201a8\"], [0.3333333333333333, \"#9c179e\"], [0.4444444444444444, \"#bd3786\"], [0.5555555555555556, \"#d8576b\"], [0.6666666666666666, \"#ed7953\"], [0.7777777777777778, \"#fb9f3a\"], [0.8888888888888888, \"#fdca26\"], [1.0, \"#f0f921\"]], \"type\": \"histogram2dcontour\"}], \"mesh3d\": [{\"colorbar\": {\"outlinewidth\": 0, \"ticks\": \"\"}, \"type\": \"mesh3d\"}], \"parcoords\": [{\"line\": {\"colorbar\": {\"outlinewidth\": 0, \"ticks\": \"\"}}, \"type\": \"parcoords\"}], \"pie\": [{\"automargin\": true, \"type\": \"pie\"}], \"scatter\": [{\"marker\": {\"colorbar\": {\"outlinewidth\": 0, \"ticks\": \"\"}}, \"type\": \"scatter\"}], \"scatter3d\": [{\"line\": {\"colorbar\": {\"outlinewidth\": 0, \"ticks\": \"\"}}, \"marker\": {\"colorbar\": {\"outlinewidth\": 0, \"ticks\": \"\"}}, \"type\": \"scatter3d\"}], \"scattercarpet\": [{\"marker\": {\"colorbar\": {\"outlinewidth\": 0, \"ticks\": \"\"}}, \"type\": \"scattercarpet\"}], \"scattergeo\": [{\"marker\": {\"colorbar\": {\"outlinewidth\": 0, \"ticks\": \"\"}}, \"type\": \"scattergeo\"}], \"scattergl\": [{\"marker\": {\"colorbar\": {\"outlinewidth\": 0, \"ticks\": \"\"}}, \"type\": \"scattergl\"}], \"scattermapbox\": [{\"marker\": {\"colorbar\": {\"outlinewidth\": 0, \"ticks\": \"\"}}, \"type\": \"scattermapbox\"}], \"scatterpolar\": [{\"marker\": {\"colorbar\": {\"outlinewidth\": 0, \"ticks\": \"\"}}, \"type\": \"scatterpolar\"}], \"scatterpolargl\": [{\"marker\": {\"colorbar\": {\"outlinewidth\": 0, \"ticks\": \"\"}}, \"type\": \"scatterpolargl\"}], \"scatterternary\": [{\"marker\": {\"colorbar\": {\"outlinewidth\": 0, \"ticks\": \"\"}}, \"type\": \"scatterternary\"}], \"surface\": [{\"colorbar\": {\"outlinewidth\": 0, \"ticks\": \"\"}, \"colorscale\": [[0.0, \"#0d0887\"], [0.1111111111111111, \"#46039f\"], [0.2222222222222222, \"#7201a8\"], [0.3333333333333333, \"#9c179e\"], [0.4444444444444444, \"#bd3786\"], [0.5555555555555556, \"#d8576b\"], [0.6666666666666666, \"#ed7953\"], [0.7777777777777778, \"#fb9f3a\"], [0.8888888888888888, \"#fdca26\"], [1.0, \"#f0f921\"]], \"type\": \"surface\"}], \"table\": [{\"cells\": {\"fill\": {\"color\": \"#EBF0F8\"}, \"line\": {\"color\": \"white\"}}, \"header\": {\"fill\": {\"color\": \"#C8D4E3\"}, \"line\": {\"color\": \"white\"}}, \"type\": \"table\"}]}, \"layout\": {\"annotationdefaults\": {\"arrowcolor\": \"#2a3f5f\", \"arrowhead\": 0, \"arrowwidth\": 1}, \"coloraxis\": {\"colorbar\": {\"outlinewidth\": 0, \"ticks\": \"\"}}, \"colorscale\": {\"diverging\": [[0, \"#8e0152\"], [0.1, \"#c51b7d\"], [0.2, \"#de77ae\"], [0.3, \"#f1b6da\"], [0.4, \"#fde0ef\"], [0.5, \"#f7f7f7\"], [0.6, \"#e6f5d0\"], [0.7, \"#b8e186\"], [0.8, \"#7fbc41\"], [0.9, \"#4d9221\"], [1, \"#276419\"]], \"sequential\": [[0.0, \"#0d0887\"], [0.1111111111111111, \"#46039f\"], [0.2222222222222222, \"#7201a8\"], [0.3333333333333333, \"#9c179e\"], [0.4444444444444444, \"#bd3786\"], [0.5555555555555556, \"#d8576b\"], [0.6666666666666666, \"#ed7953\"], [0.7777777777777778, \"#fb9f3a\"], [0.8888888888888888, \"#fdca26\"], [1.0, \"#f0f921\"]], \"sequentialminus\": [[0.0, \"#0d0887\"], [0.1111111111111111, \"#46039f\"], [0.2222222222222222, \"#7201a8\"], [0.3333333333333333, \"#9c179e\"], [0.4444444444444444, \"#bd3786\"], [0.5555555555555556, \"#d8576b\"], [0.6666666666666666, \"#ed7953\"], [0.7777777777777778, \"#fb9f3a\"], [0.8888888888888888, \"#fdca26\"], [1.0, \"#f0f921\"]]}, \"colorway\": [\"#636efa\", \"#EF553B\", \"#00cc96\", \"#ab63fa\", \"#FFA15A\", \"#19d3f3\", \"#FF6692\", \"#B6E880\", \"#FF97FF\", \"#FECB52\"], \"font\": {\"color\": \"#2a3f5f\"}, \"geo\": {\"bgcolor\": \"white\", \"lakecolor\": \"white\", \"landcolor\": \"white\", \"showlakes\": true, \"showland\": true, \"subunitcolor\": \"#C8D4E3\"}, \"hoverlabel\": {\"align\": \"left\"}, \"hovermode\": \"closest\", \"mapbox\": {\"style\": \"light\"}, \"paper_bgcolor\": \"white\", \"plot_bgcolor\": \"white\", \"polar\": {\"angularaxis\": {\"gridcolor\": \"#EBF0F8\", \"linecolor\": \"#EBF0F8\", \"ticks\": \"\"}, \"bgcolor\": \"white\", \"radialaxis\": {\"gridcolor\": \"#EBF0F8\", \"linecolor\": \"#EBF0F8\", \"ticks\": \"\"}}, \"scene\": {\"xaxis\": {\"backgroundcolor\": \"white\", \"gridcolor\": \"#DFE8F3\", \"gridwidth\": 2, \"linecolor\": \"#EBF0F8\", \"showbackground\": true, \"ticks\": \"\", \"zerolinecolor\": \"#EBF0F8\"}, \"yaxis\": {\"backgroundcolor\": \"white\", \"gridcolor\": \"#DFE8F3\", \"gridwidth\": 2, \"linecolor\": \"#EBF0F8\", \"showbackground\": true, \"ticks\": \"\", \"zerolinecolor\": \"#EBF0F8\"}, \"zaxis\": {\"backgroundcolor\": \"white\", \"gridcolor\": \"#DFE8F3\", \"gridwidth\": 2, \"linecolor\": \"#EBF0F8\", \"showbackground\": true, \"ticks\": \"\", \"zerolinecolor\": \"#EBF0F8\"}}, \"shapedefaults\": {\"line\": {\"color\": \"#2a3f5f\"}}, \"ternary\": {\"aaxis\": {\"gridcolor\": \"#DFE8F3\", \"linecolor\": \"#A2B1C6\", \"ticks\": \"\"}, \"baxis\": {\"gridcolor\": \"#DFE8F3\", \"linecolor\": \"#A2B1C6\", \"ticks\": \"\"}, \"bgcolor\": \"white\", \"caxis\": {\"gridcolor\": \"#DFE8F3\", \"linecolor\": \"#A2B1C6\", \"ticks\": \"\"}}, \"title\": {\"x\": 0.05}, \"xaxis\": {\"automargin\": true, \"gridcolor\": \"#EBF0F8\", \"linecolor\": \"#EBF0F8\", \"ticks\": \"\", \"title\": {\"standoff\": 15}, \"zerolinecolor\": \"#EBF0F8\", \"zerolinewidth\": 2}, \"yaxis\": {\"automargin\": true, \"gridcolor\": \"#EBF0F8\", \"linecolor\": \"#EBF0F8\", \"ticks\": \"\", \"title\": {\"standoff\": 15}, \"zerolinecolor\": \"#EBF0F8\", \"zerolinewidth\": 2}}}, \"xaxis\": {\"anchor\": \"y\", \"domain\": [0.0, 1.0], \"title\": {\"text\": \"x0\"}}, \"yaxis\": {\"anchor\": \"x\", \"domain\": [0.0, 1.0], \"title\": {\"text\": \"x1\"}}},\n",
              "                        {\"responsive\": true}\n",
              "                    ).then(function(){\n",
              "                            \n",
              "var gd = document.getElementById('330a0d52-d75b-499e-b441-17e329eeb3ec');\n",
              "var x = new MutationObserver(function (mutations, observer) {{\n",
              "        var display = window.getComputedStyle(gd).display;\n",
              "        if (!display || display === 'none') {{\n",
              "            console.log([gd, 'removed!']);\n",
              "            Plotly.purge(gd);\n",
              "            observer.disconnect();\n",
              "        }}\n",
              "}});\n",
              "\n",
              "// Listen for the removal of the full notebook cells\n",
              "var notebookContainer = gd.closest('#notebook-container');\n",
              "if (notebookContainer) {{\n",
              "    x.observe(notebookContainer, {childList: true});\n",
              "}}\n",
              "\n",
              "// Listen for the clearing of the current output cell\n",
              "var outputEl = gd.closest('.output');\n",
              "if (outputEl) {{\n",
              "    x.observe(outputEl, {childList: true});\n",
              "}}\n",
              "\n",
              "                        })\n",
              "                };\n",
              "                \n",
              "            </script>\n",
              "        </div>\n",
              "</body>\n",
              "</html>"
            ]
          },
          "metadata": {
            "tags": []
          }
        }
      ]
    },
    {
      "cell_type": "markdown",
      "metadata": {
        "id": "lpOUCqRM2RCu"
      },
      "source": [
        "Recalling the genres that we were attempting to classify, are you able to recognize any interpretable patterns in the learned word embedding? "
      ],
      "id": "lpOUCqRM2RCu"
    }
  ]
}