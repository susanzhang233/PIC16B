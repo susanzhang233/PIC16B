{
 "cells": [
  {
   "cell_type": "markdown",
   "id": "swiss-undergraduate",
   "metadata": {},
   "source": [
    "# Advanced Machine Learning with TensorFlow\n",
    "\n",
    "In this lecture, we'll begin a relatively long arc in which we will learn to use the TensorFlow package for advanced machine learning, with an emphasis on neural networks.  \n",
    "\n",
    "## A Few Notes on Google and Ethics\n",
    "\n",
    "[TensorFlow](https://www.tensorflow.org/) is a Google product. By teaching you TensorFlow, I take a small step toward extending the influence of Google in the field of machine learning and in the STEM community more broadly. By using TensorFlow in and out of this class, you will do the same. It's important that we both go into this with open eyes about some of the ethical questions surrounding Google's recent work in machine learning. I'd like to stress that I am not an expert on ethics in artificial intelligence. There are likely MANY other important ethical concerns about Google's work  (and the work of other giants in tech and artificial intelligence, like Facebook and Amazon) which are not on my radar. \n",
    "\n",
    "### 1. Language Models and Dr. Timnit Gebru\n",
    "\n",
    "In December 2020, Google [fired](https://www.washingtonpost.com/technology/2020/12/03/timnit-gebru-google-fired/) prominent AI ethicist Dr. Timnit Gebru, an Ethiopian-American woman, over a sequence of events surrounding [one of her papers](https://faculty.washington.edu/ebender/papers/Stochastic_Parrots.pdf). In this paper, Gebru and coauthors raise ethical concerns about language models---like the ones that Google uses for predictive text applications. These concerns include:\n",
    "\n",
    "- The role of these models in homogenizing online culture. \n",
    "- The environmental cost of training these (in some cases, comparable to the carbon footprint of a transatlantic flight). \n",
    "- The frequent instances of language models learning to reproduce biased or hateful text. \n",
    "\n",
    "Dr. Gebru and her collaborators ultimately recommend a more thoughtful, \"small\", and ethically-informed approach to constructing language models. Naturally, this recommendation would require extensive reorganization of one of Google's major research areas. Possibly because they felt threatened by this and related recommendations, Google managers invented an additional, internal review layer for this paper, even after it had already been accepted at a prominent computer science conference. Dr. Gebru's protest of this made-up red tape was one of the events that led to her firing. \n",
    "\n",
    "Dr. Gebru's colleague Margaret Mitchell was [also recently fired](https://www.zdnet.com/article/google-fires-top-ethical-ai-expert-margaret-mitchell/) in the fall-out from this incident. \n",
    "\n",
    "### 2. Google Translate Is Sexist\n",
    "\n",
    "It is well-documented that machine learning algorithms trained on natural text can inherit biases present in those texts. One of the most direct ways in which we can observe such bias is in Google Translate. Some languages, such as Hungarian, do not possess gendered pronouns. When Google Translate attempts to render these pronouns into a gendered language like English, assumptions are made, as pointed out in [this Tweet by Dora Vargha](https://twitter.com/DoraVargha/status/1373211762108076034?ref_src=twsrc%5Etfw%7Ctwcamp%5Etweetembed%7Ctwterm%5E1373211762108076034%7Ctwgr%5E%7Ctwcon%5Es1_&ref_url=https%3A%2F%2Fd-7356743851859968838.ampproject.net%2F2103240330002%2Fframe.html).  Let's demonstrate with the following English sentences. \n",
    "\n",
    "> **he** cooks.\n",
    "> **she** is a political leader.\n",
    "> **she** is an engineer.\n",
    "> **he** is a cleaner.\n",
    "> **he** is beautiful. \n",
    "> **she** is strong. \n",
    "\n",
    "Translate these into Hungarian and back via Google Translate, and here's what you'll get: \n",
    "\n",
    "> **she** cooks.\n",
    "> **he** is a political leader.\n",
    "> **he** is an engineer.\n",
    "> **she** is cleaning.\n",
    "> **she** is beautiful.\n",
    "> **he** is strong.\n",
    "\n",
    "Considering that English *has* a gender neutral pronoun (*they*), this would be an easy item to fix, which Google has thus far declined to do. \n",
    "\n",
    "### 3. Historical Racial and Gender Biases\n",
    "\n",
    "Google Search has a striking history of bias against Black people, especially Black women. This bias was made widely public by UCLA professor Safiya Noble in her book *Algorithms of Oppression*. In one of Dr. Nobel's most famous examples, top results for the phrase \"black girls\" in 2011 consisted of links to porn sites, which did not hold true of searches for \"white girls\" or \"black men.\" As late as 2016, an image search for \"gorillas\" would surface pictures of Black individuals. You can find a brief synopsis of some of Dr. Noble's findings [here](https://time.com/5209144/google-search-engine-algorithm-bias-racism/) (content warning: highly sexually explicit language).  Google has since taken steps to improve these specific examples. "
   ]
  },
  {
   "cell_type": "markdown",
   "id": "manufactured-reproduction",
   "metadata": {},
   "source": [
    "Keeping these items in mind, let's now begin our study of machine learning via Tensorflow. \n",
    "\n",
    "## Tensors\n",
    "\n",
    "So, uh, what's a tensor? As you may remember from Riemannian geometry, a prerequisite for this class, \n",
    "\n",
    "> An $s$-contravariant and $t$-covariant *tensor* $\\sigma$ on a vector space $V$ is a multilinear map $\\sigma: \\left(V^*\\right)^s \\times V^t \\rightarrow \\mathbb{R}$, where $V^*$ denotes the space of linear functions on $V$...  \n",
    "\n",
    "<br> <br>\n",
    "\n",
    "Just kidding! A tensor is pretty much just a Numpy array. \n",
    "\n",
    "<figure class=\"image\" style=\"width:40%\">\n",
    "  <img src=\"https://raw.githubusercontent.com/PhilChodrow/PIC16B/master/_images/tensor.jpeg\" alt=\"\">\n",
    "  <figcaption><i></i></figcaption>\n",
    "</figure>\n",
    "\n",
    "Here's another one in case that one didn't sink in: \n",
    "\n",
    "<figure class=\"image\" style=\"width:40%\">\n",
    "  <img src=\"https://raw.githubusercontent.com/PhilChodrow/PIC16B/master/_images/tensor-2.jpeg\" alt=\"\">\n",
    "  <figcaption><i></i></figcaption>\n",
    "</figure>\n",
    "\n",
    "Most of the time, we'll work with 2-dimensional tensors (matrices), with the occasional 3-dimensional tensor thrown in for spice. "
   ]
  },
  {
   "cell_type": "markdown",
   "id": "assisted-style",
   "metadata": {},
   "source": [
    "## Structure of Neural Networks\n",
    "\n",
    "Before we start working with TensorFlow, I'd like to build up our understanding of what a neural network actually does to data. We'll see that neural networks are built up of very simple mathematical transformations, which are then stacked on top of each other to produce complex models. \n",
    "\n",
    "Suppose I have a data point $x$, with 5 features (columns): "
   ]
  },
  {
   "cell_type": "code",
   "execution_count": 1,
   "id": "identified-simple",
   "metadata": {},
   "outputs": [
    {
     "data": {
      "text/plain": [
       "array([0.20921548, 0.77955091, 0.3950245 , 0.8514097 , 0.63075376])"
      ]
     },
     "execution_count": 1,
     "metadata": {},
     "output_type": "execute_result"
    }
   ],
   "source": [
    "import numpy as np\n",
    "x = np.random.rand(5)\n",
    "x"
   ]
  },
  {
   "cell_type": "markdown",
   "id": "natural-carbon",
   "metadata": {},
   "source": [
    "A single *unit* of a neural network has two stages: \n",
    "\n",
    "1. The unit takes the entries of $x$, multiplies them by some *weights*, and adds them together, forming the linear combination $y = \\sum_i w_i x_i$. This number $y$ is often called the *activation*. \n",
    "2. Second, the unit hits $y$ with a non-linear function, producing a new output $z$: $z = g(y)$. \n",
    "\n",
    "A common nonlinear function is the sigmoid (same function as used in logistic regression): "
   ]
  },
  {
   "cell_type": "code",
   "execution_count": 3,
   "id": "labeled-plant",
   "metadata": {},
   "outputs": [
    {
     "data": {
      "text/plain": [
       "[<matplotlib.lines.Line2D at 0x7fe02084d518>]"
      ]
     },
     "execution_count": 3,
     "metadata": {},
     "output_type": "execute_result"
    },
    {
     "data": {
      "image/png": "[encoded data removed]",
      "text/plain": [
       "<Figure size 432x288 with 1 Axes>"
      ]
     },
     "metadata": {
      "needs_background": "light"
     },
     "output_type": "display_data"
    }
   ],
   "source": [
    "from matplotlib import pyplot as plt\n",
    "sigmoid = lambda x: 1 / (1 + np.exp(-x))\n",
    "x_space = np.linspace(-10, 10)\n",
    "plt.plot(x_space, sigmoid(x_space))"
   ]
  },
  {
   "cell_type": "markdown",
   "id": "atomic-management",
   "metadata": {},
   "source": [
    "So, given a weight vector $w$, we can easily compute the layer output  for $x$, remembering that `w @ x` will calculate the inner product for us. "
   ]
  },
  {
   "cell_type": "code",
   "execution_count": 5,
   "id": "ancient-schema",
   "metadata": {},
   "outputs": [
    {
     "data": {
      "text/plain": [
       "0.8257395998991818"
      ]
     },
     "execution_count": 5,
     "metadata": {},
     "output_type": "execute_result"
    }
   ],
   "source": [
    "w = np.random.rand(5)\n",
    "z = sigmoid(w@x)\n",
    "z"
   ]
  },
  {
   "cell_type": "markdown",
   "id": "seven-council",
   "metadata": {},
   "source": [
    "In practice, we perform this computation using many data points and many units simultaneously. In this case, we can represent the data points as an $m \\times n$ matrix $\\mathbf{X}$, where $m$ is the number of data points and $n$ is the number of columns. We can represent the matrix of weights as an $p \\times n$ matrix $\\mathbf{W}$, where $p$ is the number of units in the layer. We can then compute all the activations simultaneously by computing the matrix product $\\mathbf{Y} = \\mathbf{W} \\mathbf{X}^T$. \n",
    "\n",
    "Here's a nice picture from the [website of Jeremy Jordan](https://www.jeremyjordan.me/intro-to-neural-networks/) to visualize what's going on. In this diagram, `a` is the activation (what I've been calling $y$). \n",
    "\n",
    "![](https://www.jeremyjordan.me/content/images/2018/01/Screen-Shot-2017-11-07-at-12.53.07-PM.png)\n",
    "\n",
    "We can then hit $\\mathbf{Y}$ with the sigmoid function (entrywise) to form the output $\\mathbf{Z}$. "
   ]
  },
  {
   "cell_type": "code",
   "execution_count": 7,
   "id": "earned-little",
   "metadata": {},
   "outputs": [
    {
     "data": {
      "text/plain": [
       "<matplotlib.image.AxesImage at 0x7fe0209f3630>"
      ]
     },
     "execution_count": 7,
     "metadata": {},
     "output_type": "execute_result"
    },
    {
     "data": {
      "image/png": "[encoded data removed]",
      "text/plain": [
       "<Figure size 432x288 with 1 Axes>"
      ]
     },
     "metadata": {
      "needs_background": "light"
     },
     "output_type": "display_data"
    }
   ],
   "source": [
    "m = 100\n",
    "n = 5\n",
    "\n",
    "p = 10\n",
    "\n",
    "X = np.random.rand(m, n)\n",
    "\n",
    "W = 1/p * np.random.rand(p, n)\n",
    "\n",
    "new_X = sigmoid(W @ X.T)\n",
    "\n",
    "plt.imshow(new_X)"
   ]
  },
  {
   "cell_type": "markdown",
   "id": "champion-rings",
   "metadata": {},
   "source": [
    "Here's the thing: we now have a *new* matrix, that I'll call $\\mathbf{X}_1$, of size $p \\times m$. We can now plug that into a NEW layer, getting a new matrix $\\mathbf{X}_2$. We can plug THAT into a new layer, etc. By composing all these operations, we get a single, multistage function. **This is a deep neural network.** At the end of the pipeline, we should make sure we have an output that corresponds to the task we want to perform. For example, if we want to do binary classification (classification between two categories), we our weights to look something like this: "
   ]
  },
  {
   "cell_type": "code",
   "execution_count": null,
   "id": "prospective-geology",
   "metadata": {},
   "outputs": [],
   "source": []
  },
  {
   "cell_type": "markdown",
   "id": "insured-dover",
   "metadata": {},
   "source": [
    "The dimension of size 2 holds numbers describing the model's confidence in each of the two categories. At the moment, of course, we haven't done anything like fitting our model to data, so these predictions aren't meaningful (yet).\n",
    "\n",
    "Note that, while we don't have any control over the data $\\mathbf{X}$, we are free to choose the weights $\\mathbf{W}$ however we please. Traiing a neural network corresponds to the task of choosing these weights in such a way as to appropriately match the data. \n",
    "\n",
    "In summary, at the core of neural networks are the operations of (a) matrix multiplication and (b) simple, nonlinear functions. These are stacked on top of each other (composed) to produce sophisticated models. Naturally, we are not going to do all our bookkeeping of weights and dimensions and whatnot by hand. Managing this bookkeeping is precisely what TensorFlow is for. "
   ]
  },
  {
   "cell_type": "markdown",
   "id": "popular-sensitivity",
   "metadata": {},
   "source": [
    "## TensorFlow Basics"
   ]
  },
  {
   "cell_type": "code",
   "execution_count": 8,
   "id": "worldwide-universe",
   "metadata": {},
   "outputs": [],
   "source": [
    "import tensorflow as tf"
   ]
  },
  {
   "cell_type": "markdown",
   "id": "third-association",
   "metadata": {},
   "source": [
    "We can create a simple, \"constant\" tensor using `tf.constant`: "
   ]
  },
  {
   "cell_type": "code",
   "execution_count": 11,
   "id": "miniature-outdoors",
   "metadata": {},
   "outputs": [
    {
     "data": {
      "text/plain": [
       "<tf.Tensor: shape=(3,), dtype=int32, numpy=array([1, 2, 3], dtype=int32)>"
      ]
     },
     "execution_count": 11,
     "metadata": {},
     "output_type": "execute_result"
    }
   ],
   "source": [
    "s = tf.constant([1, 2, 3])\n",
    "s"
   ]
  },
  {
   "cell_type": "markdown",
   "id": "danish-gathering",
   "metadata": {},
   "source": [
    "As you can see from the output, this object has a `shape`, a `dtype`, and even an internal `numpy` representation -- it really is a lot like a `numpy` array! Like `numpy` arrays, we can do various mathematical operations: "
   ]
  },
  {
   "cell_type": "code",
   "execution_count": 12,
   "id": "buried-affiliate",
   "metadata": {},
   "outputs": [
    {
     "data": {
      "text/plain": [
       "<tf.Tensor: shape=(3,), dtype=int32, numpy=array([2, 4, 6], dtype=int32)>"
      ]
     },
     "execution_count": 12,
     "metadata": {},
     "output_type": "execute_result"
    }
   ],
   "source": [
    "2*s"
   ]
  },
  {
   "cell_type": "code",
   "execution_count": 13,
   "id": "about-curve",
   "metadata": {},
   "outputs": [
    {
     "data": {
      "text/plain": [
       "<tf.Tensor: shape=(3,), dtype=int32, numpy=array([4, 4, 4], dtype=int32)>"
      ]
     },
     "execution_count": 13,
     "metadata": {},
     "output_type": "execute_result"
    }
   ],
   "source": [
    "t = tf.constant([3, 2, 1])\n",
    "s + t"
   ]
  },
  {
   "cell_type": "markdown",
   "id": "opponent-findings",
   "metadata": {},
   "source": [
    "There *is* a reason that we use `tf.Tensor` rather than Numpy array objects. One of the primary reasons is that the tensor data type is set up to support *automatic differentiation*, which is important when it comes time to train our models. That said, it's sometimes useful to convert back to literal Numpy arrays, which can usually be done like this: "
   ]
  },
  {
   "cell_type": "code",
   "execution_count": null,
   "id": "retained-guyana",
   "metadata": {},
   "outputs": [],
   "source": []
  },
  {
   "cell_type": "markdown",
   "id": "structural-alliance",
   "metadata": {},
   "source": [
    "Really, they could have called the whole thing ArrayFlow or RectanglesOfNumbersFlow, but those don't really say \"I am a very smart person\" in quite the same way. \n",
    "\n",
    "### Dtypes\n",
    "\n",
    "Because computation on 64-bit floating point numbers can be quite expensive at scale, most operations in TensorFlow prefer that you supply floating point numbers with data type `float32`. For example: "
   ]
  },
  {
   "cell_type": "code",
   "execution_count": 14,
   "id": "amateur-wednesday",
   "metadata": {},
   "outputs": [
    {
     "data": {
      "text/plain": [
       "<tf.Tensor: shape=(3,), dtype=float32, numpy=array([1.2, 3.3, 5.6], dtype=float32)>"
      ]
     },
     "execution_count": 14,
     "metadata": {},
     "output_type": "execute_result"
    }
   ],
   "source": [
    "tf.constant([1.2, 3.3, 5.6], dtype = np.float32)"
   ]
  },
  {
   "cell_type": "markdown",
   "id": "appreciated-robertson",
   "metadata": {},
   "source": [
    "Supplying `float64` data types will usually lead to annoying warning messages, and possibly slower performance. \n",
    "\n",
    "While it's good to know what tensors are and how they work, we usually won't need to construct them explicitly. Rather, we'll be able to feed Numpy arrays to our models, which will handle all the tensor operations internally. "
   ]
  },
  {
   "cell_type": "markdown",
   "id": "consolidated-pasta",
   "metadata": {},
   "source": [
    "## Layers\n",
    "\n",
    "*Layers* are the building blocks of models. You can think of a layer as a function that takes in one tensor and spits out another tensor, possibly of a different shape. Many layers have requirements on the kinds of tensors they admit; for example, they might only work on 2d tensors.\n",
    "\n",
    "In this course, we'll always work with layers via the high-level Keras API, which allows us to easily create and combine layers. "
   ]
  },
  {
   "cell_type": "code",
   "execution_count": 15,
   "id": "swedish-teens",
   "metadata": {},
   "outputs": [],
   "source": [
    "from tensorflow.keras import layers"
   ]
  },
  {
   "cell_type": "code",
   "execution_count": 16,
   "id": "loaded-likelihood",
   "metadata": {},
   "outputs": [
    {
     "name": "stdout",
     "output_type": "stream",
     "text": [
      "[[0.90277883 0.029249   0.23844689]\n",
      " [0.46653147 0.34415082 0.0747876 ]\n",
      " [0.66135498 0.06867217 0.67624368]\n",
      " [0.87280978 0.68478903 0.39328166]\n",
      " [0.76196708 0.90439329 0.84980729]\n",
      " [0.58988205 0.47946138 0.60021773]\n",
      " [0.3792899  0.94779034 0.39881896]\n",
      " [0.49934859 0.61067091 0.30849928]\n",
      " [0.57369295 0.64743517 0.29416103]\n",
      " [0.12357273 0.77150709 0.34239479]]\n"
     ]
    }
   ],
   "source": [
    "data = np.random.rand(10, 3)\n",
    "print(data)"
   ]
  },
  {
   "cell_type": "code",
   "execution_count": 17,
   "id": "possible-service",
   "metadata": {},
   "outputs": [
    {
     "data": {
      "text/plain": [
       "<tf.Tensor: shape=(10, 3), dtype=float32, numpy=\n",
       "array([[0.9027788 , 0.029249  , 0.23844689],\n",
       "       [0.46653146, 0.3441508 , 0.0747876 ],\n",
       "       [0.66135496, 0.06867217, 0.67624366],\n",
       "       [0.87280977, 0.684789  , 0.39328167],\n",
       "       [0.76196706, 0.9043933 , 0.8498073 ],\n",
       "       [0.5898821 , 0.47946137, 0.60021776],\n",
       "       [0.3792899 , 0.9477903 , 0.39881897],\n",
       "       [0.49934858, 0.6106709 , 0.30849928],\n",
       "       [0.5736929 , 0.6474352 , 0.29416102],\n",
       "       [0.12357274, 0.7715071 , 0.3423948 ]], dtype=float32)>"
      ]
     },
     "execution_count": 17,
     "metadata": {},
     "output_type": "execute_result"
    }
   ],
   "source": [
    "data = tf.constant(data, dtype = np.float32)\n",
    "data"
   ]
  },
  {
   "cell_type": "markdown",
   "id": "catholic-ticket",
   "metadata": {},
   "source": [
    "Now we can create a layer. Note that we first have to *make* the layer before we *call* the layer on any data. The `Dense` layer is the simplest and among the most generally useful kinds of layers, and corresponds fairly directly to the computations that we described \"by hand\" above. "
   ]
  },
  {
   "cell_type": "code",
   "execution_count": 18,
   "id": "combined-victorian",
   "metadata": {},
   "outputs": [
    {
     "data": {
      "text/plain": [
       "<tf.Tensor: shape=(10, 2), dtype=float32, numpy=\n",
       "array([[ 0.8902231 , -0.4079327 ],\n",
       "       [ 0.62732905, -0.01393647],\n",
       "       [ 0.97092366, -0.3811211 ],\n",
       "       [ 1.3447977 , -0.05796974],\n",
       "       [ 1.6495959 ,  0.01290926],\n",
       "       [ 1.1125954 , -0.10244821],\n",
       "       [ 1.1025518 ,  0.2934936 ],\n",
       "       [ 0.94774055,  0.07264824],\n",
       "       [ 1.0217568 ,  0.06589708],\n",
       "       [ 0.7570885 ,  0.31148365]], dtype=float32)>"
      ]
     },
     "execution_count": 18,
     "metadata": {},
     "output_type": "execute_result"
    }
   ],
   "source": [
    "first_layer = layers.Dense(units = 2)\n",
    "first_layer(data)"
   ]
  },
  {
   "cell_type": "markdown",
   "id": "promising-navigation",
   "metadata": {},
   "source": [
    "The `units` argument controls the shape of the output. The `Dense` layer interprets an `m` $\\times$ `n` tensor as a set of data points with `m` rows and `n` columns (or features). It outputs a new tensor with `m` rows and `units` columns. So, you can think of `units` as controlling the number of *hidden features* learned by this layer. \n",
    "\n",
    "What's the deal with the actual outputs? Well, as we saw above, this layer has parameters (*weights*) which control how these numbers are calculated. Because we haven't done any model training, these weights are pretty much random, so the output is random as well. We'll look at training the model in the next section. "
   ]
  },
  {
   "cell_type": "markdown",
   "id": "swiss-justice",
   "metadata": {},
   "source": [
    "## Models\n",
    "\n",
    "A model consists of: \n",
    "\n",
    "- A sequence of layers. The final layer is an *output* layer, and plays a major role in determining what \"kind\" of model we have (e.g. regression vs. classification). \n",
    "- Specs for how the model should be fit to data. The most important choice to make here is the *loss function*, which governs how, mathematically, the model will be judged on its performance.\n",
    "\n",
    "Let's download some real data, create a model, and evaluate its performance. "
   ]
  },
  {
   "cell_type": "code",
   "execution_count": 19,
   "id": "noble-northern",
   "metadata": {},
   "outputs": [],
   "source": [
    "import pandas as pd\n",
    "from sklearn.preprocessing import LabelEncoder\n",
    "from sklearn.model_selection import train_test_split\n",
    "\n",
    "# #BestData\n",
    "url = \"https://philchodrow.github.io/PIC16A/datasets/palmer_penguins.csv\"\n",
    "penguins = pd.read_csv(url)\n",
    "\n",
    "# only use these columns\n",
    "df = penguins[[\"Culmen Length (mm)\", \"Culmen Depth (mm)\", \"Flipper Length (mm)\",  \"Species\"]]\n",
    "df = df.dropna()\n",
    "\n",
    "# categorically encode the \"Species\" column\n",
    "le = LabelEncoder()\n",
    "y = le.fit_transform(df[\"Species\"])\n",
    "\n",
    "# predictor data\n",
    "X = df[[\"Culmen Length (mm)\", \"Culmen Depth (mm)\", \"Flipper Length (mm)\"]]\n",
    "\n",
    "# convert to numpy array\n",
    "X = np.array(X, dtype = np.float32)\n",
    "\n",
    "# train-test split\n",
    "X_train, X_test, y_train, y_test = train_test_split(X, y, test_size = 0.3)"
   ]
  },
  {
   "cell_type": "code",
   "execution_count": 20,
   "id": "little-privilege",
   "metadata": {},
   "outputs": [
    {
     "data": {
      "text/plain": [
       "array([[ 50.4,  15.7, 222. ],\n",
       "       [ 45.4,  14.6, 211. ],\n",
       "       [ 49.8,  15.9, 229. ],\n",
       "       [ 47.5,  14. , 212. ],\n",
       "       [ 36.5,  16.6, 181. ]], dtype=float32)"
      ]
     },
     "execution_count": 20,
     "metadata": {},
     "output_type": "execute_result"
    }
   ],
   "source": []
  },
  {
   "cell_type": "code",
   "execution_count": 21,
   "id": "dietary-raleigh",
   "metadata": {},
   "outputs": [
    {
     "data": {
      "text/plain": [
       "array([2, 2, 2, 2, 0])"
      ]
     },
     "execution_count": 21,
     "metadata": {},
     "output_type": "execute_result"
    }
   ],
   "source": []
  },
  {
   "cell_type": "markdown",
   "id": "aggregate-radio",
   "metadata": {},
   "source": [
    "The simplest way to make a model is by using the `tf.keras.models.Sequential` API, which allows you to construct a model by simply passing a list of layers. Let's do two \"hidden\" layers of 500 units each, and then an output layer of 3 units (corresponding to 3 penguin species). If you've used the [multilayer perceptron algorithm](https://scikit-learn.org/stable/modules/generated/sklearn.neural_network.MLPClassifier.html) from `scikit-learn` before, the model below is essentially a multilayer perceptron with parameter `hidden_layer_sizes = (500, 500)`. \n",
    "\n",
    "Specifying the `input_shape` in the first layer is not actually necessary unless you want to see the `summary` below. Otherwise, the shape will be inferred the first time you fit the model. "
   ]
  },
  {
   "cell_type": "code",
   "execution_count": 22,
   "id": "indirect-decline",
   "metadata": {},
   "outputs": [],
   "source": []
  },
  {
   "cell_type": "markdown",
   "id": "flexible-mills",
   "metadata": {},
   "source": [
    "This `input_shape` specifies that there are an undetermined number of rows and 3 columns in the input data. \n",
    "\n",
    "The reason we've chosen the final layer to output 3 features is that there are 3 species in the data. \n",
    "\n",
    "The `model.summary()` is a nice way to get an overview of how your model operates. "
   ]
  },
  {
   "cell_type": "code",
   "execution_count": null,
   "id": "specialized-anime",
   "metadata": {},
   "outputs": [],
   "source": []
  },
  {
   "cell_type": "markdown",
   "id": "aquatic-crisis",
   "metadata": {},
   "source": [
    "Wow -- 250K parameters in this model! Large numbers of parameters allow your model to learn more complex relationships in your data, but also take longer to train and can lead to overfitting. Checking your model summary is usually a good idea, as it can help you get a feeling for the training time required for your model. "
   ]
  },
  {
   "cell_type": "markdown",
   "id": "innovative-peeing",
   "metadata": {},
   "source": [
    "Let's make some \"predictions\":"
   ]
  },
  {
   "cell_type": "code",
   "execution_count": null,
   "id": "celtic-staff",
   "metadata": {},
   "outputs": [],
   "source": []
  },
  {
   "cell_type": "markdown",
   "id": "distant-script",
   "metadata": {},
   "source": [
    "These are predictions for the first 5 rows of the data set. Each row is a specific penguin, and each column is one of the three species. The number in the column is related to the model's guess about the species. To convert these into probabilities, we use the `Softmax` layer: "
   ]
  },
  {
   "cell_type": "code",
   "execution_count": null,
   "id": "tropical-direction",
   "metadata": {},
   "outputs": [],
   "source": []
  },
  {
   "cell_type": "markdown",
   "id": "connected-exhaust",
   "metadata": {},
   "source": [
    "The model hasn't been trained yet, so these \"predictions\" don't really mean anything. "
   ]
  },
  {
   "cell_type": "markdown",
   "id": "copyrighted-journey",
   "metadata": {},
   "source": [
    "### Model Training\n",
    "\n",
    "Training has two stages. First we *compile* the model, by specifying the loss function and optimization algorithm. Then, we perform the actual training. The choice of loss function is highly dependent on your problem domain. For classification problems, categorical cross-entropy is a good one.  Finally, the `metrics` argument is helpful for controlling which model performance measures are shown when training or evaluating the model. "
   ]
  },
  {
   "cell_type": "code",
   "execution_count": 24,
   "id": "herbal-replacement",
   "metadata": {},
   "outputs": [],
   "source": []
  },
  {
   "cell_type": "markdown",
   "id": "vocational-coaching",
   "metadata": {},
   "source": [
    "Finally ready for training! "
   ]
  },
  {
   "cell_type": "code",
   "execution_count": 25,
   "id": "exclusive-afghanistan",
   "metadata": {},
   "outputs": [
    {
     "name": "stdout",
     "output_type": "stream",
     "text": [
      "Epoch 1/100\n",
      "WARNING:tensorflow:Model was constructed with shape (None, None, 3) for input KerasTensor(type_spec=TensorSpec(shape=(None, None, 3), dtype=tf.float32, name='dense_1_input'), name='dense_1_input', description=\"created by layer 'dense_1_input'\"), but it was called on an input with incompatible shape (None, 3).\n",
      "WARNING:tensorflow:Model was constructed with shape (None, None, 3) for input KerasTensor(type_spec=TensorSpec(shape=(None, None, 3), dtype=tf.float32, name='dense_1_input'), name='dense_1_input', description=\"created by layer 'dense_1_input'\"), but it was called on an input with incompatible shape (None, 3).\n",
      "8/8 [==============================] - 1s 5ms/step - loss: 59.0526 - accuracy: 0.3249\n",
      "Epoch 2/100\n",
      "8/8 [==============================] - 0s 50ms/step - loss: 44.4565 - accuracy: 0.3888\n",
      "Epoch 3/100\n",
      "8/8 [==============================] - 0s 6ms/step - loss: 30.3085 - accuracy: 0.4000\n",
      "Epoch 4/100\n",
      "8/8 [==============================] - 0s 4ms/step - loss: 14.4851 - accuracy: 0.3556\n",
      "Epoch 5/100\n",
      "8/8 [==============================] - 0s 5ms/step - loss: 14.6786 - accuracy: 0.4073\n",
      "Epoch 6/100\n",
      "8/8 [==============================] - 0s 11ms/step - loss: 6.1500 - accuracy: 0.5090\n",
      "Epoch 7/100\n",
      "8/8 [==============================] - 0s 11ms/step - loss: 1.6459 - accuracy: 0.6252\n",
      "Epoch 8/100\n",
      "8/8 [==============================] - 0s 11ms/step - loss: 1.3343 - accuracy: 0.6931\n",
      "Epoch 9/100\n",
      "8/8 [==============================] - 0s 6ms/step - loss: 1.0502 - accuracy: 0.7167\n",
      "Epoch 10/100\n",
      "8/8 [==============================] - 0s 9ms/step - loss: 0.3057 - accuracy: 0.8824\n",
      "Epoch 11/100\n",
      "8/8 [==============================] - 0s 11ms/step - loss: 0.1938 - accuracy: 0.9294\n",
      "Epoch 12/100\n",
      "8/8 [==============================] - 0s 7ms/step - loss: 0.0938 - accuracy: 0.9679\n",
      "Epoch 13/100\n",
      "8/8 [==============================] - 0s 6ms/step - loss: 0.0972 - accuracy: 0.9679\n",
      "Epoch 14/100\n",
      "8/8 [==============================] - 0s 7ms/step - loss: 0.0802 - accuracy: 0.9755\n",
      "Epoch 15/100\n",
      "8/8 [==============================] - 0s 6ms/step - loss: 0.2027 - accuracy: 0.9443\n",
      "Epoch 16/100\n",
      "8/8 [==============================] - 0s 7ms/step - loss: 0.1191 - accuracy: 0.9648\n",
      "Epoch 17/100\n",
      "8/8 [==============================] - 0s 14ms/step - loss: 0.1617 - accuracy: 0.9399\n",
      "Epoch 18/100\n",
      "8/8 [==============================] - 0s 13ms/step - loss: 0.2514 - accuracy: 0.9392\n",
      "Epoch 19/100\n",
      "8/8 [==============================] - ETA: 0s - loss: 0.2209 - accuracy: 0.93 - 0s 12ms/step - loss: 0.2170 - accuracy: 0.9397\n",
      "Epoch 20/100\n",
      "8/8 [==============================] - 0s 7ms/step - loss: 0.1346 - accuracy: 0.9621\n",
      "Epoch 21/100\n",
      "8/8 [==============================] - 0s 7ms/step - loss: 0.1562 - accuracy: 0.9401\n",
      "Epoch 22/100\n",
      "8/8 [==============================] - 0s 6ms/step - loss: 0.0729 - accuracy: 0.9776\n",
      "Epoch 23/100\n",
      "8/8 [==============================] - 0s 9ms/step - loss: 0.0663 - accuracy: 0.9798\n",
      "Epoch 24/100\n",
      "8/8 [==============================] - 0s 12ms/step - loss: 0.2182 - accuracy: 0.9415\n",
      "Epoch 25/100\n",
      "8/8 [==============================] - 0s 6ms/step - loss: 0.1743 - accuracy: 0.9459\n",
      "Epoch 26/100\n",
      "8/8 [==============================] - 0s 7ms/step - loss: 0.4412 - accuracy: 0.8716\n",
      "Epoch 27/100\n",
      "8/8 [==============================] - 0s 6ms/step - loss: 0.8287 - accuracy: 0.8207\n",
      "Epoch 28/100\n",
      "8/8 [==============================] - 0s 7ms/step - loss: 0.9926 - accuracy: 0.7976\n",
      "Epoch 29/100\n",
      "8/8 [==============================] - 0s 7ms/step - loss: 0.7540 - accuracy: 0.8400\n",
      "Epoch 30/100\n",
      "8/8 [==============================] - 0s 10ms/step - loss: 0.5638 - accuracy: 0.9181\n",
      "Epoch 31/100\n",
      "8/8 [==============================] - 0s 6ms/step - loss: 0.9795 - accuracy: 0.8374\n",
      "Epoch 32/100\n",
      "8/8 [==============================] - 0s 5ms/step - loss: 4.7765 - accuracy: 0.6053\n",
      "Epoch 33/100\n",
      "8/8 [==============================] - 0s 7ms/step - loss: 1.6342 - accuracy: 0.7567\n",
      "Epoch 34/100\n",
      "8/8 [==============================] - 0s 5ms/step - loss: 0.2606 - accuracy: 0.9391\n",
      "Epoch 35/100\n",
      "8/8 [==============================] - 0s 6ms/step - loss: 0.3700 - accuracy: 0.9153\n",
      "Epoch 36/100\n",
      "8/8 [==============================] - 0s 6ms/step - loss: 0.1156 - accuracy: 0.9521\n",
      "Epoch 37/100\n",
      "8/8 [==============================] - 0s 11ms/step - loss: 0.1362 - accuracy: 0.9392\n",
      "Epoch 38/100\n",
      "8/8 [==============================] - 0s 8ms/step - loss: 0.0507 - accuracy: 0.9836\n",
      "Epoch 39/100\n",
      "8/8 [==============================] - 0s 5ms/step - loss: 0.0800 - accuracy: 0.9807\n",
      "Epoch 40/100\n",
      "8/8 [==============================] - 0s 8ms/step - loss: 0.0502 - accuracy: 0.9774\n",
      "Epoch 41/100\n",
      "8/8 [==============================] - 0s 6ms/step - loss: 0.2568 - accuracy: 0.9324\n",
      "Epoch 42/100\n",
      "8/8 [==============================] - 0s 6ms/step - loss: 0.5289 - accuracy: 0.9176\n",
      "Epoch 43/100\n",
      "8/8 [==============================] - 0s 5ms/step - loss: 0.1501 - accuracy: 0.9770\n",
      "Epoch 44/100\n",
      "8/8 [==============================] - 0s 8ms/step - loss: 0.2790 - accuracy: 0.9315\n",
      "Epoch 45/100\n",
      "8/8 [==============================] - 0s 6ms/step - loss: 0.1881 - accuracy: 0.9487\n",
      "Epoch 46/100\n",
      "8/8 [==============================] - 0s 7ms/step - loss: 0.1446 - accuracy: 0.9602\n",
      "Epoch 47/100\n",
      "8/8 [==============================] - 0s 6ms/step - loss: 0.2055 - accuracy: 0.9584\n",
      "Epoch 48/100\n",
      "8/8 [==============================] - 0s 6ms/step - loss: 0.1481 - accuracy: 0.9769\n",
      "Epoch 49/100\n",
      "8/8 [==============================] - 0s 7ms/step - loss: 0.0472 - accuracy: 0.9937\n",
      "Epoch 50/100\n",
      "8/8 [==============================] - 0s 8ms/step - loss: 0.0960 - accuracy: 0.9807\n",
      "Epoch 51/100\n",
      "8/8 [==============================] - 0s 11ms/step - loss: 0.1644 - accuracy: 0.9504\n",
      "Epoch 52/100\n",
      "8/8 [==============================] - 0s 6ms/step - loss: 0.3452 - accuracy: 0.9377\n",
      "Epoch 53/100\n",
      "8/8 [==============================] - 0s 9ms/step - loss: 0.6798 - accuracy: 0.9076\n",
      "Epoch 54/100\n",
      "8/8 [==============================] - 0s 7ms/step - loss: 0.6967 - accuracy: 0.8666\n",
      "Epoch 55/100\n",
      "8/8 [==============================] - 0s 8ms/step - loss: 0.8350 - accuracy: 0.8291\n",
      "Epoch 56/100\n",
      "8/8 [==============================] - 0s 14ms/step - loss: 0.6180 - accuracy: 0.8844\n",
      "Epoch 57/100\n",
      "8/8 [==============================] - 0s 12ms/step - loss: 0.2725 - accuracy: 0.9567\n",
      "Epoch 58/100\n",
      "8/8 [==============================] - 0s 8ms/step - loss: 0.3016 - accuracy: 0.9417\n",
      "Epoch 59/100\n",
      "8/8 [==============================] - 0s 7ms/step - loss: 0.2274 - accuracy: 0.9248\n",
      "Epoch 60/100\n",
      "8/8 [==============================] - 0s 7ms/step - loss: 0.2187 - accuracy: 0.9514\n",
      "Epoch 61/100\n",
      "8/8 [==============================] - 0s 6ms/step - loss: 0.4459 - accuracy: 0.9069\n",
      "Epoch 62/100\n",
      "8/8 [==============================] - 0s 9ms/step - loss: 0.2935 - accuracy: 0.9142\n",
      "Epoch 63/100\n",
      "8/8 [==============================] - 0s 8ms/step - loss: 0.8548 - accuracy: 0.8701\n",
      "Epoch 64/100\n",
      "8/8 [==============================] - 0s 7ms/step - loss: 1.3662 - accuracy: 0.8301\n",
      "Epoch 65/100\n",
      "8/8 [==============================] - 0s 9ms/step - loss: 0.6110 - accuracy: 0.8876\n",
      "Epoch 66/100\n",
      "8/8 [==============================] - 0s 9ms/step - loss: 0.4706 - accuracy: 0.9168\n",
      "Epoch 67/100\n",
      "8/8 [==============================] - 0s 10ms/step - loss: 0.1079 - accuracy: 0.9647\n",
      "Epoch 68/100\n",
      "8/8 [==============================] - 0s 10ms/step - loss: 0.0888 - accuracy: 0.9647\n",
      "Epoch 69/100\n",
      "8/8 [==============================] - 0s 7ms/step - loss: 0.9941 - accuracy: 0.8615\n",
      "Epoch 70/100\n",
      "8/8 [==============================] - 0s 7ms/step - loss: 1.3706 - accuracy: 0.8585\n",
      "Epoch 71/100\n",
      "8/8 [==============================] - 0s 10ms/step - loss: 0.6530 - accuracy: 0.9013\n",
      "Epoch 72/100\n",
      "8/8 [==============================] - 0s 10ms/step - loss: 0.2609 - accuracy: 0.9285\n",
      "Epoch 73/100\n",
      "8/8 [==============================] - 0s 6ms/step - loss: 0.0724 - accuracy: 0.9863\n",
      "Epoch 74/100\n",
      "8/8 [==============================] - 0s 8ms/step - loss: 0.0371 - accuracy: 0.9914\n",
      "Epoch 75/100\n",
      "8/8 [==============================] - 0s 7ms/step - loss: 0.1644 - accuracy: 0.9514\n",
      "Epoch 76/100\n",
      "8/8 [==============================] - 0s 7ms/step - loss: 0.2674 - accuracy: 0.9576\n",
      "Epoch 77/100\n",
      "8/8 [==============================] - 0s 7ms/step - loss: 0.2604 - accuracy: 0.9459\n",
      "Epoch 78/100\n",
      "8/8 [==============================] - 0s 8ms/step - loss: 0.0771 - accuracy: 0.9762\n",
      "Epoch 79/100\n",
      "8/8 [==============================] - ETA: 0s - loss: 0.0554 - accuracy: 0.97 - 0s 8ms/step - loss: 0.0572 - accuracy: 0.9759\n",
      "Epoch 80/100\n",
      "8/8 [==============================] - 0s 12ms/step - loss: 0.1716 - accuracy: 0.9605\n",
      "Epoch 81/100\n",
      "8/8 [==============================] - 0s 9ms/step - loss: 0.1891 - accuracy: 0.9546\n",
      "Epoch 82/100\n",
      "8/8 [==============================] - 0s 9ms/step - loss: 0.6591 - accuracy: 0.9131\n",
      "Epoch 83/100\n",
      "8/8 [==============================] - 0s 9ms/step - loss: 0.3289 - accuracy: 0.9250\n",
      "Epoch 84/100\n",
      "8/8 [==============================] - 0s 8ms/step - loss: 0.3005 - accuracy: 0.9337\n",
      "Epoch 85/100\n",
      "8/8 [==============================] - 0s 7ms/step - loss: 0.2144 - accuracy: 0.9623\n",
      "Epoch 86/100\n",
      "8/8 [==============================] - 0s 7ms/step - loss: 0.2640 - accuracy: 0.9615\n",
      "Epoch 87/100\n",
      "8/8 [==============================] - 0s 7ms/step - loss: 0.1576 - accuracy: 0.9693\n",
      "Epoch 88/100\n",
      "8/8 [==============================] - 0s 6ms/step - loss: 0.0381 - accuracy: 0.9912\n",
      "Epoch 89/100\n",
      "8/8 [==============================] - 0s 6ms/step - loss: 0.0741 - accuracy: 0.9753\n",
      "Epoch 90/100\n",
      "8/8 [==============================] - 0s 6ms/step - loss: 0.0733 - accuracy: 0.9765\n",
      "Epoch 91/100\n",
      "8/8 [==============================] - 0s 5ms/step - loss: 0.1451 - accuracy: 0.9813\n",
      "Epoch 92/100\n",
      "8/8 [==============================] - 0s 5ms/step - loss: 0.0626 - accuracy: 0.9846\n",
      "Epoch 93/100\n",
      "8/8 [==============================] - 0s 6ms/step - loss: 0.1851 - accuracy: 0.9652\n",
      "Epoch 94/100\n",
      "8/8 [==============================] - 0s 6ms/step - loss: 0.0766 - accuracy: 0.9803\n",
      "Epoch 95/100\n",
      "8/8 [==============================] - 0s 7ms/step - loss: 0.1590 - accuracy: 0.9717\n",
      "Epoch 96/100\n",
      "8/8 [==============================] - 0s 5ms/step - loss: 0.0722 - accuracy: 0.9824\n",
      "Epoch 97/100\n",
      "8/8 [==============================] - 0s 7ms/step - loss: 0.1022 - accuracy: 0.9792\n",
      "Epoch 98/100\n",
      "8/8 [==============================] - 0s 6ms/step - loss: 0.0856 - accuracy: 0.9890\n",
      "Epoch 99/100\n",
      "8/8 [==============================] - 0s 6ms/step - loss: 0.0647 - accuracy: 0.9803\n",
      "Epoch 100/100\n",
      "8/8 [==============================] - 0s 6ms/step - loss: 0.0483 - accuracy: 0.9854\n"
     ]
    },
    {
     "data": {
      "text/plain": [
       "<tensorflow.python.keras.callbacks.History at 0x7fe0287bc828>"
      ]
     },
     "execution_count": 25,
     "metadata": {},
     "output_type": "execute_result"
    }
   ],
   "source": []
  },
  {
   "cell_type": "markdown",
   "id": "italic-progress",
   "metadata": {},
   "source": [
    "Now we can evaluate the model on our test data: "
   ]
  },
  {
   "cell_type": "code",
   "execution_count": null,
   "id": "based-theme",
   "metadata": {},
   "outputs": [],
   "source": []
  },
  {
   "cell_type": "markdown",
   "id": "checked-badge",
   "metadata": {},
   "source": [
    "Our model is able to correctly predict the species of a penguin based on its culmen length, culmen depth, and flipper length over 95% of the time. Not bad! Further training (by choosing more `epochs` in `model.fit` could potentially improve this further---or lead to overfitting. \n",
    "\n",
    "### Prediction Probabilities\n",
    "\n",
    "A minor annoyance is that, even after training, our model still doesn't have very interpretable outputs: "
   ]
  },
  {
   "cell_type": "code",
   "execution_count": null,
   "id": "substantial-syria",
   "metadata": {},
   "outputs": [],
   "source": []
  },
  {
   "cell_type": "markdown",
   "id": "streaming-india",
   "metadata": {},
   "source": [
    "Having trained our model, we can create a new, interpretable version by adding a Softmax layer. "
   ]
  },
  {
   "cell_type": "code",
   "execution_count": null,
   "id": "outside-gabriel",
   "metadata": {},
   "outputs": [],
   "source": []
  },
  {
   "cell_type": "code",
   "execution_count": null,
   "id": "ready-norfolk",
   "metadata": {},
   "outputs": [],
   "source": []
  },
  {
   "cell_type": "markdown",
   "id": "unavailable-equity",
   "metadata": {},
   "source": [
    "Each row now reflects the model's level of confidence that the given penguin is of the given species, which is much more interpretable. \n",
    "\n",
    "(*In case you're wondering, we don't include the Softmax layer in the model before we train it for numerical reasons*). "
   ]
  },
  {
   "cell_type": "markdown",
   "id": "banned-packing",
   "metadata": {},
   "source": [
    "## What's next? \n",
    "\n",
    "We've learned about tensors, layers, and models, and we've used a simple model to make predictions on a pretty small data set. In coming lectures, we'll ask questions like: \n",
    "\n",
    "- How can I represent text or images as tensors? \n",
    "- How can I perform classification, regression, or clustering tasks? \n",
    "- How can I interpret what my model is doing? \n",
    "- How can I speed up my model training? "
   ]
  }
 ],
 "metadata": {
  "kernelspec": {
   "display_name": "Python [conda env:PIC16B] *",
   "language": "python",
   "name": "conda-env-PIC16B-py"
  },
  "language_info": {
   "codemirror_mode": {
    "name": "ipython",
    "version": 3
   },
   "file_extension": ".py",
   "mimetype": "text/x-python",
   "name": "python",
   "nbconvert_exporter": "python",
   "pygments_lexer": "ipython3",
   "version": "3.7.1"
  }
 },
 "nbformat": 4,
 "nbformat_minor": 5
}
