{
 "cells": [
  {
   "cell_type": "markdown",
   "id": "4019ed7d",
   "metadata": {
    "colab_type": "text",
    "id": "view-in-github"
   },
   "source": [
    "<a href=\"https://colab.research.google.com/github/PhilChodrow/PIC16B/blob/master/lectures/tf/tf-5.ipynb\" target=\"_parent\"><img src=\"https://colab.research.google.com/assets/colab-badge.svg\" alt=\"Open In Colab\"/></a>"
   ]
  },
  {
   "cell_type": "markdown",
   "id": "4a6cdb3f",
   "metadata": {
    "id": "dynamic-david"
   },
   "source": [
    "# Text Generation with Recurrent Neural Networks\n",
    "\n",
    "In this set of lecture notes, we'll consider a new kind of machine learning task. Previously, we've focused on *classification* problems. In classification problems, the goal is to assign a given piece of data to one of several categories. Today, we'll instead consider a simple  *generation* problem. A *generative* model can be used to create \"realistic\" examples after it's been trained. Generative models are at the heart of machine learning topics like [deepfakes](https://en.wikipedia.org/wiki/Deepfake), [language generation](https://aiweirdness.com/post/140219420017/the-silicon-gourmet-training-a-neural-network-to), and [style transfer](https://www.tensorflow.org/tutorials/generative/style_transfer).  \n",
    "\n",
    "*Parts of these lecture notes were based on [this tutorial](https://keras.io/examples/generative/lstm_character_level_text_generation/). It is recommended to run the code contained in these notes in a Google Colab instance with GPU acceleration enabled.* "
   ]
  },
  {
   "cell_type": "code",
   "execution_count": 1,
   "id": "b87fcaf5",
   "metadata": {
    "id": "silver-invalid"
   },
   "outputs": [],
   "source": [
    "import tensorflow as tf\n",
    "from tensorflow.keras.layers.experimental import preprocessing\n",
    "from tensorflow.keras import layers\n",
    "\n",
    "import numpy as np\n",
    "from matplotlib import pyplot as plt\n",
    "import pandas as pd"
   ]
  },
  {
   "cell_type": "code",
   "execution_count": 2,
   "id": "656ab4c1",
   "metadata": {
    "colab": {
     "base_uri": "https://localhost:8080/"
    },
    "id": "lZreMMb84HNi",
    "outputId": "20119480-b3b0-48cd-c58c-40abfed6f4ab"
   },
   "outputs": [
    {
     "ename": "ModuleNotFoundError",
     "evalue": "No module named 'google.colab'",
     "output_type": "error",
     "traceback": [
      "\u001b[0;31m---------------------------------------------------------------------------\u001b[0m",
      "\u001b[0;31mModuleNotFoundError\u001b[0m                       Traceback (most recent call last)",
      "\u001b[0;32m<ipython-input-2-e294d0bc54ef>\u001b[0m in \u001b[0;36m<module>\u001b[0;34m\u001b[0m\n\u001b[1;32m      1\u001b[0m \u001b[0;31m# link to Google Drive to read in trained model\u001b[0m\u001b[0;34m\u001b[0m\u001b[0;34m\u001b[0m\u001b[0;34m\u001b[0m\u001b[0m\n\u001b[0;32m----> 2\u001b[0;31m \u001b[0;32mfrom\u001b[0m \u001b[0mgoogle\u001b[0m\u001b[0;34m.\u001b[0m\u001b[0mcolab\u001b[0m \u001b[0;32mimport\u001b[0m \u001b[0mdrive\u001b[0m\u001b[0;34m\u001b[0m\u001b[0;34m\u001b[0m\u001b[0m\n\u001b[0m\u001b[1;32m      3\u001b[0m \u001b[0mdrive\u001b[0m\u001b[0;34m.\u001b[0m\u001b[0mmount\u001b[0m\u001b[0;34m(\u001b[0m\u001b[0;34m'/content/drive'\u001b[0m\u001b[0;34m)\u001b[0m\u001b[0;34m\u001b[0m\u001b[0;34m\u001b[0m\u001b[0m\n",
      "\u001b[0;31mModuleNotFoundError\u001b[0m: No module named 'google.colab'"
     ]
    }
   ],
   "source": [
    "# link to Google Drive to read in trained model\n",
    "from google.colab import drive\n",
    "drive.mount('/content/drive')"
   ]
  },
  {
   "cell_type": "markdown",
   "id": "b0d456c1",
   "metadata": {
    "id": "headed-divorce"
   },
   "source": [
    "\n",
    "## Our Task\n",
    "\n",
    "Today, we are going to see whether we can teach an algorithm to understand and reproduce the pinnacle of cultural achievement; the benchmark against which all art is to be judged; the mirror that reveals to humany its truest self. I speak, of course, of *Star Trek: Deep Space Nine.*\n",
    "\n",
    "<figure class=\"image\" style=\"width:300px\">\n",
    "  <img src=\"https://raw.githubusercontent.com/PhilChodrow/PIC16B/master/_images/DS9.jpg\" alt=\"\">\n",
    "  <figcaption><i></i></figcaption>\n",
    "</figure>\n",
    "\n",
    "In particular, we are going to attempt to teach a neural  network to generate *episode scripts*. This a text generation task: after training, our hope is that our model will be able to create scripts that are reasonably realistic in their appearance. \n"
   ]
  },
  {
   "cell_type": "code",
   "execution_count": 3,
   "id": "87b9a233",
   "metadata": {
    "id": "intelligent-title"
   },
   "outputs": [],
   "source": [
    "## miscellaneous data cleaning\n",
    "\n",
    "start_episode = 20 # Start in Season 2, Season 1 is not very good\n",
    "num_episodes = 50  # only pick this many episodes to train on\n",
    "\n",
    "url = \"https://github.com/PhilChodrow/PIC16B/blob/master/datasets/star_trek_scripts.json?raw=true\"\n",
    "star_trek_scripts = pd.read_json(url)\n",
    "\n",
    "cleaned = star_trek_scripts[\"DS9\"].str.replace(\"\\n\\n\\n\\n\\n\\nThe Deep Space Nine Transcripts -\", \"\")\n",
    "cleaned = cleaned.str.split(\"\\n\\n\\n\\n\\n\\n\\n\").str.get(-2)\n",
    "text = \"\\n\\n\".join(cleaned[start_episode:(start_episode + num_episodes)])\n",
    "for char in ['\\xa0', 'à', 'é', \"}\", \"{\"]:\n",
    "    text = text.replace(char, \"\")"
   ]
  },
  {
   "cell_type": "markdown",
   "id": "5ca5dbc1",
   "metadata": {},
   "source": [
    "The result is one long string containing the scripts of 50 episodes of Star Trek: Deep Space 9. How glorious!"
   ]
  },
  {
   "cell_type": "code",
   "execution_count": 4,
   "id": "3f913b13",
   "metadata": {},
   "outputs": [
    {
     "data": {
      "text/plain": [
       "1570834"
      ]
     },
     "execution_count": 4,
     "metadata": {},
     "output_type": "execute_result"
    }
   ],
   "source": []
  },
  {
   "cell_type": "code",
   "execution_count": 4,
   "id": "f55b17f1",
   "metadata": {
    "colab": {
     "base_uri": "https://localhost:8080/"
    },
    "id": "clinical-generator",
    "outputId": "2a045537-227c-4ecd-a345-0c6415d89125"
   },
   "outputs": [
    {
     "name": "stdout",
     "output_type": "stream",
     "text": [
      "  Last\n",
      "time on Deep Space Nine.  \n",
      "SISKO: This is the emblem of the Alliance for Global Unity. They call\n",
      "themselves the Circle. \n",
      "O'BRIEN: What gives them the right to mess up our station? \n",
      "ODO: They're an extremist faction who believe in Bajor for the\n",
      "Bajorans. \n",
      "SISKO: I can't loan you a Starfleet runabout without knowing where you\n",
      "plan on taking it. \n",
      "KIRA: To Cardassia Four to rescue a Bajoran prisoner of war. \n",
      "(The prisoners are rescued.) \n",
      "KIRA: Come on. We have a ship waiting. \n",
      "JARO: What you \n"
     ]
    }
   ],
   "source": []
  },
  {
   "cell_type": "markdown",
   "id": "b02e991f",
   "metadata": {
    "id": "blank-smile"
   },
   "source": [
    "Our first step, as usual, is data preparation. What we need to do is format the data in such a way that we can treat the situation as a classification problem after all. That is: \n",
    "\n",
    "> Given a string of text, predict the next character in that string. \n",
    "\n",
    "Doing this repeatedly will allow the model to generate large bodies of text. \n",
    "\n",
    "To do this, we want to split our data like so: \n",
    "\n",
    "```\n",
    "predictor = \"to boldly g\"\n",
    "target    = \"o\"\n",
    "```\n",
    "\n",
    "The following function will do this for us. The `max_len` argument gives the number of characters that should be in the predictor string, and the `step_size` argument lets us skip indices if we want to in order to decrease the size of the data. "
   ]
  },
  {
   "cell_type": "code",
   "execution_count": 5,
   "id": "d427d52f",
   "metadata": {
    "id": "published-oklahoma"
   },
   "outputs": [],
   "source": []
  },
  {
   "cell_type": "code",
   "execution_count": 6,
   "id": "439c4224",
   "metadata": {
    "colab": {
     "base_uri": "https://localhost:8080/"
    },
    "id": "immediate-filling",
    "outputId": "5eac31d6-9f17-4c74-cd25-6f85cb4431dd"
   },
   "outputs": [
    {
     "name": "stdout",
     "output_type": "stream",
     "text": [
      "he emblem of the All     =>    i\n",
      "blem of the Alliance     =>     \n",
      "of the Alliance for      =>    G\n",
      "e Alliance for Globa     =>    l\n",
      "iance for Global Uni     =>    t\n"
     ]
    }
   ],
   "source": []
  },
  {
   "cell_type": "markdown",
   "id": "98290dc9",
   "metadata": {
    "id": "processed-flesh"
   },
   "source": [
    "Our next step is to vectorize the characters. This is similar to the word vectorization task, but it's simple enough in this case that's arguably more convenient to actually handle it outside of TensorFlow. It is also possible to handle vectorization using TensorFlow tools, as demonstrated in [this tutorial](https://www.tensorflow.org/tutorials/text/text_generation). "
   ]
  },
  {
   "cell_type": "code",
   "execution_count": 7,
   "id": "4808756b",
   "metadata": {
    "id": "radical-aberdeen"
   },
   "outputs": [],
   "source": [
    "# vectorization code\n",
    "\n",
    "chars = sorted(set(text))\n",
    "char_indices = {char : chars.index(char) for char in chars}\n",
    "X = np.zeros((len(lines), max_len, len(chars)))\n",
    "y = np.zeros((len(lines), 1), dtype = np.int32)\n",
    "for i, line in enumerate(lines):\n",
    "\tfor t, char in enumerate(line):\n",
    "\t\tX[i, t, char_indices[char]] = 1\n",
    "\ty[i] = char_indices[next_chars[i]]"
   ]
  },
  {
   "cell_type": "markdown",
   "id": "25635c7c",
   "metadata": {
    "id": "loaded-white"
   },
   "source": [
    "Let's take a look at the results. "
   ]
  },
  {
   "cell_type": "code",
   "execution_count": 8,
   "id": "72802240",
   "metadata": {
    "colab": {
     "base_uri": "https://localhost:8080/"
    },
    "id": "becoming-renewal",
    "outputId": "17688fb3-c491-4f25-e3f7-d896c49eff7d"
   },
   "outputs": [
    {
     "data": {
      "text/plain": [
       "((314163, 20, 78), (314163, 1))"
      ]
     },
     "execution_count": 8,
     "metadata": {
      "tags": []
     },
     "output_type": "execute_result"
    }
   ],
   "source": []
  },
  {
   "cell_type": "code",
   "execution_count": 9,
   "id": "ab956cf8",
   "metadata": {
    "colab": {
     "base_uri": "https://localhost:8080/"
    },
    "id": "divine-fancy",
    "outputId": "4f279cee-d2d0-4e50-b4eb-e66c3c00ff54"
   },
   "outputs": [
    {
     "data": {
      "text/plain": [
       "array([[0., 1., 0., ..., 0., 0., 0.],\n",
       "       [0., 1., 0., ..., 0., 0., 0.],\n",
       "       [0., 0., 0., ..., 0., 0., 0.],\n",
       "       ...,\n",
       "       [0., 0., 0., ..., 0., 0., 0.],\n",
       "       [0., 0., 0., ..., 0., 0., 0.],\n",
       "       [0., 1., 0., ..., 0., 0., 0.]])"
      ]
     },
     "execution_count": 9,
     "metadata": {
      "tags": []
     },
     "output_type": "execute_result"
    }
   ],
   "source": []
  },
  {
   "cell_type": "markdown",
   "id": "1b55cdc6",
   "metadata": {},
   "source": [
    "What does this matrix say? `X[0]` is a single sequence of 20 characters. The first row says that the first character of this sequence is the character corresponding to integer `1`. The second row says that the second character corresponds to integer `1`, and so on (`1` is the space character `\" \"`, in case you're wondering).  "
   ]
  },
  {
   "cell_type": "code",
   "execution_count": 10,
   "id": "c28265e0",
   "metadata": {
    "colab": {
     "base_uri": "https://localhost:8080/"
    },
    "id": "express-ambassador",
    "outputId": "3ff51377-230e-4eee-c545-6d09125f9b41"
   },
   "outputs": [
    {
     "data": {
      "text/plain": [
       "array([42], dtype=int32)"
      ]
     },
     "execution_count": 10,
     "metadata": {
      "tags": []
     },
     "output_type": "execute_result"
    }
   ],
   "source": []
  },
  {
   "cell_type": "markdown",
   "id": "e2584fc6",
   "metadata": {},
   "source": [
    "This says that the 21st character (the character after the first 20 characters of the string) is the character with index `42`. "
   ]
  },
  {
   "cell_type": "markdown",
   "id": "8266e9d4",
   "metadata": {
    "id": "fourth-hampshire"
   },
   "source": [
    "Now we're ready to perform a train-test split: "
   ]
  },
  {
   "cell_type": "code",
   "execution_count": 11,
   "id": "bb436dbe",
   "metadata": {
    "id": "limiting-evans"
   },
   "outputs": [],
   "source": []
  },
  {
   "cell_type": "markdown",
   "id": "fcc9d669",
   "metadata": {
    "id": "fantastic-treasurer"
   },
   "source": [
    "## Modeling\n",
    "\n",
    "Model time! We'll use a simple *Long Short-Term Memory* (LSTM) model for this example. LSTMs are one example of *recurrent* neural network layers. Here's a diagram illustrating the schematic functioning of a recurrent layer. \n",
    "\n",
    "![](https://colah.github.io/posts/2015-08-Understanding-LSTMs/img/RNN-unrolled.png)\n",
    "*Image credit: [Chris Olah](https://colah.github.io/posts/2015-08-Understanding-LSTMs/), OpenAI*\n",
    "\n",
    "On the lefthand side, we have a \"zoomed out\" picture of a recurrent neural network layer. On the righthand side, we see the \"zoomed in\" version. The key point here is that output $h_2$ depends not only on input $x_2$, but also, indirectly, on inputs $x_0$ and $x_1$. This means that recurrent neural networks are highly suitable for modeling processes that have temporal structure. Text is an example: the last few characters are the \"history\" of the text. Timeseries data are another clear example, and indeed, we can use a very similar workflow to the one we'll use today in order to do forecasting in timeseries. \n",
    "\n",
    "Since training for this kind of task gets expensive fast, we'll use just one LSTM layer followed by a `Dense` output layer. "
   ]
  },
  {
   "cell_type": "code",
   "execution_count": 12,
   "id": "5e1f8600",
   "metadata": {
    "id": "alleged-stephen"
   },
   "outputs": [],
   "source": []
  },
  {
   "cell_type": "code",
   "execution_count": 13,
   "id": "4fe229e3",
   "metadata": {
    "id": "imported-syntax"
   },
   "outputs": [],
   "source": []
  },
  {
   "cell_type": "markdown",
   "id": "ef4dc531",
   "metadata": {
    "id": "third-primary"
   },
   "source": [
    "Time for training. We'll do just one epoch for now, mostly just to prove that we've set up our model correctly. "
   ]
  },
  {
   "cell_type": "code",
   "execution_count": 14,
   "id": "f8c3d5f7",
   "metadata": {
    "colab": {
     "base_uri": "https://localhost:8080/"
    },
    "id": "sensitive-senior",
    "outputId": "9dfdd9bf-aabd-405a-b555-355c2b6fcff9"
   },
   "outputs": [
    {
     "name": "stdout",
     "output_type": "stream",
     "text": [
      "1719/1719 [==============================] - 42s 6ms/step - loss: 2.9706 - val_loss: 2.1960\n"
     ]
    },
    {
     "data": {
      "text/plain": [
       "<tensorflow.python.keras.callbacks.History at 0x7f0570484f10>"
      ]
     },
     "execution_count": 14,
     "metadata": {
      "tags": []
     },
     "output_type": "execute_result"
    }
   ],
   "source": [
    "# code I used to train and save the model\n",
    "# model.fit(X_train, \n",
    "#           y_train,\n",
    "#           validation_data= (X_val, y_val),\n",
    "#           batch_size=128, epochs = 200)\n",
    "# model.save('/content/drive/MyDrive/DS9_model') \n",
    "\n"
   ]
  },
  {
   "cell_type": "markdown",
   "id": "51df40ff",
   "metadata": {
    "id": "blond-tradition"
   },
   "source": [
    "Rather than training the entire model live during lecture, I'm instead going to load in a saved model that I previously trained for 200 epochs on Google Colab. On Colab, each epoch takes around 10s or so. 200 epochs corresponds to roughly 30 minutes. "
   ]
  },
  {
   "cell_type": "code",
   "execution_count": 15,
   "id": "84ca2f6a",
   "metadata": {
    "id": "equal-seattle"
   },
   "outputs": [],
   "source": [
    "model = tf.keras.models.load_model('/content/drive/MyDrive/DS9_model')"
   ]
  },
  {
   "cell_type": "markdown",
   "id": "d4801965",
   "metadata": {
    "id": "acquired-trout"
   },
   "source": [
    "Generative models define *probability distributions* over the space of possible outputs. So, our overall algorithm is going to generate new text in a partially randomized way. To make this happen, we define a `sample` function which will take the model outputs, turn them into probabilities, and then sample from the probabilities to produce a single character (well, technically, an integer corresponding to a single character). \n",
    "\n",
    "An important parameter here is the so-called *temperature* (this terminology comes from statistical physics. When the temperature is high, the model will more frequently choose low-probability characters. This is sometimes interpreted as \"creativity,\" and leads to more unpredictable outputs. When the temperature is low, on the other hand, the model will \"play it safe\" and tend to stick to known patterns. In the extreme limiting case as the temperature approaches 0, the model will ultimately get stuck in \"loops\" in which it repeats common phrases over and over again. \n",
    "\n",
    "I'm not going to dwell on the math here, but if you're familiar with phrases like \"softmax\" or \"Boltzmann distribution,\" this code implements and samples from such a distribution using the model predictions."
   ]
  },
  {
   "cell_type": "code",
   "execution_count": 16,
   "id": "d3d0f50d",
   "metadata": {
    "id": "joined-population"
   },
   "outputs": [],
   "source": []
  },
  {
   "cell_type": "markdown",
   "id": "2e0f260a",
   "metadata": {
    "id": "suited-tunnel"
   },
   "source": [
    "Note that this function takes in some model predictions and returns a single integer, which we can interpret as a character. \n",
    "\n",
    "Now that we know how to sample from the model predictions to create a new character, let's now define a convenient function that will allow us to create entire strings of specified length using this process. There's some index management here that can be a little tricky. "
   ]
  },
  {
   "cell_type": "code",
   "execution_count": 17,
   "id": "243cb463",
   "metadata": {
    "id": "floating-yacht"
   },
   "outputs": [],
   "source": []
  },
  {
   "cell_type": "markdown",
   "id": "b5c7cd47",
   "metadata": {
    "id": "chinese-trauma"
   },
   "source": [
    "Let's try it out! We'll create strings of length 500, separating the real seed text from the generated text. We'll also vary the temperature parameter of the `sample()` function, which controls how random the model's predictions can be. "
   ]
  },
  {
   "cell_type": "code",
   "execution_count": 18,
   "id": "6130eea5",
   "metadata": {
    "colab": {
     "base_uri": "https://localhost:8080/"
    },
    "id": "presidential-depression",
    "outputId": "51c483d8-c6a8-4b79-910e-c91081a7ec5c"
   },
   "outputs": [
    {
     "name": "stdout",
     "output_type": "stream",
     "text": [
      "----\n",
      "TEMPERATURE: 0.01\n",
      "tioning. \n",
      "KIRA: No p => rourcted to know why it was the station? \n",
      "KIRA: I think the computer datages and you know her. \n",
      "BASHIR: Oh, nothing that I've had to set in the conduines. \n",
      "SISKO: There is one that you'd be the wormhole. I don't know what we're going to make me tries to realise. I don't know. \n",
      "SISKO: We've been have the station. \n",
      "ODO: It's transpuse and the one was to get the pating show you? \n",
      "KIRA: Commander, I decimet had looking for the system. \n",
      "KIRA: Oh, did hates, you're a ship. \n",
      "DAX: I'm not sure our senso \n",
      "----\n",
      "TEMPERATURE: 0.02\n",
      "tioning. \n",
      "KIRA: No p => roblem still a/radget it. \n",
      "O'BRIEN: Majon. \n",
      "ODO: I say the desien lyve you have to be a ship. \n",
      "ODO: She was wrong. \n",
      "KIRA: Loog make state want to have a little move on our engine\n",
      "never to get anything. \n",
      "ODO: Oh, don't you, I know he were to do about? \n",
      "KEIKO: I think the one who kind of anymoly. \n",
      "DAX: You must have been trying to have to do for up in resupences, but you know that. \n",
      "O'BRIEN: What was hat of the Federation of a big privintuation of the straighty believes. \n",
      "SISKO: I don't know that  \n",
      "----\n",
      "TEMPERATURE: 0.03\n",
      "tioning. \n",
      "KIRA: No p => roblem still and with the Dominion. \n",
      "KIRA: I don't like me to keep him. \n",
      "KIRA: You knew I was the engine on the station Kaik to the other few to the station of the very reporsed and uppersed the station traffit \n",
      "SISKO: Go are relay, I want to take you were surpreate securet. \n",
      "ODO: When the Federation and some personstine of : Alrine him of the shipsed five heading to hat you, Commander, I have a ready. If you prous . \n",
      "ODO: I think you're get your (when I middanterer's onee said the station to be \n",
      "----\n",
      "TEMPERATURE: 0.04\n",
      "tioning. \n",
      "KIRA: No p => roblem still and information to some mideray. As I'm and sire the shuth. \n",
      "SISKO: I7 seroudd it to take back. \n",
      "SISKO: I don't know that the transtons, we're becoust her against her shipt it start on the ship. \n",
      "DAX: I'm not sure our sensors areved. \n",
      "KIRA: They're not and the one whose nace like a lot of the Cardassian zones to be axpose. \n",
      "O'BRIEN: How clossed you are an Epporess a long has aga.) \n",
      "KIRA: Then we've been before to kelier the house is out of the replions erer\n",
      "for to come unicery back  \n",
      "----\n",
      "TEMPERATURE: 0.05\n",
      "tioning. \n",
      "KIRA: No p => roblem svirty fire how a reading and the Dominion stousing better. \n",
      "QUARK: Ones enother Ender.) \n",
      "SISKO: Oh, do5ars pressages. \n",
      "BASHIR: Commander. I think the computer Rozakat. \n",
      "DAX: lites it quadter. \n",
      "O'BRIEN: They're talking. \n",
      "NATIMA: I think you're not surondwate. \n",
      "O'BRIEN: They maybal I isomine that ? \n",
      "/EM: ARlious. \n",
      "(Shohoustar dabs before thatLa lirting to the damazia.) \n",
      "plere there in the station with the conduital subspiginan and  un on ! \n",
      "DERAL: Ha! \n",
      "KEIKO: You know I'd be recend the tru \n"
     ]
    }
   ],
   "source": []
  },
  {
   "cell_type": "markdown",
   "id": "be90aa89",
   "metadata": {
    "id": "dirty-outside"
   },
   "source": [
    "Let's make a few observations. \n",
    "\n",
    "1. First of all, it can take a surprisingly long time to make predictions using our model. This is because we have to call the `predict()` method *for each character*, in order to ensure that the model appropriately takes into account its recent predictions. This can take a pretty long time! \n",
    "2. Second, determining a good value for the temperature can take some experimentation. Note that low temperatures don't necessarily correspond to \"more realistic\" text -- they just correspond to highlighting common patterns in the text, possibly in excess. Higher temperatures also don't necessarily correspond to a \"creative\" algorithm in any normal sense of the word -- set the temperature too high, and you'll just get gibberish. \n",
    "\n",
    "## Specialization\n",
    "\n",
    "In this case, we were able to create a model for generating Star Trek scripts using an instance of Google Colab in roughly 30 minutes. This model is highly limited. Although it clearly has learned some relevant features of Star Trek scripts, there's no way that you'd mistake the output of the model for an actual script by a screenwriter. Considering how hard this was, imagine how much effort and computational resources are required to create more general language models! Indeed, as highlighted in a [recent and controversial paper](https://faculty.washington.edu/ebender/papers/Stochastic_Parrots.pdf), training large language models in this day and age can require energy expenditure comparable to a trans-Atlantic flight! "
   ]
  }
 ],
 "metadata": {
  "accelerator": "GPU",
  "colab": {
   "collapsed_sections": [],
   "include_colab_link": true,
   "name": "RNN.ipynb",
   "provenance": []
  },
  "kernelspec": {
   "display_name": "Python [conda env:PIC16B] *",
   "language": "python",
   "name": "conda-env-PIC16B-py"
  },
  "language_info": {
   "codemirror_mode": {
    "name": "ipython",
    "version": 3
   },
   "file_extension": ".py",
   "mimetype": "text/x-python",
   "name": "python",
   "nbconvert_exporter": "python",
   "pygments_lexer": "ipython3",
   "version": "3.7.1"
  }
 },
 "nbformat": 4,
 "nbformat_minor": 5
}
